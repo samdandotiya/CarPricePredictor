{
 "cells": [
  {
   "cell_type": "code",
   "execution_count": 1,
   "id": "c51cd12c",
   "metadata": {},
   "outputs": [],
   "source": [
    "import pandas as pd\n",
    "import numpy as np\n",
    "import matplotlib.pyplot as plt\n",
    "import seaborn as sns"
   ]
  },
  {
   "cell_type": "code",
   "execution_count": 2,
   "id": "e7deeea6",
   "metadata": {},
   "outputs": [
    {
     "data": {
      "text/html": [
       "<div>\n",
       "<style scoped>\n",
       "    .dataframe tbody tr th:only-of-type {\n",
       "        vertical-align: middle;\n",
       "    }\n",
       "\n",
       "    .dataframe tbody tr th {\n",
       "        vertical-align: top;\n",
       "    }\n",
       "\n",
       "    .dataframe thead th {\n",
       "        text-align: right;\n",
       "    }\n",
       "</style>\n",
       "<table border=\"1\" class=\"dataframe\">\n",
       "  <thead>\n",
       "    <tr style=\"text-align: right;\">\n",
       "      <th></th>\n",
       "      <th>ID</th>\n",
       "      <th>Price</th>\n",
       "      <th>Levy</th>\n",
       "      <th>Manufacturer</th>\n",
       "      <th>Model</th>\n",
       "      <th>Prod. year</th>\n",
       "      <th>Category</th>\n",
       "      <th>Leather interior</th>\n",
       "      <th>Fuel type</th>\n",
       "      <th>Engine volume</th>\n",
       "      <th>Mileage</th>\n",
       "      <th>Cylinders</th>\n",
       "      <th>Gear box type</th>\n",
       "      <th>Drive wheels</th>\n",
       "      <th>Doors</th>\n",
       "      <th>Wheel</th>\n",
       "      <th>Color</th>\n",
       "      <th>Airbags</th>\n",
       "    </tr>\n",
       "  </thead>\n",
       "  <tbody>\n",
       "    <tr>\n",
       "      <th>0</th>\n",
       "      <td>45654403</td>\n",
       "      <td>13328</td>\n",
       "      <td>1399</td>\n",
       "      <td>LEXUS</td>\n",
       "      <td>RX 450</td>\n",
       "      <td>2010</td>\n",
       "      <td>Jeep</td>\n",
       "      <td>Yes</td>\n",
       "      <td>Hybrid</td>\n",
       "      <td>3.5</td>\n",
       "      <td>186005 km</td>\n",
       "      <td>6.0</td>\n",
       "      <td>Automatic</td>\n",
       "      <td>4x4</td>\n",
       "      <td>04-May</td>\n",
       "      <td>Left wheel</td>\n",
       "      <td>Silver</td>\n",
       "      <td>12</td>\n",
       "    </tr>\n",
       "    <tr>\n",
       "      <th>1</th>\n",
       "      <td>44731507</td>\n",
       "      <td>16621</td>\n",
       "      <td>1018</td>\n",
       "      <td>CHEVROLET</td>\n",
       "      <td>Equinox</td>\n",
       "      <td>2011</td>\n",
       "      <td>Jeep</td>\n",
       "      <td>No</td>\n",
       "      <td>Petrol</td>\n",
       "      <td>3</td>\n",
       "      <td>192000 km</td>\n",
       "      <td>6.0</td>\n",
       "      <td>Tiptronic</td>\n",
       "      <td>4x4</td>\n",
       "      <td>04-May</td>\n",
       "      <td>Left wheel</td>\n",
       "      <td>Black</td>\n",
       "      <td>8</td>\n",
       "    </tr>\n",
       "    <tr>\n",
       "      <th>2</th>\n",
       "      <td>45774419</td>\n",
       "      <td>8467</td>\n",
       "      <td>-</td>\n",
       "      <td>HONDA</td>\n",
       "      <td>FIT</td>\n",
       "      <td>2006</td>\n",
       "      <td>Hatchback</td>\n",
       "      <td>No</td>\n",
       "      <td>Petrol</td>\n",
       "      <td>1.3</td>\n",
       "      <td>200000 km</td>\n",
       "      <td>4.0</td>\n",
       "      <td>Variator</td>\n",
       "      <td>Front</td>\n",
       "      <td>04-May</td>\n",
       "      <td>Right-hand drive</td>\n",
       "      <td>Black</td>\n",
       "      <td>2</td>\n",
       "    </tr>\n",
       "    <tr>\n",
       "      <th>3</th>\n",
       "      <td>45769185</td>\n",
       "      <td>3607</td>\n",
       "      <td>862</td>\n",
       "      <td>FORD</td>\n",
       "      <td>Escape</td>\n",
       "      <td>2011</td>\n",
       "      <td>Jeep</td>\n",
       "      <td>Yes</td>\n",
       "      <td>Hybrid</td>\n",
       "      <td>2.5</td>\n",
       "      <td>168966 km</td>\n",
       "      <td>4.0</td>\n",
       "      <td>Automatic</td>\n",
       "      <td>4x4</td>\n",
       "      <td>04-May</td>\n",
       "      <td>Left wheel</td>\n",
       "      <td>White</td>\n",
       "      <td>0</td>\n",
       "    </tr>\n",
       "    <tr>\n",
       "      <th>4</th>\n",
       "      <td>45809263</td>\n",
       "      <td>11726</td>\n",
       "      <td>446</td>\n",
       "      <td>HONDA</td>\n",
       "      <td>FIT</td>\n",
       "      <td>2014</td>\n",
       "      <td>Hatchback</td>\n",
       "      <td>Yes</td>\n",
       "      <td>Petrol</td>\n",
       "      <td>1.3</td>\n",
       "      <td>91901 km</td>\n",
       "      <td>4.0</td>\n",
       "      <td>Automatic</td>\n",
       "      <td>Front</td>\n",
       "      <td>04-May</td>\n",
       "      <td>Left wheel</td>\n",
       "      <td>Silver</td>\n",
       "      <td>4</td>\n",
       "    </tr>\n",
       "  </tbody>\n",
       "</table>\n",
       "</div>"
      ],
      "text/plain": [
       "         ID  Price  Levy Manufacturer    Model  Prod. year   Category  \\\n",
       "0  45654403  13328  1399        LEXUS   RX 450        2010       Jeep   \n",
       "1  44731507  16621  1018    CHEVROLET  Equinox        2011       Jeep   \n",
       "2  45774419   8467     -        HONDA      FIT        2006  Hatchback   \n",
       "3  45769185   3607   862         FORD   Escape        2011       Jeep   \n",
       "4  45809263  11726   446        HONDA      FIT        2014  Hatchback   \n",
       "\n",
       "  Leather interior Fuel type Engine volume    Mileage  Cylinders  \\\n",
       "0              Yes    Hybrid           3.5  186005 km        6.0   \n",
       "1               No    Petrol             3  192000 km        6.0   \n",
       "2               No    Petrol           1.3  200000 km        4.0   \n",
       "3              Yes    Hybrid           2.5  168966 km        4.0   \n",
       "4              Yes    Petrol           1.3   91901 km        4.0   \n",
       "\n",
       "  Gear box type Drive wheels   Doors             Wheel   Color  Airbags  \n",
       "0     Automatic          4x4  04-May        Left wheel  Silver       12  \n",
       "1     Tiptronic          4x4  04-May        Left wheel   Black        8  \n",
       "2      Variator        Front  04-May  Right-hand drive   Black        2  \n",
       "3     Automatic          4x4  04-May        Left wheel   White        0  \n",
       "4     Automatic        Front  04-May        Left wheel  Silver        4  "
      ]
     },
     "execution_count": 2,
     "metadata": {},
     "output_type": "execute_result"
    }
   ],
   "source": [
    "df = pd.read_csv(\"train.csv\")\n",
    "df.head()"
   ]
  },
  {
   "cell_type": "code",
   "execution_count": 3,
   "id": "4652a0b7",
   "metadata": {},
   "outputs": [
    {
     "data": {
      "text/plain": [
       "(19237, 18)"
      ]
     },
     "execution_count": 3,
     "metadata": {},
     "output_type": "execute_result"
    }
   ],
   "source": [
    "df.shape"
   ]
  },
  {
   "cell_type": "markdown",
   "id": "e3c77ca2",
   "metadata": {},
   "source": [
    "# Preprocessing"
   ]
  },
  {
   "cell_type": "code",
   "execution_count": 4,
   "id": "448b4118",
   "metadata": {},
   "outputs": [
    {
     "data": {
      "text/plain": [
       "(18924, 18)"
      ]
     },
     "execution_count": 4,
     "metadata": {},
     "output_type": "execute_result"
    }
   ],
   "source": [
    "df.drop_duplicates(inplace=True)\n",
    "df.shape"
   ]
  },
  {
   "cell_type": "code",
   "execution_count": 5,
   "id": "4dea46aa",
   "metadata": {},
   "outputs": [
    {
     "data": {
      "text/plain": [
       "(18016, 18)"
      ]
     },
     "execution_count": 5,
     "metadata": {},
     "output_type": "execute_result"
    }
   ],
   "source": [
    "df2 = df[df[\"Price\"]<50000]\n",
    "df2.reset_index(inplace = True, drop = True)\n",
    "df2.shape"
   ]
  },
  {
   "cell_type": "markdown",
   "id": "50f4fbca",
   "metadata": {},
   "source": [
    "## Cleaning Engine Volume"
   ]
  },
  {
   "cell_type": "code",
   "execution_count": 6,
   "id": "9484e1a2",
   "metadata": {},
   "outputs": [],
   "source": [
    "def Eng_Vol2(df3):\n",
    "    turbo = []\n",
    "    Engine_Volume = []\n",
    "    for vol in df3[\"Engine volume\"]:\n",
    "        if len(vol)>4:\n",
    "            turbo.append(1)\n",
    "            vol = vol[0:3]\n",
    "            Engine_Volume.append(float(vol))\n",
    "        else:\n",
    "            turbo.append(0)\n",
    "            Engine_Volume.append(float(vol))\n",
    "            \n",
    "    df3.drop(columns = \"Engine volume\", inplace = True)\n",
    "    df3[\"Engine volume\"] = Engine_Volume\n",
    "    df3[\"Turbo\"] = turbo\n",
    "    return df3 "
   ]
  },
  {
   "cell_type": "markdown",
   "id": "b8bc5350",
   "metadata": {},
   "source": [
    "## Cleaning Mileage"
   ]
  },
  {
   "cell_type": "code",
   "execution_count": 7,
   "id": "682b6d7a",
   "metadata": {},
   "outputs": [],
   "source": [
    "def mileage(df3):\n",
    "    mile = []\n",
    "    for mil in df3[\"Mileage\"]:\n",
    "        mil = mil[0:-3]\n",
    "        mile.append(int(mil))\n",
    "\n",
    "    df3.drop(columns = \"Mileage\", inplace = True)\n",
    "    df3[\"Mileage\"] = mile\n",
    "    return df3"
   ]
  },
  {
   "cell_type": "markdown",
   "id": "593b2e9a",
   "metadata": {},
   "source": [
    "## Dropping ID and Cleaning Levy "
   ]
  },
  {
   "cell_type": "code",
   "execution_count": 8,
   "id": "8ebbc346",
   "metadata": {},
   "outputs": [],
   "source": [
    "def drop_ID_n_clean_levy(df3):\n",
    "    df3.drop(columns = \"ID\", inplace = True)\n",
    "    df3[\"Levy\"].replace(to_replace='-', value = np.nan, inplace = True)\n",
    "    df3[\"Levy\"] = pd.to_numeric(df3[\"Levy\"])\n",
    "    Levy_median = df3[\"Levy\"].median()\n",
    "    df3[\"Levy\"].fillna(Levy_median, inplace = True )\n",
    "    return df3, Levy_median"
   ]
  },
  {
   "cell_type": "code",
   "execution_count": 9,
   "id": "3ca41a7b",
   "metadata": {
    "scrolled": true
   },
   "outputs": [
    {
     "name": "stderr",
     "output_type": "stream",
     "text": [
      "C:\\Ana\\lib\\site-packages\\pandas\\core\\frame.py:4308: SettingWithCopyWarning: \n",
      "A value is trying to be set on a copy of a slice from a DataFrame\n",
      "\n",
      "See the caveats in the documentation: https://pandas.pydata.org/pandas-docs/stable/user_guide/indexing.html#returning-a-view-versus-a-copy\n",
      "  return super().drop(\n",
      "<ipython-input-6-fbbcc2efe004>:14: SettingWithCopyWarning: \n",
      "A value is trying to be set on a copy of a slice from a DataFrame.\n",
      "Try using .loc[row_indexer,col_indexer] = value instead\n",
      "\n",
      "See the caveats in the documentation: https://pandas.pydata.org/pandas-docs/stable/user_guide/indexing.html#returning-a-view-versus-a-copy\n",
      "  df3[\"Engine volume\"] = Engine_Volume\n",
      "<ipython-input-6-fbbcc2efe004>:15: SettingWithCopyWarning: \n",
      "A value is trying to be set on a copy of a slice from a DataFrame.\n",
      "Try using .loc[row_indexer,col_indexer] = value instead\n",
      "\n",
      "See the caveats in the documentation: https://pandas.pydata.org/pandas-docs/stable/user_guide/indexing.html#returning-a-view-versus-a-copy\n",
      "  df3[\"Turbo\"] = turbo\n",
      "<ipython-input-7-a2613a634425>:8: SettingWithCopyWarning: \n",
      "A value is trying to be set on a copy of a slice from a DataFrame.\n",
      "Try using .loc[row_indexer,col_indexer] = value instead\n",
      "\n",
      "See the caveats in the documentation: https://pandas.pydata.org/pandas-docs/stable/user_guide/indexing.html#returning-a-view-versus-a-copy\n",
      "  df3[\"Mileage\"] = mile\n",
      "C:\\Ana\\lib\\site-packages\\pandas\\core\\series.py:4509: SettingWithCopyWarning: \n",
      "A value is trying to be set on a copy of a slice from a DataFrame\n",
      "\n",
      "See the caveats in the documentation: https://pandas.pydata.org/pandas-docs/stable/user_guide/indexing.html#returning-a-view-versus-a-copy\n",
      "  return super().replace(\n",
      "<ipython-input-8-fc31ce8eda98>:4: SettingWithCopyWarning: \n",
      "A value is trying to be set on a copy of a slice from a DataFrame.\n",
      "Try using .loc[row_indexer,col_indexer] = value instead\n",
      "\n",
      "See the caveats in the documentation: https://pandas.pydata.org/pandas-docs/stable/user_guide/indexing.html#returning-a-view-versus-a-copy\n",
      "  df3[\"Levy\"] = pd.to_numeric(df3[\"Levy\"])\n",
      "C:\\Ana\\lib\\site-packages\\pandas\\core\\series.py:4463: SettingWithCopyWarning: \n",
      "A value is trying to be set on a copy of a slice from a DataFrame\n",
      "\n",
      "See the caveats in the documentation: https://pandas.pydata.org/pandas-docs/stable/user_guide/indexing.html#returning-a-view-versus-a-copy\n",
      "  return super().fillna(\n"
     ]
    },
    {
     "data": {
      "text/html": [
       "<div>\n",
       "<style scoped>\n",
       "    .dataframe tbody tr th:only-of-type {\n",
       "        vertical-align: middle;\n",
       "    }\n",
       "\n",
       "    .dataframe tbody tr th {\n",
       "        vertical-align: top;\n",
       "    }\n",
       "\n",
       "    .dataframe thead th {\n",
       "        text-align: right;\n",
       "    }\n",
       "</style>\n",
       "<table border=\"1\" class=\"dataframe\">\n",
       "  <thead>\n",
       "    <tr style=\"text-align: right;\">\n",
       "      <th></th>\n",
       "      <th>Price</th>\n",
       "      <th>Levy</th>\n",
       "      <th>Prod. year</th>\n",
       "      <th>Cylinders</th>\n",
       "      <th>Airbags</th>\n",
       "      <th>Engine volume</th>\n",
       "      <th>Turbo</th>\n",
       "      <th>Mileage</th>\n",
       "    </tr>\n",
       "  </thead>\n",
       "  <tbody>\n",
       "    <tr>\n",
       "      <th>count</th>\n",
       "      <td>18016.000000</td>\n",
       "      <td>18016.000000</td>\n",
       "      <td>18016.000000</td>\n",
       "      <td>18016.000000</td>\n",
       "      <td>18016.000000</td>\n",
       "      <td>18016.000000</td>\n",
       "      <td>18016.000000</td>\n",
       "      <td>1.801600e+04</td>\n",
       "    </tr>\n",
       "    <tr>\n",
       "      <th>mean</th>\n",
       "      <td>14322.872003</td>\n",
       "      <td>859.321214</td>\n",
       "      <td>2010.695215</td>\n",
       "      <td>4.544738</td>\n",
       "      <td>6.564887</td>\n",
       "      <td>2.277825</td>\n",
       "      <td>0.092362</td>\n",
       "      <td>1.629709e+06</td>\n",
       "    </tr>\n",
       "    <tr>\n",
       "      <th>std</th>\n",
       "      <td>11758.530068</td>\n",
       "      <td>390.710590</td>\n",
       "      <td>5.615763</td>\n",
       "      <td>1.157580</td>\n",
       "      <td>4.320148</td>\n",
       "      <td>0.856101</td>\n",
       "      <td>0.289545</td>\n",
       "      <td>5.001581e+07</td>\n",
       "    </tr>\n",
       "    <tr>\n",
       "      <th>min</th>\n",
       "      <td>1.000000</td>\n",
       "      <td>87.000000</td>\n",
       "      <td>1939.000000</td>\n",
       "      <td>1.000000</td>\n",
       "      <td>0.000000</td>\n",
       "      <td>0.000000</td>\n",
       "      <td>0.000000</td>\n",
       "      <td>0.000000e+00</td>\n",
       "    </tr>\n",
       "    <tr>\n",
       "      <th>25%</th>\n",
       "      <td>4861.000000</td>\n",
       "      <td>707.000000</td>\n",
       "      <td>2009.000000</td>\n",
       "      <td>4.000000</td>\n",
       "      <td>4.000000</td>\n",
       "      <td>1.800000</td>\n",
       "      <td>0.000000</td>\n",
       "      <td>7.400000e+04</td>\n",
       "    </tr>\n",
       "    <tr>\n",
       "      <th>50%</th>\n",
       "      <td>12500.000000</td>\n",
       "      <td>779.000000</td>\n",
       "      <td>2012.000000</td>\n",
       "      <td>4.000000</td>\n",
       "      <td>6.000000</td>\n",
       "      <td>2.000000</td>\n",
       "      <td>0.000000</td>\n",
       "      <td>1.299945e+05</td>\n",
       "    </tr>\n",
       "    <tr>\n",
       "      <th>75%</th>\n",
       "      <td>20385.000000</td>\n",
       "      <td>891.000000</td>\n",
       "      <td>2014.000000</td>\n",
       "      <td>4.000000</td>\n",
       "      <td>12.000000</td>\n",
       "      <td>2.500000</td>\n",
       "      <td>0.000000</td>\n",
       "      <td>1.905490e+05</td>\n",
       "    </tr>\n",
       "    <tr>\n",
       "      <th>max</th>\n",
       "      <td>49889.000000</td>\n",
       "      <td>11714.000000</td>\n",
       "      <td>2020.000000</td>\n",
       "      <td>16.000000</td>\n",
       "      <td>16.000000</td>\n",
       "      <td>20.000000</td>\n",
       "      <td>1.000000</td>\n",
       "      <td>2.147484e+09</td>\n",
       "    </tr>\n",
       "  </tbody>\n",
       "</table>\n",
       "</div>"
      ],
      "text/plain": [
       "              Price          Levy    Prod. year     Cylinders       Airbags  \\\n",
       "count  18016.000000  18016.000000  18016.000000  18016.000000  18016.000000   \n",
       "mean   14322.872003    859.321214   2010.695215      4.544738      6.564887   \n",
       "std    11758.530068    390.710590      5.615763      1.157580      4.320148   \n",
       "min        1.000000     87.000000   1939.000000      1.000000      0.000000   \n",
       "25%     4861.000000    707.000000   2009.000000      4.000000      4.000000   \n",
       "50%    12500.000000    779.000000   2012.000000      4.000000      6.000000   \n",
       "75%    20385.000000    891.000000   2014.000000      4.000000     12.000000   \n",
       "max    49889.000000  11714.000000   2020.000000     16.000000     16.000000   \n",
       "\n",
       "       Engine volume         Turbo       Mileage  \n",
       "count   18016.000000  18016.000000  1.801600e+04  \n",
       "mean        2.277825      0.092362  1.629709e+06  \n",
       "std         0.856101      0.289545  5.001581e+07  \n",
       "min         0.000000      0.000000  0.000000e+00  \n",
       "25%         1.800000      0.000000  7.400000e+04  \n",
       "50%         2.000000      0.000000  1.299945e+05  \n",
       "75%         2.500000      0.000000  1.905490e+05  \n",
       "max        20.000000      1.000000  2.147484e+09  "
      ]
     },
     "execution_count": 9,
     "metadata": {},
     "output_type": "execute_result"
    }
   ],
   "source": [
    "df2 = Eng_Vol2(df2)\n",
    "df2 = mileage(df2)\n",
    "df2, Levy_median = drop_ID_n_clean_levy(df2)\n",
    "df2.describe()\n"
   ]
  },
  {
   "cell_type": "code",
   "execution_count": null,
   "id": "05ca7196",
   "metadata": {},
   "outputs": [],
   "source": []
  },
  {
   "cell_type": "markdown",
   "id": "483521e6",
   "metadata": {},
   "source": [
    "## Target Encoding"
   ]
  },
  {
   "cell_type": "code",
   "execution_count": 10,
   "id": "36cb35de",
   "metadata": {},
   "outputs": [],
   "source": [
    "def target_encoding(df3, categ_var):\n",
    "    df4=df3\n",
    "    enc_dict = {}\n",
    "    for var in categ_var:\n",
    "        encodings = df4.groupby(var)['Price'].median().reset_index()\n",
    "        df4 = df4.merge(encodings, how='left', on=var)\n",
    "        df4.drop(var, axis=1, inplace=True)\n",
    "        df4.rename(columns = {\"Price_y\": var + \"_enc\", \"Price_x\": \"Price\"}, inplace = True) \n",
    "        enc_dict[var] = encodings\n",
    "    return df4, enc_dict"
   ]
  },
  {
   "cell_type": "code",
   "execution_count": 11,
   "id": "512c292f",
   "metadata": {},
   "outputs": [],
   "source": [
    "def OneHot_encoding(df3, categ):\n",
    "    \n",
    "    df4 = df3\n",
    "    dummy = pd.get_dummies(df4[categ])\n",
    "    #df4 = df4.drop(columns = categ, axis=1)\n",
    "    df4=pd.concat((df4,dummy),axis=1)\n",
    "        \n",
    "    return df4"
   ]
  },
  {
   "cell_type": "markdown",
   "id": "58eea98b",
   "metadata": {},
   "source": [
    "## Handling Leather interior"
   ]
  },
  {
   "cell_type": "code",
   "execution_count": 12,
   "id": "39cc70af",
   "metadata": {},
   "outputs": [],
   "source": [
    "#For Leather Interiors\n",
    "def LI(df4):\n",
    "    df4[\"Leather interior\"].replace({\"Yes\":1, \"No\":0}, inplace = True)\n",
    "    return df4"
   ]
  },
  {
   "cell_type": "code",
   "execution_count": 13,
   "id": "ff2b11fd",
   "metadata": {
    "scrolled": true
   },
   "outputs": [
    {
     "name": "stderr",
     "output_type": "stream",
     "text": [
      "C:\\Ana\\lib\\site-packages\\pandas\\core\\series.py:4509: SettingWithCopyWarning: \n",
      "A value is trying to be set on a copy of a slice from a DataFrame\n",
      "\n",
      "See the caveats in the documentation: https://pandas.pydata.org/pandas-docs/stable/user_guide/indexing.html#returning-a-view-versus-a-copy\n",
      "  return super().replace(\n"
     ]
    },
    {
     "data": {
      "image/png": "[encoded data removed]",
      "text/plain": [
       "<Figure size 864x648 with 2 Axes>"
      ]
     },
     "metadata": {
      "needs_background": "light"
     },
     "output_type": "display_data"
    }
   ],
   "source": [
    "df3 = LI(df2)\n",
    "\n",
    "corrmat = df3.corr()\n",
    "f, ax = plt.subplots(figsize=(12, 9))\n",
    "sns.heatmap(corrmat, vmax=1, square=True, annot = True);"
   ]
  },
  {
   "cell_type": "code",
   "execution_count": 14,
   "id": "bc0db434",
   "metadata": {},
   "outputs": [],
   "source": [
    "categ_variables = [\"Model\", \"Color\", \"Manufacturer\", \"Category\", \"Fuel type\", \"Gear box type\", \"Drive wheels\", \"Doors\",\"Wheel\"]\n",
    "one_hot_categ = [\"Category\", \"Fuel type\", \"Gear box type\", \"Drive wheels\", \"Doors\", \"Wheel\"]\n",
    "target_categ = [\"Model\",\"Color\",\"Manufacturer\"]\n"
   ]
  },
  {
   "cell_type": "code",
   "execution_count": 15,
   "id": "7fe51bc0",
   "metadata": {
    "scrolled": true
   },
   "outputs": [],
   "source": [
    "#########################\n",
    "df3 = df2\n"
   ]
  },
  {
   "cell_type": "code",
   "execution_count": 16,
   "id": "ca1bfd05",
   "metadata": {},
   "outputs": [],
   "source": [
    "#################################################\n",
    "#df4 = OneHot_encoding(df2, one_hot_categ)\n",
    "df4, tar_enc_dict = target_encoding(df3, categ_variables)\n",
    "df4 = LI(df4)"
   ]
  },
  {
   "cell_type": "code",
   "execution_count": 17,
   "id": "d1e06a8c",
   "metadata": {},
   "outputs": [
    {
     "data": {
      "text/plain": [
       "<AxesSubplot:>"
      ]
     },
     "execution_count": 17,
     "metadata": {},
     "output_type": "execute_result"
    },
    {
     "data": {
      "image/png": "[encoded data removed]",
      "text/plain": [
       "<Figure size 1440x864 with 2 Axes>"
      ]
     },
     "metadata": {
      "needs_background": "light"
     },
     "output_type": "display_data"
    }
   ],
   "source": [
    "plt.figure(figsize =  (20,12))\n",
    "sns.heatmap(df4.corr(), square = True, annot = True)"
   ]
  },
  {
   "cell_type": "markdown",
   "id": "395cc766",
   "metadata": {},
   "source": [
    "## Fixing Levy"
   ]
  },
  {
   "cell_type": "code",
   "execution_count": 18,
   "id": "106ca83d",
   "metadata": {},
   "outputs": [
    {
     "data": {
      "text/plain": [
       "(18016, 18)"
      ]
     },
     "execution_count": 18,
     "metadata": {},
     "output_type": "execute_result"
    }
   ],
   "source": [
    "# Fixing Levy\n",
    "#df2 = df2[df2[\"Levy\"]<6000]\n",
    "#df2 = df2[df2[\"Levy\"]>250]\n",
    "\n",
    "levy = []\n",
    "levy_max = df4.Levy.mean() + (3* df4.Levy.std())\n",
    "levy_min = df4.Levy.mean() - (2* df4.Levy.std())\n",
    "for l in df4[\"Levy\"]:\n",
    "    if l>2000:\n",
    "        levy.append(levy_max)\n",
    "    elif(l<77):\n",
    "        levy.append(levy_min)\n",
    "    else:\n",
    "        levy.append(l)\n",
    "        \n",
    "df4.drop(columns = \"Levy\", inplace = True)\n",
    "df4[\"Levy\"] = levy\n",
    "df4.shape"
   ]
  },
  {
   "cell_type": "markdown",
   "id": "0e076a1f",
   "metadata": {},
   "source": [
    "### Levy correction worked"
   ]
  },
  {
   "cell_type": "markdown",
   "id": "b774ba45",
   "metadata": {},
   "source": [
    "# Airbag Correction worked"
   ]
  },
  {
   "cell_type": "code",
   "execution_count": 19,
   "id": "2f07b493",
   "metadata": {},
   "outputs": [
    {
     "data": {
      "text/plain": [
       "<AxesSubplot:xlabel='Airbags', ylabel='Price'>"
      ]
     },
     "execution_count": 19,
     "metadata": {},
     "output_type": "execute_result"
    },
    {
     "data": {
      "image/png": "[encoded data removed]",
      "text/plain": [
       "<Figure size 432x288 with 1 Axes>"
      ]
     },
     "metadata": {
      "needs_background": "light"
     },
     "output_type": "display_data"
    }
   ],
   "source": [
    "sns.boxplot(x = df4[\"Airbags\"], y = df4[\"Price\"])"
   ]
  },
  {
   "cell_type": "code",
   "execution_count": 20,
   "id": "674d3445",
   "metadata": {},
   "outputs": [],
   "source": [
    "##########################\n",
    "i1 = df4[((df4[\"Airbags\"]==0) & (df4[\"Price\"]>40000)) | ((df4[\"Airbags\"]==1) & (df4[\"Price\"]>40000)) | ((df4[\"Airbags\"]==2) & (df4[\"Price\"]>29000))].index\n",
    "i2 = df4[((df4[\"Airbags\"]==5) & (df4[\"Price\"]>28000)) | ((df4[\"Airbags\"]==6) & (df4[\"Price\"]>36000)) | ((df4[\"Airbags\"]==7) & (df4[\"Price\"]>35000))].index\n",
    "i3 = df4[((df4[\"Airbags\"]==8) | (df4[\"Airbags\"]==9) | (df4[\"Airbags\"]==10)) & (df4[\"Price\"]>40000)].index"
   ]
  },
  {
   "cell_type": "code",
   "execution_count": 21,
   "id": "a3d625ed",
   "metadata": {},
   "outputs": [
    {
     "data": {
      "text/plain": [
       "(17797, 18)"
      ]
     },
     "execution_count": 21,
     "metadata": {},
     "output_type": "execute_result"
    }
   ],
   "source": [
    "#############################\n",
    "i4 = df4[((df4[\"Airbags\"]==16) & (df4[\"Price\"]>44000))].index\n",
    "t_df = df4.drop(index = i1)\n",
    "t_df = t_df.drop(index = i2)\n",
    "t_df = t_df.drop(index = i3)\n",
    "t_df = t_df.drop(index = i4)\n",
    "t_df.shape"
   ]
  },
  {
   "cell_type": "code",
   "execution_count": 22,
   "id": "afb45255",
   "metadata": {},
   "outputs": [],
   "source": [
    "##########################################\n",
    "df4 = t_df"
   ]
  },
  {
   "cell_type": "code",
   "execution_count": 23,
   "id": "23e31ae7",
   "metadata": {},
   "outputs": [
    {
     "data": {
      "text/plain": [
       "<AxesSubplot:xlabel='Airbags', ylabel='Price'>"
      ]
     },
     "execution_count": 23,
     "metadata": {},
     "output_type": "execute_result"
    },
    {
     "data": {
      "image/png": "[encoded data removed]",
      "text/plain": [
       "<Figure size 432x288 with 1 Axes>"
      ]
     },
     "metadata": {
      "needs_background": "light"
     },
     "output_type": "display_data"
    }
   ],
   "source": [
    "sns.boxplot(x = t_df[\"Airbags\"], y = t_df[\"Price\"])"
   ]
  },
  {
   "cell_type": "markdown",
   "id": "a9133455",
   "metadata": {},
   "source": [
    "### AIrbags correction"
   ]
  },
  {
   "cell_type": "markdown",
   "id": "fea1ca38",
   "metadata": {},
   "source": [
    "### Mileage new feature below and it worked"
   ]
  },
  {
   "cell_type": "code",
   "execution_count": 24,
   "id": "e49a13cc",
   "metadata": {},
   "outputs": [
    {
     "data": {
      "text/html": [
       "<div>\n",
       "<style scoped>\n",
       "    .dataframe tbody tr th:only-of-type {\n",
       "        vertical-align: middle;\n",
       "    }\n",
       "\n",
       "    .dataframe tbody tr th {\n",
       "        vertical-align: top;\n",
       "    }\n",
       "\n",
       "    .dataframe thead th {\n",
       "        text-align: right;\n",
       "    }\n",
       "</style>\n",
       "<table border=\"1\" class=\"dataframe\">\n",
       "  <thead>\n",
       "    <tr style=\"text-align: right;\">\n",
       "      <th></th>\n",
       "      <th>Price</th>\n",
       "      <th>Prod. year</th>\n",
       "      <th>Leather interior</th>\n",
       "      <th>Cylinders</th>\n",
       "      <th>Airbags</th>\n",
       "      <th>Engine volume</th>\n",
       "      <th>Turbo</th>\n",
       "      <th>Mileage</th>\n",
       "      <th>Model_enc</th>\n",
       "      <th>Color_enc</th>\n",
       "      <th>Manufacturer_enc</th>\n",
       "      <th>Category_enc</th>\n",
       "      <th>Fuel type_enc</th>\n",
       "      <th>Gear box type_enc</th>\n",
       "      <th>Drive wheels_enc</th>\n",
       "      <th>Doors_enc</th>\n",
       "      <th>Wheel_enc</th>\n",
       "      <th>Levy</th>\n",
       "      <th>New Car</th>\n",
       "    </tr>\n",
       "  </thead>\n",
       "  <tbody>\n",
       "    <tr>\n",
       "      <th>0</th>\n",
       "      <td>13328</td>\n",
       "      <td>2010</td>\n",
       "      <td>1</td>\n",
       "      <td>6.0</td>\n",
       "      <td>12</td>\n",
       "      <td>3.5</td>\n",
       "      <td>0</td>\n",
       "      <td>186005</td>\n",
       "      <td>1019.0</td>\n",
       "      <td>12520.5</td>\n",
       "      <td>5018.0</td>\n",
       "      <td>15994.0</td>\n",
       "      <td>9722</td>\n",
       "      <td>11290</td>\n",
       "      <td>9879</td>\n",
       "      <td>12544.0</td>\n",
       "      <td>13172</td>\n",
       "      <td>1399.0</td>\n",
       "      <td>0</td>\n",
       "    </tr>\n",
       "    <tr>\n",
       "      <th>1</th>\n",
       "      <td>16621</td>\n",
       "      <td>2011</td>\n",
       "      <td>0</td>\n",
       "      <td>6.0</td>\n",
       "      <td>8</td>\n",
       "      <td>3.0</td>\n",
       "      <td>0</td>\n",
       "      <td>192000</td>\n",
       "      <td>2195.0</td>\n",
       "      <td>11996.0</td>\n",
       "      <td>13150.0</td>\n",
       "      <td>15994.0</td>\n",
       "      <td>11992</td>\n",
       "      <td>17876</td>\n",
       "      <td>9879</td>\n",
       "      <td>12544.0</td>\n",
       "      <td>13172</td>\n",
       "      <td>1018.0</td>\n",
       "      <td>0</td>\n",
       "    </tr>\n",
       "    <tr>\n",
       "      <th>2</th>\n",
       "      <td>8467</td>\n",
       "      <td>2006</td>\n",
       "      <td>0</td>\n",
       "      <td>4.0</td>\n",
       "      <td>2</td>\n",
       "      <td>1.3</td>\n",
       "      <td>0</td>\n",
       "      <td>200000</td>\n",
       "      <td>9095.0</td>\n",
       "      <td>11996.0</td>\n",
       "      <td>9408.0</td>\n",
       "      <td>10349.0</td>\n",
       "      <td>11992</td>\n",
       "      <td>13172</td>\n",
       "      <td>13172</td>\n",
       "      <td>12544.0</td>\n",
       "      <td>8467</td>\n",
       "      <td>779.0</td>\n",
       "      <td>0</td>\n",
       "    </tr>\n",
       "    <tr>\n",
       "      <th>3</th>\n",
       "      <td>3607</td>\n",
       "      <td>2011</td>\n",
       "      <td>1</td>\n",
       "      <td>4.0</td>\n",
       "      <td>0</td>\n",
       "      <td>2.5</td>\n",
       "      <td>0</td>\n",
       "      <td>168966</td>\n",
       "      <td>2430.5</td>\n",
       "      <td>13485.0</td>\n",
       "      <td>12544.0</td>\n",
       "      <td>15994.0</td>\n",
       "      <td>9722</td>\n",
       "      <td>11290</td>\n",
       "      <td>9879</td>\n",
       "      <td>12544.0</td>\n",
       "      <td>13172</td>\n",
       "      <td>862.0</td>\n",
       "      <td>0</td>\n",
       "    </tr>\n",
       "    <tr>\n",
       "      <th>4</th>\n",
       "      <td>11726</td>\n",
       "      <td>2014</td>\n",
       "      <td>1</td>\n",
       "      <td>4.0</td>\n",
       "      <td>4</td>\n",
       "      <td>1.3</td>\n",
       "      <td>0</td>\n",
       "      <td>91901</td>\n",
       "      <td>9095.0</td>\n",
       "      <td>12520.5</td>\n",
       "      <td>9408.0</td>\n",
       "      <td>10349.0</td>\n",
       "      <td>11992</td>\n",
       "      <td>11290</td>\n",
       "      <td>13172</td>\n",
       "      <td>12544.0</td>\n",
       "      <td>13172</td>\n",
       "      <td>446.0</td>\n",
       "      <td>0</td>\n",
       "    </tr>\n",
       "  </tbody>\n",
       "</table>\n",
       "</div>"
      ],
      "text/plain": [
       "   Price  Prod. year  Leather interior  Cylinders  Airbags  Engine volume  \\\n",
       "0  13328        2010                 1        6.0       12            3.5   \n",
       "1  16621        2011                 0        6.0        8            3.0   \n",
       "2   8467        2006                 0        4.0        2            1.3   \n",
       "3   3607        2011                 1        4.0        0            2.5   \n",
       "4  11726        2014                 1        4.0        4            1.3   \n",
       "\n",
       "   Turbo  Mileage  Model_enc  Color_enc  Manufacturer_enc  Category_enc  \\\n",
       "0      0   186005     1019.0    12520.5            5018.0       15994.0   \n",
       "1      0   192000     2195.0    11996.0           13150.0       15994.0   \n",
       "2      0   200000     9095.0    11996.0            9408.0       10349.0   \n",
       "3      0   168966     2430.5    13485.0           12544.0       15994.0   \n",
       "4      0    91901     9095.0    12520.5            9408.0       10349.0   \n",
       "\n",
       "   Fuel type_enc  Gear box type_enc  Drive wheels_enc  Doors_enc  Wheel_enc  \\\n",
       "0           9722              11290              9879    12544.0      13172   \n",
       "1          11992              17876              9879    12544.0      13172   \n",
       "2          11992              13172             13172    12544.0       8467   \n",
       "3           9722              11290              9879    12544.0      13172   \n",
       "4          11992              11290             13172    12544.0      13172   \n",
       "\n",
       "     Levy  New Car  \n",
       "0  1399.0        0  \n",
       "1  1018.0        0  \n",
       "2   779.0        0  \n",
       "3   862.0        0  \n",
       "4   446.0        0  "
      ]
     },
     "execution_count": 24,
     "metadata": {},
     "output_type": "execute_result"
    }
   ],
   "source": [
    "###########################\n",
    "t_df = df4\n",
    "milea = []\n",
    "\n",
    "for mil in df4[\"Mileage\"]:\n",
    "    if mil==0:\n",
    "        milea.append(1)\n",
    "    else:\n",
    "        milea.append(0)\n",
    "\n",
    "t_df[\"New Car\"] = milea\n",
    "t_df.head()"
   ]
  },
  {
   "cell_type": "code",
   "execution_count": 25,
   "id": "534cced7",
   "metadata": {},
   "outputs": [],
   "source": [
    "###################\n",
    "df4 = t_df"
   ]
  },
  {
   "cell_type": "markdown",
   "id": "23d5a161",
   "metadata": {},
   "source": [
    "# CATGEORY AND DOORS MAY BE FIXED"
   ]
  },
  {
   "cell_type": "code",
   "execution_count": 26,
   "id": "ecf47c0a",
   "metadata": {},
   "outputs": [],
   "source": [
    "###############################################\n",
    "#ev_list = []\n",
    "\n",
    "        #inp=EV_median[(EV_median[\"Model_enc\"]==t_df.loc[i, \"Model_enc\"]) & (EV_median[\"Fuel type_enc\"]==t_df.loc[i, \"Fuel type_enc\"])][\"Engine volume\"].mean()\n",
    "        #ev_list.append(inp)\n",
    "    #else:\n",
    "        #ev_list.append(ev)\n",
    "\n",
    "#t_df.drop(columns = \"Engine volume\", inplace = True)\n",
    "#t_df[\"Engine volume\"] = ev_list"
   ]
  },
  {
   "cell_type": "code",
   "execution_count": null,
   "id": "e50b747b",
   "metadata": {},
   "outputs": [],
   "source": []
  },
  {
   "cell_type": "markdown",
   "id": "9463a6b3",
   "metadata": {},
   "source": [
    "# Feature Importance"
   ]
  },
  {
   "cell_type": "code",
   "execution_count": 27,
   "id": "d8ce8fbf",
   "metadata": {},
   "outputs": [
    {
     "data": {
      "text/plain": [
       "ExtraTreesRegressor()"
      ]
     },
     "execution_count": 27,
     "metadata": {},
     "output_type": "execute_result"
    }
   ],
   "source": [
    "from sklearn.ensemble import ExtraTreesRegressor\n",
    "\n",
    "ETR = ExtraTreesRegressor()\n",
    "df5 = df4\n",
    "Y = df5[\"Price\"].astype('float64')\n",
    "X = df5.drop(columns = \"Price\", axis = 1)\n",
    "\n",
    "ETR.fit(X,Y)"
   ]
  },
  {
   "cell_type": "code",
   "execution_count": 28,
   "id": "ac7d45a7",
   "metadata": {},
   "outputs": [
    {
     "data": {
      "image/png": "[encoded data removed]",
      "text/plain": [
       "<Figure size 1440x432 with 1 Axes>"
      ]
     },
     "metadata": {
      "needs_background": "light"
     },
     "output_type": "display_data"
    }
   ],
   "source": [
    "plt.figure(figsize = (20,6))\n",
    "feat_imp = pd.Series(ETR.feature_importances_, index = X.columns)\n",
    "feat_imp.plot(kind = 'bar')\n",
    "plt.show()"
   ]
  },
  {
   "cell_type": "code",
   "execution_count": 29,
   "id": "96b5cfca",
   "metadata": {
    "scrolled": true
   },
   "outputs": [
    {
     "data": {
      "text/plain": [
       "<AxesSubplot:>"
      ]
     },
     "execution_count": 29,
     "metadata": {},
     "output_type": "execute_result"
    },
    {
     "data": {
      "image/png": "[encoded data removed]",
      "text/plain": [
       "<Figure size 1440x720 with 2 Axes>"
      ]
     },
     "metadata": {
      "needs_background": "light"
     },
     "output_type": "display_data"
    }
   ],
   "source": [
    "plt.figure(figsize = (20,10))\n",
    "sns.heatmap(df4.corr(), annot = True)"
   ]
  },
  {
   "cell_type": "code",
   "execution_count": null,
   "id": "4faec1e6",
   "metadata": {},
   "outputs": [],
   "source": []
  },
  {
   "cell_type": "markdown",
   "id": "eca526e3",
   "metadata": {},
   "source": [
    "### Trying to drop Drive Wheels enc"
   ]
  },
  {
   "cell_type": "code",
   "execution_count": 30,
   "id": "c91149f9",
   "metadata": {},
   "outputs": [],
   "source": [
    "# Trying dropping Mileage and Levy\n",
    "\n",
    "#df5 = df4.drop(columns = [\"Drive wheels_enc\"])\n",
    "\n",
    "######### BAD IDEA #########"
   ]
  },
  {
   "cell_type": "code",
   "execution_count": null,
   "id": "84a0a9b4",
   "metadata": {},
   "outputs": [],
   "source": []
  },
  {
   "cell_type": "code",
   "execution_count": 31,
   "id": "457d4ddd",
   "metadata": {},
   "outputs": [],
   "source": [
    "from sklearn.model_selection import train_test_split\n",
    "from sklearn.preprocessing import StandardScaler, RobustScaler, MinMaxScaler\n",
    "from sklearn.linear_model import LinearRegression, BayesianRidge\n",
    "from sklearn.ensemble import RandomForestRegressor\n",
    "from sklearn.svm import SVR\n",
    "from sklearn.metrics import mean_squared_log_error, r2_score"
   ]
  },
  {
   "cell_type": "markdown",
   "id": "04b5b41d",
   "metadata": {},
   "source": [
    "## Model"
   ]
  },
  {
   "cell_type": "code",
   "execution_count": 32,
   "id": "1620f5c3",
   "metadata": {},
   "outputs": [],
   "source": [
    "model1 = LinearRegression()\n",
    "#model2 = BayesianRidge()\n",
    "model3 = RandomForestRegressor()\n",
    "#model4 = SVR()"
   ]
  },
  {
   "cell_type": "code",
   "execution_count": 33,
   "id": "35d2dac2",
   "metadata": {},
   "outputs": [],
   "source": [
    "from xgboost import XGBRegressor, XGBRFRegressor\n",
    "model5 = XGBRegressor()\n",
    "model6 = XGBRFRegressor()"
   ]
  },
  {
   "cell_type": "code",
   "execution_count": null,
   "id": "bf805c26",
   "metadata": {},
   "outputs": [],
   "source": []
  },
  {
   "cell_type": "code",
   "execution_count": null,
   "id": "4ff67f8b",
   "metadata": {},
   "outputs": [],
   "source": []
  },
  {
   "cell_type": "markdown",
   "id": "e7a742c2",
   "metadata": {},
   "source": [
    "## Scaler"
   ]
  },
  {
   "cell_type": "code",
   "execution_count": 57,
   "id": "b24358fa",
   "metadata": {},
   "outputs": [],
   "source": [
    "df5 = df4\n",
    "Y = df5[\"Price\"].astype('float64')\n",
    "X = df5.drop(columns = \"Price\", axis = 1)\n",
    "\n",
    "scaler = MinMaxScaler()\n",
    "scaler2 = MinMaxScaler()\n",
    "Y = np.array(Y)\n",
    "Y = Y.reshape((-1,1))\n",
    "Y = np.power(Y,0.25)\n",
    "y = scaler2.fit_transform(Y)\n",
    "\n",
    "scaler.fit(X)\n",
    "x = scaler.transform(X)\n",
    "\n"
   ]
  },
  {
   "cell_type": "markdown",
   "id": "a98e30c5",
   "metadata": {},
   "source": [
    "## Splitting"
   ]
  },
  {
   "cell_type": "code",
   "execution_count": 58,
   "id": "4947f436",
   "metadata": {},
   "outputs": [],
   "source": [
    "x_train, x_test, y_train, y_test = train_test_split(x,y, train_size = 0.85, random_state = 7)"
   ]
  },
  {
   "cell_type": "code",
   "execution_count": 59,
   "id": "c4581795",
   "metadata": {},
   "outputs": [
    {
     "name": "stderr",
     "output_type": "stream",
     "text": [
      "<ipython-input-59-f30ba591e04d>:1: DataConversionWarning: A column-vector y was passed when a 1d array was expected. Please change the shape of y to (n_samples,), for example using ravel().\n",
      "  model3.fit(x_train, y_train)\n"
     ]
    }
   ],
   "source": [
    "model3.fit(x_train, y_train)\n",
    "y_pred = model3.predict(x_test)\n",
    "train_pred = model3.predict(x_train)\n",
    "\n"
   ]
  },
  {
   "cell_type": "code",
   "execution_count": 60,
   "id": "7b5c9c4c",
   "metadata": {},
   "outputs": [
    {
     "name": "stdout",
     "output_type": "stream",
     "text": [
      "Test R2:  0.7120126031932517\n",
      "Train R2:  0.9412637930879072\n",
      "\n",
      "\n",
      "Test set error:  0.8958451324236774\n",
      "Train set error:  0.46454648877817295\n"
     ]
    }
   ],
   "source": [
    "############ WIth prod year new feat\n",
    "y_pred = y_pred.reshape((-1,1))\n",
    "y_pred = scaler2.inverse_transform(y_pred)\n",
    "y_pred = np.power(y_pred,4)\n",
    "\n",
    "train_pred = train_pred.reshape((-1,1))\n",
    "train_pred = scaler2.inverse_transform(train_pred)\n",
    "train_pred = np.power(train_pred,4)\n",
    "\n",
    "y_test = scaler2.inverse_transform(y_test)\n",
    "y_test = np.power(y_test,4)\n",
    "\n",
    "y_train = scaler2.inverse_transform(y_train)\n",
    "y_train = np.power(y_train,4)\n",
    "\n",
    "\n",
    "test_error = np.sqrt(mean_squared_log_error(y_pred, y_test))\n",
    "train_error = np.sqrt(mean_squared_log_error(train_pred, y_train))\n",
    "print(\"Test R2: \", r2_score(y_pred, y_test))\n",
    "print(\"Train R2: \", r2_score(train_pred, y_train))\n",
    "print(\"\\n\")\n",
    "print(\"Test set error: \", test_error)\n",
    "print(\"Train set error: \", train_error)"
   ]
  },
  {
   "cell_type": "code",
   "execution_count": 39,
   "id": "c24870cf",
   "metadata": {},
   "outputs": [
    {
     "name": "stderr",
     "output_type": "stream",
     "text": [
      "<ipython-input-39-c62004abd53d>:22: DataConversionWarning: A column-vector y was passed when a 1d array was expected. Please change the shape of y to (n_samples,), for example using ravel().\n",
      "  model3.fit(x_train, y_train)\n"
     ]
    },
    {
     "name": "stdout",
     "output_type": "stream",
     "text": [
      "Test R2:  0.6961224879091655\n",
      "Train R2:  0.9393411685774403\n",
      "\n",
      "\n",
      "Test set error:  0.908063445579689\n",
      "Train set error:  0.4674505960860556\n"
     ]
    }
   ],
   "source": [
    "############ WIth the new feature\n",
    "#cbrt and power=0.25 gave good results\n",
    "\n",
    "df5 = t_df\n",
    "Y = df5[\"Price\"].astype('float64')\n",
    "X = df5.drop(columns = \"Price\", axis = 1)\n",
    "\n",
    "#############ROBUST\n",
    "scaler = RobustScaler()\n",
    "scaler2 = RobustScaler()\n",
    "Y = np.array(Y)\n",
    "Y = Y.reshape((-1,1))\n",
    "Y = np.power(Y,0.25)\n",
    "#y=Y\n",
    "y = scaler2.fit_transform(Y)\n",
    "\n",
    "scaler.fit(X)\n",
    "x = scaler.transform(X)\n",
    "\n",
    "x_train, x_test, y_train, y_test = train_test_split(x,y, train_size = 0.75, random_state = 7)\n",
    "\n",
    "model3.fit(x_train, y_train)\n",
    "y_pred = model3.predict(x_test)\n",
    "train_pred = model3.predict(x_train)\n",
    "\n",
    "y_pred = y_pred.reshape((-1,1))\n",
    "y_pred = scaler2.inverse_transform(y_pred)\n",
    "y_pred = np.power(y_pred,4)\n",
    "\n",
    "train_pred = train_pred.reshape((-1,1))\n",
    "train_pred = scaler2.inverse_transform(train_pred)\n",
    "train_pred = np.power(train_pred,4)\n",
    "\n",
    "y_test = scaler2.inverse_transform(y_test)\n",
    "y_test = np.power(y_test,4)\n",
    "\n",
    "y_train = scaler2.inverse_transform(y_train)\n",
    "y_train = np.power(y_train,4)\n",
    "\n",
    "\n",
    "test_error = np.sqrt(mean_squared_log_error(y_pred, y_test))\n",
    "train_error = np.sqrt(mean_squared_log_error(train_pred, y_train))\n",
    "print(\"Test R2: \", r2_score(y_pred, y_test))\n",
    "print(\"Train R2: \", r2_score(train_pred, y_train))\n",
    "print(\"\\n\")\n",
    "print(\"Test set error: \", test_error)\n",
    "print(\"Train set error: \", train_error)"
   ]
  },
  {
   "cell_type": "code",
   "execution_count": 40,
   "id": "5f1b036d",
   "metadata": {},
   "outputs": [
    {
     "data": {
      "text/html": [
       "<div>\n",
       "<style scoped>\n",
       "    .dataframe tbody tr th:only-of-type {\n",
       "        vertical-align: middle;\n",
       "    }\n",
       "\n",
       "    .dataframe tbody tr th {\n",
       "        vertical-align: top;\n",
       "    }\n",
       "\n",
       "    .dataframe thead th {\n",
       "        text-align: right;\n",
       "    }\n",
       "</style>\n",
       "<table border=\"1\" class=\"dataframe\">\n",
       "  <thead>\n",
       "    <tr style=\"text-align: right;\">\n",
       "      <th></th>\n",
       "      <th>Prod. year</th>\n",
       "      <th>Leather interior</th>\n",
       "      <th>Cylinders</th>\n",
       "      <th>Airbags</th>\n",
       "      <th>Engine volume</th>\n",
       "      <th>Turbo</th>\n",
       "      <th>Mileage</th>\n",
       "      <th>Model_enc</th>\n",
       "      <th>Color_enc</th>\n",
       "      <th>Manufacturer_enc</th>\n",
       "      <th>Category_enc</th>\n",
       "      <th>Fuel type_enc</th>\n",
       "      <th>Gear box type_enc</th>\n",
       "      <th>Drive wheels_enc</th>\n",
       "      <th>Doors_enc</th>\n",
       "      <th>Wheel_enc</th>\n",
       "      <th>Levy</th>\n",
       "      <th>New Car</th>\n",
       "    </tr>\n",
       "  </thead>\n",
       "  <tbody>\n",
       "    <tr>\n",
       "      <th>0</th>\n",
       "      <td>2010</td>\n",
       "      <td>1</td>\n",
       "      <td>6.0</td>\n",
       "      <td>12</td>\n",
       "      <td>3.5</td>\n",
       "      <td>0</td>\n",
       "      <td>186005</td>\n",
       "      <td>1019.0</td>\n",
       "      <td>12520.5</td>\n",
       "      <td>5018.0</td>\n",
       "      <td>15994.0</td>\n",
       "      <td>9722</td>\n",
       "      <td>11290</td>\n",
       "      <td>9879</td>\n",
       "      <td>12544.0</td>\n",
       "      <td>13172</td>\n",
       "      <td>1399.0</td>\n",
       "      <td>0</td>\n",
       "    </tr>\n",
       "    <tr>\n",
       "      <th>1</th>\n",
       "      <td>2011</td>\n",
       "      <td>0</td>\n",
       "      <td>6.0</td>\n",
       "      <td>8</td>\n",
       "      <td>3.0</td>\n",
       "      <td>0</td>\n",
       "      <td>192000</td>\n",
       "      <td>2195.0</td>\n",
       "      <td>11996.0</td>\n",
       "      <td>13150.0</td>\n",
       "      <td>15994.0</td>\n",
       "      <td>11992</td>\n",
       "      <td>17876</td>\n",
       "      <td>9879</td>\n",
       "      <td>12544.0</td>\n",
       "      <td>13172</td>\n",
       "      <td>1018.0</td>\n",
       "      <td>0</td>\n",
       "    </tr>\n",
       "    <tr>\n",
       "      <th>2</th>\n",
       "      <td>2006</td>\n",
       "      <td>0</td>\n",
       "      <td>4.0</td>\n",
       "      <td>2</td>\n",
       "      <td>1.3</td>\n",
       "      <td>0</td>\n",
       "      <td>200000</td>\n",
       "      <td>9095.0</td>\n",
       "      <td>11996.0</td>\n",
       "      <td>9408.0</td>\n",
       "      <td>10349.0</td>\n",
       "      <td>11992</td>\n",
       "      <td>13172</td>\n",
       "      <td>13172</td>\n",
       "      <td>12544.0</td>\n",
       "      <td>8467</td>\n",
       "      <td>779.0</td>\n",
       "      <td>0</td>\n",
       "    </tr>\n",
       "    <tr>\n",
       "      <th>3</th>\n",
       "      <td>2011</td>\n",
       "      <td>1</td>\n",
       "      <td>4.0</td>\n",
       "      <td>0</td>\n",
       "      <td>2.5</td>\n",
       "      <td>0</td>\n",
       "      <td>168966</td>\n",
       "      <td>2430.5</td>\n",
       "      <td>13485.0</td>\n",
       "      <td>12544.0</td>\n",
       "      <td>15994.0</td>\n",
       "      <td>9722</td>\n",
       "      <td>11290</td>\n",
       "      <td>9879</td>\n",
       "      <td>12544.0</td>\n",
       "      <td>13172</td>\n",
       "      <td>862.0</td>\n",
       "      <td>0</td>\n",
       "    </tr>\n",
       "    <tr>\n",
       "      <th>4</th>\n",
       "      <td>2014</td>\n",
       "      <td>1</td>\n",
       "      <td>4.0</td>\n",
       "      <td>4</td>\n",
       "      <td>1.3</td>\n",
       "      <td>0</td>\n",
       "      <td>91901</td>\n",
       "      <td>9095.0</td>\n",
       "      <td>12520.5</td>\n",
       "      <td>9408.0</td>\n",
       "      <td>10349.0</td>\n",
       "      <td>11992</td>\n",
       "      <td>11290</td>\n",
       "      <td>13172</td>\n",
       "      <td>12544.0</td>\n",
       "      <td>13172</td>\n",
       "      <td>446.0</td>\n",
       "      <td>0</td>\n",
       "    </tr>\n",
       "  </tbody>\n",
       "</table>\n",
       "</div>"
      ],
      "text/plain": [
       "   Prod. year  Leather interior  Cylinders  Airbags  Engine volume  Turbo  \\\n",
       "0        2010                 1        6.0       12            3.5      0   \n",
       "1        2011                 0        6.0        8            3.0      0   \n",
       "2        2006                 0        4.0        2            1.3      0   \n",
       "3        2011                 1        4.0        0            2.5      0   \n",
       "4        2014                 1        4.0        4            1.3      0   \n",
       "\n",
       "   Mileage  Model_enc  Color_enc  Manufacturer_enc  Category_enc  \\\n",
       "0   186005     1019.0    12520.5            5018.0       15994.0   \n",
       "1   192000     2195.0    11996.0           13150.0       15994.0   \n",
       "2   200000     9095.0    11996.0            9408.0       10349.0   \n",
       "3   168966     2430.5    13485.0           12544.0       15994.0   \n",
       "4    91901     9095.0    12520.5            9408.0       10349.0   \n",
       "\n",
       "   Fuel type_enc  Gear box type_enc  Drive wheels_enc  Doors_enc  Wheel_enc  \\\n",
       "0           9722              11290              9879    12544.0      13172   \n",
       "1          11992              17876              9879    12544.0      13172   \n",
       "2          11992              13172             13172    12544.0       8467   \n",
       "3           9722              11290              9879    12544.0      13172   \n",
       "4          11992              11290             13172    12544.0      13172   \n",
       "\n",
       "     Levy  New Car  \n",
       "0  1399.0        0  \n",
       "1  1018.0        0  \n",
       "2   779.0        0  \n",
       "3   862.0        0  \n",
       "4   446.0        0  "
      ]
     },
     "execution_count": 40,
     "metadata": {},
     "output_type": "execute_result"
    }
   ],
   "source": [
    "X.head()"
   ]
  },
  {
   "cell_type": "markdown",
   "id": "490c3930",
   "metadata": {},
   "source": [
    "## Trying MinMaxScaler"
   ]
  },
  {
   "cell_type": "code",
   "execution_count": 41,
   "id": "e66fa2b5",
   "metadata": {},
   "outputs": [
    {
     "name": "stderr",
     "output_type": "stream",
     "text": [
      "<ipython-input-41-6f1c64c115eb>:21: DataConversionWarning: A column-vector y was passed when a 1d array was expected. Please change the shape of y to (n_samples,), for example using ravel().\n",
      "  model3.fit(x_train, y_train)\n"
     ]
    },
    {
     "name": "stdout",
     "output_type": "stream",
     "text": [
      "Test R2:  0.6922627367204781\n",
      "Train R2:  0.940298930982536\n",
      "\n",
      "\n",
      "Test set error:  0.9122360511340835\n",
      "Train set error:  0.47559769344722963\n"
     ]
    }
   ],
   "source": [
    "############ WIth sqrt(Y) using MinMaxScaler\n",
    "\n",
    "df5 = df4\n",
    "Y = df5[\"Price\"].astype('float64')\n",
    "X = df5.drop(columns = \"Price\", axis = 1)\n",
    "\n",
    "#############ROBUST\n",
    "scaler = MinMaxScaler()\n",
    "scaler2 =MinMaxScaler()\n",
    "Y = np.array(Y)\n",
    "Y = Y.reshape((-1,1))\n",
    "Y = np.power(Y,0.25)\n",
    "#y=Y\n",
    "y = scaler2.fit_transform(Y)\n",
    "\n",
    "scaler.fit(X)\n",
    "x = scaler.transform(X)\n",
    "\n",
    "x_train, x_test, y_train, y_test = train_test_split(x,y, train_size = 0.75, random_state = 7)\n",
    "\n",
    "model3.fit(x_train, y_train)\n",
    "y_pred = model3.predict(x_test)\n",
    "train_pred = model3.predict(x_train)\n",
    "\n",
    "y_pred = y_pred.reshape((-1,1))\n",
    "y_pred = scaler2.inverse_transform(y_pred)\n",
    "y_pred = np.power(y_pred,4)\n",
    "\n",
    "train_pred = train_pred.reshape((-1,1))\n",
    "train_pred = scaler2.inverse_transform(train_pred)\n",
    "train_pred = np.power(train_pred,4)\n",
    "\n",
    "y_test = scaler2.inverse_transform(y_test)\n",
    "y_test = np.power(y_test,4)\n",
    "\n",
    "y_train = scaler2.inverse_transform(y_train)\n",
    "y_train = np.power(y_train,4)\n",
    "\n",
    "\n",
    "test_error = np.sqrt(mean_squared_log_error(y_pred, y_test))\n",
    "train_error = np.sqrt(mean_squared_log_error(train_pred, y_train))\n",
    "print(\"Test R2: \", r2_score(y_pred, y_test))\n",
    "print(\"Train R2: \", r2_score(train_pred, y_train))\n",
    "print(\"\\n\")\n",
    "print(\"Test set error: \", test_error)\n",
    "print(\"Train set error: \", train_error)"
   ]
  },
  {
   "cell_type": "code",
   "execution_count": null,
   "id": "6983efc0",
   "metadata": {},
   "outputs": [],
   "source": []
  },
  {
   "cell_type": "markdown",
   "id": "e98e8096",
   "metadata": {},
   "source": [
    "# Hyperparameter Tuning"
   ]
  },
  {
   "cell_type": "code",
   "execution_count": 42,
   "id": "6fcec3fe",
   "metadata": {},
   "outputs": [],
   "source": [
    "from sklearn.model_selection import RandomizedSearchCV, GridSearchCV\n"
   ]
  },
  {
   "cell_type": "code",
   "execution_count": 112,
   "id": "1f1236df",
   "metadata": {},
   "outputs": [],
   "source": [
    "# Hyperparameters\n",
    "n_estimators = [50]\n",
    "max_feat = [\"sqrt\"]\n",
    "max_depth = [int(x) for x in np.linspace(start=10, stop=50, num=5)]\n",
    "min_sam_split = [2,10,20,30]\n",
    "min_sam_leaf = [1,10,20,30]"
   ]
  },
  {
   "cell_type": "code",
   "execution_count": 113,
   "id": "464c879c",
   "metadata": {},
   "outputs": [
    {
     "data": {
      "text/plain": [
       "[10, 20, 30, 40, 50, None]"
      ]
     },
     "execution_count": 113,
     "metadata": {},
     "output_type": "execute_result"
    }
   ],
   "source": [
    "max_depth.append(None)\n",
    "max_depth"
   ]
  },
  {
   "cell_type": "code",
   "execution_count": 114,
   "id": "f1e66eed",
   "metadata": {},
   "outputs": [],
   "source": [
    "random_grid = {'n_estimators': n_estimators,\n",
    "                'max_depth': max_depth,\n",
    "                'max_features': max_feat,\n",
    "                'min_samples_split': min_sam_split,\n",
    "                'min_samples_leaf': min_sam_leaf}"
   ]
  },
  {
   "cell_type": "code",
   "execution_count": 153,
   "id": "8a82e0e6",
   "metadata": {},
   "outputs": [],
   "source": [
    "random_rf = RandomizedSearchCV(estimator=model3, param_distributions=random_grid, scoring='neg_mean_squared_log_error', n_iter = 150, cv = 2, verbose=2, random_state=7, n_jobs=1)"
   ]
  },
  {
   "cell_type": "code",
   "execution_count": 115,
   "id": "b05f7389",
   "metadata": {},
   "outputs": [],
   "source": [
    "grid_rf = GridSearchCV(estimator=model3, param_grid=random_grid, scoring='neg_mean_squared_log_error', cv = 2, verbose=2, n_jobs =1)"
   ]
  },
  {
   "cell_type": "code",
   "execution_count": 116,
   "id": "e05b02f6",
   "metadata": {
    "scrolled": true
   },
   "outputs": [],
   "source": [
    "df5 = df4\n",
    "Y = df5[\"Price\"].astype('float64')\n",
    "X = df5.drop(columns = \"Price\", axis = 1)\n",
    "\n",
    "scaler = MinMaxScaler()\n",
    "scaler2 = MinMaxScaler()\n",
    "Y = np.array(Y)\n",
    "Y = Y.reshape((-1,1))\n",
    "Y = np.power(Y, 0.25)\n",
    "y = scaler2.fit_transform(Y)\n",
    "\n",
    "scaler.fit(X)\n",
    "x = scaler.transform(X)\n",
    "\n",
    "x_train, x_test, y_train, y_test = train_test_split(x,y, train_size = 0.85, random_state = 7)\n"
   ]
  },
  {
   "cell_type": "code",
   "execution_count": 156,
   "id": "fac93ffd",
   "metadata": {
    "collapsed": true
   },
   "outputs": [
    {
     "name": "stdout",
     "output_type": "stream",
     "text": [
      "Fitting 2 folds for each of 150 candidates, totalling 300 fits\n",
      "[CV] END max_features=sqrt, min_samples_leaf=5, min_samples_split=2, n_estimators=250; total time=   1.3s\n",
      "[CV] END max_features=sqrt, min_samples_leaf=5, min_samples_split=2, n_estimators=250; total time=   1.2s\n",
      "[CV] END max_features=sqrt, min_samples_leaf=2, min_samples_split=5, n_estimators=150; total time=   0.9s\n",
      "[CV] END max_features=sqrt, min_samples_leaf=2, min_samples_split=5, n_estimators=150; total time=   0.9s\n",
      "[CV] END max_features=auto, min_samples_leaf=5, min_samples_split=2, n_estimators=100; total time=   1.5s\n",
      "[CV] END max_features=auto, min_samples_leaf=5, min_samples_split=2, n_estimators=100; total time=   1.5s\n",
      "[CV] END max_features=log2, min_samples_leaf=1, min_samples_split=5, n_estimators=50; total time=   0.3s\n",
      "[CV] END max_features=log2, min_samples_leaf=1, min_samples_split=5, n_estimators=50; total time=   0.3s\n",
      "[CV] END max_features=sqrt, min_samples_leaf=1, min_samples_split=5, n_estimators=200; total time=   1.3s\n",
      "[CV] END max_features=sqrt, min_samples_leaf=1, min_samples_split=5, n_estimators=200; total time=   1.3s\n",
      "[CV] END max_features=sqrt, min_samples_leaf=5, min_samples_split=10, n_estimators=300; total time=   1.5s\n",
      "[CV] END max_features=sqrt, min_samples_leaf=5, min_samples_split=10, n_estimators=300; total time=   1.5s\n",
      "[CV] END max_features=sqrt, min_samples_leaf=2, min_samples_split=5, n_estimators=250; total time=   1.5s\n",
      "[CV] END max_features=sqrt, min_samples_leaf=2, min_samples_split=5, n_estimators=250; total time=   1.5s\n",
      "[CV] END max_features=sqrt, min_samples_leaf=2, min_samples_split=10, n_estimators=150; total time=   0.8s\n",
      "[CV] END max_features=sqrt, min_samples_leaf=2, min_samples_split=10, n_estimators=150; total time=   0.8s\n",
      "[CV] END max_features=auto, min_samples_leaf=5, min_samples_split=5, n_estimators=200; total time=   3.1s\n",
      "[CV] END max_features=auto, min_samples_leaf=5, min_samples_split=5, n_estimators=200; total time=   3.1s\n",
      "[CV] END max_features=sqrt, min_samples_leaf=5, min_samples_split=2, n_estimators=300; total time=   1.5s\n",
      "[CV] END max_features=sqrt, min_samples_leaf=5, min_samples_split=2, n_estimators=300; total time=   1.5s\n",
      "[CV] END max_features=auto, min_samples_leaf=2, min_samples_split=5, n_estimators=50; total time=   0.9s\n",
      "[CV] END max_features=auto, min_samples_leaf=2, min_samples_split=5, n_estimators=50; total time=   0.9s\n",
      "[CV] END max_features=auto, min_samples_leaf=5, min_samples_split=5, n_estimators=250; total time=   4.0s\n",
      "[CV] END max_features=auto, min_samples_leaf=5, min_samples_split=5, n_estimators=250; total time=   4.0s\n",
      "[CV] END max_features=log2, min_samples_leaf=1, min_samples_split=10, n_estimators=150; total time=   0.8s\n",
      "[CV] END max_features=log2, min_samples_leaf=1, min_samples_split=10, n_estimators=150; total time=   0.9s\n",
      "[CV] END max_features=log2, min_samples_leaf=2, min_samples_split=10, n_estimators=150; total time=   0.8s\n",
      "[CV] END max_features=log2, min_samples_leaf=2, min_samples_split=10, n_estimators=150; total time=   0.8s\n",
      "[CV] END max_features=log2, min_samples_leaf=5, min_samples_split=2, n_estimators=50; total time=   0.2s\n",
      "[CV] END max_features=log2, min_samples_leaf=5, min_samples_split=2, n_estimators=50; total time=   0.2s\n",
      "[CV] END max_features=log2, min_samples_leaf=2, min_samples_split=2, n_estimators=200; total time=   1.3s\n",
      "[CV] END max_features=log2, min_samples_leaf=2, min_samples_split=2, n_estimators=200; total time=   1.3s\n",
      "[CV] END max_features=auto, min_samples_leaf=1, min_samples_split=10, n_estimators=100; total time=   1.7s\n",
      "[CV] END max_features=auto, min_samples_leaf=1, min_samples_split=10, n_estimators=100; total time=   1.8s\n",
      "[CV] END max_features=log2, min_samples_leaf=1, min_samples_split=5, n_estimators=100; total time=   0.6s\n",
      "[CV] END max_features=log2, min_samples_leaf=1, min_samples_split=5, n_estimators=100; total time=   0.7s\n",
      "[CV] END max_features=sqrt, min_samples_leaf=5, min_samples_split=10, n_estimators=50; total time=   0.2s\n",
      "[CV] END max_features=sqrt, min_samples_leaf=5, min_samples_split=10, n_estimators=50; total time=   0.2s\n",
      "[CV] END max_features=log2, min_samples_leaf=5, min_samples_split=10, n_estimators=150; total time=   0.7s\n",
      "[CV] END max_features=log2, min_samples_leaf=5, min_samples_split=10, n_estimators=150; total time=   0.8s\n",
      "[CV] END max_features=log2, min_samples_leaf=5, min_samples_split=10, n_estimators=300; total time=   1.7s\n",
      "[CV] END max_features=log2, min_samples_leaf=5, min_samples_split=10, n_estimators=300; total time=   1.6s\n",
      "[CV] END max_features=log2, min_samples_leaf=2, min_samples_split=10, n_estimators=50; total time=   0.2s\n",
      "[CV] END max_features=log2, min_samples_leaf=2, min_samples_split=10, n_estimators=50; total time=   0.2s\n",
      "[CV] END max_features=sqrt, min_samples_leaf=5, min_samples_split=5, n_estimators=300; total time=   1.6s\n",
      "[CV] END max_features=sqrt, min_samples_leaf=5, min_samples_split=5, n_estimators=300; total time=   1.6s\n",
      "[CV] END max_features=log2, min_samples_leaf=2, min_samples_split=2, n_estimators=250; total time=   1.7s\n",
      "[CV] END max_features=log2, min_samples_leaf=2, min_samples_split=2, n_estimators=250; total time=   1.6s\n",
      "[CV] END max_features=log2, min_samples_leaf=5, min_samples_split=5, n_estimators=200; total time=   1.0s\n",
      "[CV] END max_features=log2, min_samples_leaf=5, min_samples_split=5, n_estimators=200; total time=   1.0s\n",
      "[CV] END max_features=auto, min_samples_leaf=1, min_samples_split=5, n_estimators=300; total time=   6.1s\n",
      "[CV] END max_features=auto, min_samples_leaf=1, min_samples_split=5, n_estimators=300; total time=   6.0s\n",
      "[CV] END max_features=auto, min_samples_leaf=2, min_samples_split=10, n_estimators=150; total time=   2.6s\n",
      "[CV] END max_features=auto, min_samples_leaf=2, min_samples_split=10, n_estimators=150; total time=   2.5s\n",
      "[CV] END max_features=log2, min_samples_leaf=5, min_samples_split=2, n_estimators=300; total time=   1.5s\n",
      "[CV] END max_features=log2, min_samples_leaf=5, min_samples_split=2, n_estimators=300; total time=   1.5s\n",
      "[CV] END max_features=log2, min_samples_leaf=5, min_samples_split=5, n_estimators=50; total time=   0.2s\n",
      "[CV] END max_features=log2, min_samples_leaf=5, min_samples_split=5, n_estimators=50; total time=   0.2s\n",
      "[CV] END max_features=sqrt, min_samples_leaf=2, min_samples_split=2, n_estimators=150; total time=   0.9s\n",
      "[CV] END max_features=sqrt, min_samples_leaf=2, min_samples_split=2, n_estimators=150; total time=   0.9s\n",
      "[CV] END max_features=sqrt, min_samples_leaf=2, min_samples_split=10, n_estimators=250; total time=   1.4s\n",
      "[CV] END max_features=sqrt, min_samples_leaf=2, min_samples_split=10, n_estimators=250; total time=   1.4s\n",
      "[CV] END max_features=log2, min_samples_leaf=1, min_samples_split=5, n_estimators=150; total time=   1.0s\n",
      "[CV] END max_features=log2, min_samples_leaf=1, min_samples_split=5, n_estimators=150; total time=   1.0s\n",
      "[CV] END max_features=sqrt, min_samples_leaf=2, min_samples_split=10, n_estimators=50; total time=   0.2s\n",
      "[CV] END max_features=sqrt, min_samples_leaf=2, min_samples_split=10, n_estimators=50; total time=   0.2s\n",
      "[CV] END max_features=auto, min_samples_leaf=2, min_samples_split=5, n_estimators=250; total time=   4.6s\n",
      "[CV] END max_features=auto, min_samples_leaf=2, min_samples_split=5, n_estimators=250; total time=   4.7s\n",
      "[CV] END max_features=sqrt, min_samples_leaf=1, min_samples_split=5, n_estimators=50; total time=   0.3s\n",
      "[CV] END max_features=sqrt, min_samples_leaf=1, min_samples_split=5, n_estimators=50; total time=   0.3s\n",
      "[CV] END max_features=sqrt, min_samples_leaf=2, min_samples_split=5, n_estimators=50; total time=   0.2s\n",
      "[CV] END max_features=sqrt, min_samples_leaf=2, min_samples_split=5, n_estimators=50; total time=   0.2s\n",
      "[CV] END max_features=auto, min_samples_leaf=5, min_samples_split=10, n_estimators=200; total time=   3.1s\n",
      "[CV] END max_features=auto, min_samples_leaf=5, min_samples_split=10, n_estimators=200; total time=   3.1s\n",
      "[CV] END max_features=sqrt, min_samples_leaf=1, min_samples_split=5, n_estimators=150; total time=   1.0s\n",
      "[CV] END max_features=sqrt, min_samples_leaf=1, min_samples_split=5, n_estimators=150; total time=   1.0s\n",
      "[CV] END max_features=auto, min_samples_leaf=5, min_samples_split=10, n_estimators=250; total time=   3.9s\n"
     ]
    },
    {
     "name": "stdout",
     "output_type": "stream",
     "text": [
      "[CV] END max_features=auto, min_samples_leaf=5, min_samples_split=10, n_estimators=250; total time=   3.9s\n",
      "[CV] END max_features=sqrt, min_samples_leaf=1, min_samples_split=10, n_estimators=250; total time=   1.4s\n",
      "[CV] END max_features=sqrt, min_samples_leaf=1, min_samples_split=10, n_estimators=250; total time=   1.5s\n",
      "[CV] END max_features=auto, min_samples_leaf=5, min_samples_split=2, n_estimators=250; total time=   3.9s\n",
      "[CV] END max_features=auto, min_samples_leaf=5, min_samples_split=2, n_estimators=250; total time=   3.9s\n",
      "[CV] END max_features=sqrt, min_samples_leaf=2, min_samples_split=2, n_estimators=300; total time=   1.9s\n",
      "[CV] END max_features=sqrt, min_samples_leaf=2, min_samples_split=2, n_estimators=300; total time=   1.9s\n",
      "[CV] END max_features=sqrt, min_samples_leaf=1, min_samples_split=5, n_estimators=300; total time=   2.0s\n",
      "[CV] END max_features=sqrt, min_samples_leaf=1, min_samples_split=5, n_estimators=300; total time=   2.0s\n",
      "[CV] END max_features=log2, min_samples_leaf=2, min_samples_split=5, n_estimators=300; total time=   1.8s\n",
      "[CV] END max_features=log2, min_samples_leaf=2, min_samples_split=5, n_estimators=300; total time=   1.8s\n",
      "[CV] END max_features=auto, min_samples_leaf=2, min_samples_split=2, n_estimators=250; total time=   4.8s\n",
      "[CV] END max_features=auto, min_samples_leaf=2, min_samples_split=2, n_estimators=250; total time=   4.8s\n",
      "[CV] END max_features=log2, min_samples_leaf=5, min_samples_split=2, n_estimators=150; total time=   0.7s\n",
      "[CV] END max_features=log2, min_samples_leaf=5, min_samples_split=2, n_estimators=150; total time=   0.7s\n",
      "[CV] END max_features=auto, min_samples_leaf=2, min_samples_split=5, n_estimators=150; total time=   2.7s\n",
      "[CV] END max_features=auto, min_samples_leaf=2, min_samples_split=5, n_estimators=150; total time=   2.8s\n",
      "[CV] END max_features=log2, min_samples_leaf=1, min_samples_split=5, n_estimators=300; total time=   2.0s\n",
      "[CV] END max_features=log2, min_samples_leaf=1, min_samples_split=5, n_estimators=300; total time=   2.1s\n",
      "[CV] END max_features=auto, min_samples_leaf=5, min_samples_split=10, n_estimators=100; total time=   1.5s\n",
      "[CV] END max_features=auto, min_samples_leaf=5, min_samples_split=10, n_estimators=100; total time=   1.5s\n",
      "[CV] END max_features=auto, min_samples_leaf=5, min_samples_split=2, n_estimators=300; total time=   4.7s\n",
      "[CV] END max_features=auto, min_samples_leaf=5, min_samples_split=2, n_estimators=300; total time=   4.7s\n",
      "[CV] END max_features=auto, min_samples_leaf=5, min_samples_split=2, n_estimators=50; total time=   0.7s\n",
      "[CV] END max_features=auto, min_samples_leaf=5, min_samples_split=2, n_estimators=50; total time=   0.7s\n",
      "[CV] END max_features=auto, min_samples_leaf=1, min_samples_split=2, n_estimators=300; total time=   6.8s\n",
      "[CV] END max_features=auto, min_samples_leaf=1, min_samples_split=2, n_estimators=300; total time=   6.9s\n",
      "[CV] END max_features=log2, min_samples_leaf=2, min_samples_split=5, n_estimators=100; total time=   0.5s\n",
      "[CV] END max_features=log2, min_samples_leaf=2, min_samples_split=5, n_estimators=100; total time=   0.6s\n",
      "[CV] END max_features=log2, min_samples_leaf=5, min_samples_split=10, n_estimators=200; total time=   1.0s\n",
      "[CV] END max_features=log2, min_samples_leaf=5, min_samples_split=10, n_estimators=200; total time=   1.0s\n",
      "[CV] END max_features=auto, min_samples_leaf=1, min_samples_split=10, n_estimators=300; total time=   5.5s\n",
      "[CV] END max_features=auto, min_samples_leaf=1, min_samples_split=10, n_estimators=300; total time=   5.4s\n",
      "[CV] END max_features=log2, min_samples_leaf=1, min_samples_split=5, n_estimators=200; total time=   1.3s\n",
      "[CV] END max_features=log2, min_samples_leaf=1, min_samples_split=5, n_estimators=200; total time=   1.3s\n",
      "[CV] END max_features=log2, min_samples_leaf=1, min_samples_split=10, n_estimators=100; total time=   0.5s\n",
      "[CV] END max_features=log2, min_samples_leaf=1, min_samples_split=10, n_estimators=100; total time=   0.5s\n",
      "[CV] END max_features=log2, min_samples_leaf=5, min_samples_split=2, n_estimators=250; total time=   1.2s\n",
      "[CV] END max_features=log2, min_samples_leaf=5, min_samples_split=2, n_estimators=250; total time=   1.2s\n",
      "[CV] END max_features=log2, min_samples_leaf=1, min_samples_split=2, n_estimators=50; total time=   0.3s\n",
      "[CV] END max_features=log2, min_samples_leaf=1, min_samples_split=2, n_estimators=50; total time=   0.3s\n",
      "[CV] END max_features=log2, min_samples_leaf=2, min_samples_split=10, n_estimators=300; total time=   1.6s\n",
      "[CV] END max_features=log2, min_samples_leaf=2, min_samples_split=10, n_estimators=300; total time=   1.7s\n",
      "[CV] END max_features=sqrt, min_samples_leaf=2, min_samples_split=5, n_estimators=100; total time=   0.5s\n",
      "[CV] END max_features=sqrt, min_samples_leaf=2, min_samples_split=5, n_estimators=100; total time=   0.6s\n",
      "[CV] END max_features=log2, min_samples_leaf=5, min_samples_split=2, n_estimators=200; total time=   1.0s\n",
      "[CV] END max_features=log2, min_samples_leaf=5, min_samples_split=2, n_estimators=200; total time=   1.0s\n",
      "[CV] END max_features=log2, min_samples_leaf=1, min_samples_split=10, n_estimators=300; total time=   1.7s\n",
      "[CV] END max_features=log2, min_samples_leaf=1, min_samples_split=10, n_estimators=300; total time=   1.7s\n",
      "[CV] END max_features=auto, min_samples_leaf=1, min_samples_split=5, n_estimators=150; total time=   2.9s\n",
      "[CV] END max_features=auto, min_samples_leaf=1, min_samples_split=5, n_estimators=150; total time=   2.9s\n",
      "[CV] END max_features=sqrt, min_samples_leaf=1, min_samples_split=10, n_estimators=50; total time=   0.2s\n",
      "[CV] END max_features=sqrt, min_samples_leaf=1, min_samples_split=10, n_estimators=50; total time=   0.2s\n",
      "[CV] END max_features=sqrt, min_samples_leaf=2, min_samples_split=10, n_estimators=100; total time=   0.5s\n",
      "[CV] END max_features=sqrt, min_samples_leaf=2, min_samples_split=10, n_estimators=100; total time=   0.5s\n",
      "[CV] END max_features=auto, min_samples_leaf=2, min_samples_split=5, n_estimators=300; total time=   5.6s\n",
      "[CV] END max_features=auto, min_samples_leaf=2, min_samples_split=5, n_estimators=300; total time=   5.7s\n",
      "[CV] END max_features=auto, min_samples_leaf=1, min_samples_split=2, n_estimators=200; total time=   4.5s\n",
      "[CV] END max_features=auto, min_samples_leaf=1, min_samples_split=2, n_estimators=200; total time=   4.7s\n",
      "[CV] END max_features=auto, min_samples_leaf=5, min_samples_split=2, n_estimators=200; total time=   3.1s\n",
      "[CV] END max_features=auto, min_samples_leaf=5, min_samples_split=2, n_estimators=200; total time=   3.1s\n",
      "[CV] END max_features=sqrt, min_samples_leaf=5, min_samples_split=5, n_estimators=150; total time=   0.7s\n",
      "[CV] END max_features=sqrt, min_samples_leaf=5, min_samples_split=5, n_estimators=150; total time=   0.7s\n",
      "[CV] END max_features=sqrt, min_samples_leaf=5, min_samples_split=5, n_estimators=200; total time=   1.1s\n",
      "[CV] END max_features=sqrt, min_samples_leaf=5, min_samples_split=5, n_estimators=200; total time=   1.0s\n",
      "[CV] END max_features=sqrt, min_samples_leaf=1, min_samples_split=2, n_estimators=50; total time=   0.3s\n",
      "[CV] END max_features=sqrt, min_samples_leaf=1, min_samples_split=2, n_estimators=50; total time=   0.3s\n",
      "[CV] END max_features=log2, min_samples_leaf=2, min_samples_split=5, n_estimators=50; total time=   0.2s\n",
      "[CV] END max_features=log2, min_samples_leaf=2, min_samples_split=5, n_estimators=50; total time=   0.2s\n",
      "[CV] END max_features=auto, min_samples_leaf=5, min_samples_split=5, n_estimators=100; total time=   1.5s\n",
      "[CV] END max_features=auto, min_samples_leaf=5, min_samples_split=5, n_estimators=100; total time=   1.5s\n",
      "[CV] END max_features=sqrt, min_samples_leaf=5, min_samples_split=10, n_estimators=150; total time=   0.7s\n",
      "[CV] END max_features=sqrt, min_samples_leaf=5, min_samples_split=10, n_estimators=150; total time=   0.7s\n",
      "[CV] END max_features=auto, min_samples_leaf=5, min_samples_split=10, n_estimators=50; total time=   0.7s\n",
      "[CV] END max_features=auto, min_samples_leaf=5, min_samples_split=10, n_estimators=50; total time=   0.7s\n",
      "[CV] END max_features=log2, min_samples_leaf=1, min_samples_split=2, n_estimators=200; total time=   1.7s\n",
      "[CV] END max_features=log2, min_samples_leaf=1, min_samples_split=2, n_estimators=200; total time=   1.7s\n",
      "[CV] END max_features=sqrt, min_samples_leaf=1, min_samples_split=2, n_estimators=300; total time=   2.5s\n"
     ]
    },
    {
     "name": "stdout",
     "output_type": "stream",
     "text": [
      "[CV] END max_features=sqrt, min_samples_leaf=1, min_samples_split=2, n_estimators=300; total time=   2.6s\n",
      "[CV] END max_features=auto, min_samples_leaf=1, min_samples_split=10, n_estimators=200; total time=   3.5s\n",
      "[CV] END max_features=auto, min_samples_leaf=1, min_samples_split=10, n_estimators=200; total time=   3.5s\n",
      "[CV] END max_features=auto, min_samples_leaf=5, min_samples_split=10, n_estimators=300; total time=   4.7s\n",
      "[CV] END max_features=auto, min_samples_leaf=5, min_samples_split=10, n_estimators=300; total time=   4.7s\n",
      "[CV] END max_features=auto, min_samples_leaf=2, min_samples_split=2, n_estimators=150; total time=   2.8s\n",
      "[CV] END max_features=auto, min_samples_leaf=2, min_samples_split=2, n_estimators=150; total time=   2.8s\n",
      "[CV] END max_features=auto, min_samples_leaf=1, min_samples_split=10, n_estimators=150; total time=   2.6s\n",
      "[CV] END max_features=auto, min_samples_leaf=1, min_samples_split=10, n_estimators=150; total time=   2.6s\n",
      "[CV] END max_features=sqrt, min_samples_leaf=5, min_samples_split=2, n_estimators=50; total time=   0.2s\n",
      "[CV] END max_features=sqrt, min_samples_leaf=5, min_samples_split=2, n_estimators=50; total time=   0.2s\n",
      "[CV] END max_features=sqrt, min_samples_leaf=2, min_samples_split=2, n_estimators=250; total time=   1.6s\n",
      "[CV] END max_features=sqrt, min_samples_leaf=2, min_samples_split=2, n_estimators=250; total time=   1.5s\n",
      "[CV] END max_features=auto, min_samples_leaf=1, min_samples_split=5, n_estimators=200; total time=   4.0s\n",
      "[CV] END max_features=auto, min_samples_leaf=1, min_samples_split=5, n_estimators=200; total time=   4.1s\n",
      "[CV] END max_features=auto, min_samples_leaf=1, min_samples_split=10, n_estimators=50; total time=   0.8s\n",
      "[CV] END max_features=auto, min_samples_leaf=1, min_samples_split=10, n_estimators=50; total time=   0.9s\n",
      "[CV] END max_features=auto, min_samples_leaf=1, min_samples_split=10, n_estimators=250; total time=   4.4s\n",
      "[CV] END max_features=auto, min_samples_leaf=1, min_samples_split=10, n_estimators=250; total time=   4.5s\n",
      "[CV] END max_features=auto, min_samples_leaf=5, min_samples_split=5, n_estimators=300; total time=   4.6s\n",
      "[CV] END max_features=auto, min_samples_leaf=5, min_samples_split=5, n_estimators=300; total time=   4.7s\n",
      "[CV] END max_features=sqrt, min_samples_leaf=1, min_samples_split=2, n_estimators=250; total time=   2.1s\n",
      "[CV] END max_features=sqrt, min_samples_leaf=1, min_samples_split=2, n_estimators=250; total time=   2.1s\n",
      "[CV] END max_features=log2, min_samples_leaf=5, min_samples_split=2, n_estimators=100; total time=   0.4s\n",
      "[CV] END max_features=log2, min_samples_leaf=5, min_samples_split=2, n_estimators=100; total time=   0.4s\n",
      "[CV] END max_features=log2, min_samples_leaf=1, min_samples_split=2, n_estimators=100; total time=   0.8s\n",
      "[CV] END max_features=log2, min_samples_leaf=1, min_samples_split=2, n_estimators=100; total time=   0.8s\n",
      "[CV] END max_features=log2, min_samples_leaf=1, min_samples_split=2, n_estimators=300; total time=   2.5s\n",
      "[CV] END max_features=log2, min_samples_leaf=1, min_samples_split=2, n_estimators=300; total time=   2.5s\n",
      "[CV] END max_features=auto, min_samples_leaf=2, min_samples_split=2, n_estimators=50; total time=   0.9s\n",
      "[CV] END max_features=auto, min_samples_leaf=2, min_samples_split=2, n_estimators=50; total time=   0.9s\n",
      "[CV] END max_features=auto, min_samples_leaf=5, min_samples_split=10, n_estimators=150; total time=   2.3s\n",
      "[CV] END max_features=auto, min_samples_leaf=5, min_samples_split=10, n_estimators=150; total time=   2.3s\n",
      "[CV] END max_features=log2, min_samples_leaf=2, min_samples_split=2, n_estimators=300; total time=   1.9s\n",
      "[CV] END max_features=log2, min_samples_leaf=2, min_samples_split=2, n_estimators=300; total time=   1.9s\n",
      "[CV] END max_features=auto, min_samples_leaf=1, min_samples_split=2, n_estimators=150; total time=   3.3s\n",
      "[CV] END max_features=auto, min_samples_leaf=1, min_samples_split=2, n_estimators=150; total time=   3.3s\n",
      "[CV] END max_features=auto, min_samples_leaf=2, min_samples_split=10, n_estimators=100; total time=   1.6s\n",
      "[CV] END max_features=auto, min_samples_leaf=2, min_samples_split=10, n_estimators=100; total time=   1.6s\n",
      "[CV] END max_features=sqrt, min_samples_leaf=2, min_samples_split=5, n_estimators=200; total time=   1.2s\n",
      "[CV] END max_features=sqrt, min_samples_leaf=2, min_samples_split=5, n_estimators=200; total time=   1.2s\n",
      "[CV] END max_features=log2, min_samples_leaf=2, min_samples_split=2, n_estimators=150; total time=   0.9s\n",
      "[CV] END max_features=log2, min_samples_leaf=2, min_samples_split=2, n_estimators=150; total time=   0.9s\n",
      "[CV] END max_features=sqrt, min_samples_leaf=2, min_samples_split=2, n_estimators=100; total time=   0.6s\n",
      "[CV] END max_features=sqrt, min_samples_leaf=2, min_samples_split=2, n_estimators=100; total time=   0.6s\n",
      "[CV] END max_features=sqrt, min_samples_leaf=1, min_samples_split=2, n_estimators=200; total time=   1.6s\n",
      "[CV] END max_features=sqrt, min_samples_leaf=1, min_samples_split=2, n_estimators=200; total time=   1.6s\n",
      "[CV] END max_features=auto, min_samples_leaf=2, min_samples_split=10, n_estimators=50; total time=   0.8s\n",
      "[CV] END max_features=auto, min_samples_leaf=2, min_samples_split=10, n_estimators=50; total time=   0.8s\n",
      "[CV] END max_features=auto, min_samples_leaf=2, min_samples_split=10, n_estimators=200; total time=   3.3s\n",
      "[CV] END max_features=auto, min_samples_leaf=2, min_samples_split=10, n_estimators=200; total time=   3.4s\n",
      "[CV] END max_features=sqrt, min_samples_leaf=5, min_samples_split=10, n_estimators=250; total time=   1.2s\n",
      "[CV] END max_features=sqrt, min_samples_leaf=5, min_samples_split=10, n_estimators=250; total time=   1.2s\n",
      "[CV] END max_features=log2, min_samples_leaf=2, min_samples_split=5, n_estimators=150; total time=   0.9s\n",
      "[CV] END max_features=log2, min_samples_leaf=2, min_samples_split=5, n_estimators=150; total time=   0.9s\n",
      "[CV] END max_features=auto, min_samples_leaf=2, min_samples_split=5, n_estimators=200; total time=   3.7s\n",
      "[CV] END max_features=auto, min_samples_leaf=2, min_samples_split=5, n_estimators=200; total time=   3.7s\n",
      "[CV] END max_features=log2, min_samples_leaf=5, min_samples_split=10, n_estimators=50; total time=   0.2s\n",
      "[CV] END max_features=log2, min_samples_leaf=5, min_samples_split=10, n_estimators=50; total time=   0.2s\n",
      "[CV] END max_features=log2, min_samples_leaf=5, min_samples_split=5, n_estimators=150; total time=   0.7s\n",
      "[CV] END max_features=log2, min_samples_leaf=5, min_samples_split=5, n_estimators=150; total time=   0.7s\n",
      "[CV] END max_features=sqrt, min_samples_leaf=5, min_samples_split=2, n_estimators=100; total time=   0.4s\n",
      "[CV] END max_features=sqrt, min_samples_leaf=5, min_samples_split=2, n_estimators=100; total time=   0.4s\n",
      "[CV] END max_features=log2, min_samples_leaf=5, min_samples_split=10, n_estimators=250; total time=   1.2s\n",
      "[CV] END max_features=log2, min_samples_leaf=5, min_samples_split=10, n_estimators=250; total time=   1.2s\n",
      "[CV] END max_features=sqrt, min_samples_leaf=5, min_samples_split=5, n_estimators=100; total time=   0.4s\n",
      "[CV] END max_features=sqrt, min_samples_leaf=5, min_samples_split=5, n_estimators=100; total time=   0.4s\n",
      "[CV] END max_features=log2, min_samples_leaf=1, min_samples_split=10, n_estimators=50; total time=   0.2s\n",
      "[CV] END max_features=log2, min_samples_leaf=1, min_samples_split=10, n_estimators=50; total time=   0.2s\n",
      "[CV] END max_features=sqrt, min_samples_leaf=5, min_samples_split=5, n_estimators=250; total time=   1.2s\n",
      "[CV] END max_features=sqrt, min_samples_leaf=5, min_samples_split=5, n_estimators=250; total time=   1.2s\n",
      "[CV] END max_features=auto, min_samples_leaf=2, min_samples_split=2, n_estimators=200; total time=   3.8s\n",
      "[CV] END max_features=auto, min_samples_leaf=2, min_samples_split=2, n_estimators=200; total time=   3.9s\n",
      "[CV] END max_features=sqrt, min_samples_leaf=5, min_samples_split=5, n_estimators=50; total time=   0.2s\n",
      "[CV] END max_features=sqrt, min_samples_leaf=5, min_samples_split=5, n_estimators=50; total time=   0.2s\n",
      "[CV] END max_features=log2, min_samples_leaf=2, min_samples_split=2, n_estimators=50; total time=   0.2s\n",
      "[CV] END max_features=log2, min_samples_leaf=2, min_samples_split=2, n_estimators=50; total time=   0.2s\n",
      "[CV] END max_features=log2, min_samples_leaf=1, min_samples_split=10, n_estimators=200; total time=   1.1s\n"
     ]
    },
    {
     "name": "stdout",
     "output_type": "stream",
     "text": [
      "[CV] END max_features=log2, min_samples_leaf=1, min_samples_split=10, n_estimators=200; total time=   1.1s\n",
      "[CV] END max_features=auto, min_samples_leaf=1, min_samples_split=5, n_estimators=100; total time=   1.9s\n",
      "[CV] END max_features=auto, min_samples_leaf=1, min_samples_split=5, n_estimators=100; total time=   1.9s\n",
      "[CV] END max_features=sqrt, min_samples_leaf=1, min_samples_split=5, n_estimators=100; total time=   0.6s\n",
      "[CV] END max_features=sqrt, min_samples_leaf=1, min_samples_split=5, n_estimators=100; total time=   0.6s\n",
      "[CV] END max_features=sqrt, min_samples_leaf=1, min_samples_split=5, n_estimators=250; total time=   1.6s\n",
      "[CV] END max_features=sqrt, min_samples_leaf=1, min_samples_split=5, n_estimators=250; total time=   1.7s\n",
      "[CV] END max_features=auto, min_samples_leaf=2, min_samples_split=10, n_estimators=300; total time=   5.1s\n",
      "[CV] END max_features=auto, min_samples_leaf=2, min_samples_split=10, n_estimators=300; total time=   5.1s\n",
      "[CV] END max_features=sqrt, min_samples_leaf=5, min_samples_split=10, n_estimators=200; total time=   1.0s\n",
      "[CV] END max_features=sqrt, min_samples_leaf=5, min_samples_split=10, n_estimators=200; total time=   1.0s\n",
      "[CV] END max_features=auto, min_samples_leaf=1, min_samples_split=5, n_estimators=250; total time=   5.0s\n",
      "[CV] END max_features=auto, min_samples_leaf=1, min_samples_split=5, n_estimators=250; total time=   4.9s\n",
      "[CV] END max_features=log2, min_samples_leaf=5, min_samples_split=5, n_estimators=300; total time=   1.5s\n",
      "[CV] END max_features=log2, min_samples_leaf=5, min_samples_split=5, n_estimators=300; total time=   1.5s\n",
      "[CV] END max_features=sqrt, min_samples_leaf=1, min_samples_split=10, n_estimators=300; total time=   1.7s\n",
      "[CV] END max_features=sqrt, min_samples_leaf=1, min_samples_split=10, n_estimators=300; total time=   1.7s\n",
      "[CV] END max_features=log2, min_samples_leaf=1, min_samples_split=10, n_estimators=250; total time=   1.4s\n",
      "[CV] END max_features=log2, min_samples_leaf=1, min_samples_split=10, n_estimators=250; total time=   1.4s\n",
      "[CV] END max_features=log2, min_samples_leaf=5, min_samples_split=10, n_estimators=100; total time=   0.4s\n",
      "[CV] END max_features=log2, min_samples_leaf=5, min_samples_split=10, n_estimators=100; total time=   0.4s\n",
      "[CV] END max_features=log2, min_samples_leaf=2, min_samples_split=10, n_estimators=200; total time=   1.0s\n",
      "[CV] END max_features=log2, min_samples_leaf=2, min_samples_split=10, n_estimators=200; total time=   1.1s\n",
      "[CV] END max_features=sqrt, min_samples_leaf=5, min_samples_split=2, n_estimators=200; total time=   1.0s\n",
      "[CV] END max_features=sqrt, min_samples_leaf=5, min_samples_split=2, n_estimators=200; total time=   1.0s\n",
      "[CV] END max_features=log2, min_samples_leaf=1, min_samples_split=5, n_estimators=250; total time=   1.7s\n",
      "[CV] END max_features=log2, min_samples_leaf=1, min_samples_split=5, n_estimators=250; total time=   1.7s\n",
      "[CV] END max_features=auto, min_samples_leaf=1, min_samples_split=2, n_estimators=100; total time=   2.2s\n",
      "[CV] END max_features=auto, min_samples_leaf=1, min_samples_split=2, n_estimators=100; total time=   2.2s\n",
      "[CV] END max_features=sqrt, min_samples_leaf=2, min_samples_split=5, n_estimators=300; total time=   1.8s\n",
      "[CV] END max_features=sqrt, min_samples_leaf=2, min_samples_split=5, n_estimators=300; total time=   1.8s\n",
      "[CV] END max_features=log2, min_samples_leaf=5, min_samples_split=5, n_estimators=250; total time=   1.2s\n",
      "[CV] END max_features=log2, min_samples_leaf=5, min_samples_split=5, n_estimators=250; total time=   1.2s\n",
      "[CV] END max_features=sqrt, min_samples_leaf=2, min_samples_split=10, n_estimators=200; total time=   1.1s\n",
      "[CV] END max_features=sqrt, min_samples_leaf=2, min_samples_split=10, n_estimators=200; total time=   1.1s\n",
      "[CV] END max_features=auto, min_samples_leaf=1, min_samples_split=2, n_estimators=250; total time=   5.6s\n",
      "[CV] END max_features=auto, min_samples_leaf=1, min_samples_split=2, n_estimators=250; total time=   5.7s\n",
      "[CV] END max_features=auto, min_samples_leaf=5, min_samples_split=2, n_estimators=150; total time=   2.3s\n",
      "[CV] END max_features=auto, min_samples_leaf=5, min_samples_split=2, n_estimators=150; total time=   2.3s\n",
      "[CV] END max_features=log2, min_samples_leaf=2, min_samples_split=10, n_estimators=100; total time=   0.5s\n",
      "[CV] END max_features=log2, min_samples_leaf=2, min_samples_split=10, n_estimators=100; total time=   0.5s\n",
      "[CV] END max_features=auto, min_samples_leaf=2, min_samples_split=10, n_estimators=250; total time=   4.2s\n",
      "[CV] END max_features=auto, min_samples_leaf=2, min_samples_split=10, n_estimators=250; total time=   4.2s\n",
      "[CV] END max_features=log2, min_samples_leaf=1, min_samples_split=2, n_estimators=250; total time=   2.0s\n",
      "[CV] END max_features=log2, min_samples_leaf=1, min_samples_split=2, n_estimators=250; total time=   2.1s\n",
      "[CV] END max_features=sqrt, min_samples_leaf=1, min_samples_split=2, n_estimators=150; total time=   1.2s\n",
      "[CV] END max_features=sqrt, min_samples_leaf=1, min_samples_split=2, n_estimators=150; total time=   1.2s\n",
      "[CV] END max_features=sqrt, min_samples_leaf=1, min_samples_split=10, n_estimators=200; total time=   1.1s\n",
      "[CV] END max_features=sqrt, min_samples_leaf=1, min_samples_split=10, n_estimators=200; total time=   1.1s\n",
      "[CV] END max_features=auto, min_samples_leaf=5, min_samples_split=5, n_estimators=150; total time=   2.3s\n",
      "[CV] END max_features=auto, min_samples_leaf=5, min_samples_split=5, n_estimators=150; total time=   2.3s\n",
      "[CV] END max_features=auto, min_samples_leaf=2, min_samples_split=2, n_estimators=100; total time=   1.8s\n",
      "[CV] END max_features=auto, min_samples_leaf=2, min_samples_split=2, n_estimators=100; total time=   1.8s\n",
      "[CV] END max_features=auto, min_samples_leaf=1, min_samples_split=5, n_estimators=50; total time=   0.9s\n",
      "[CV] END max_features=auto, min_samples_leaf=1, min_samples_split=5, n_estimators=50; total time=   0.9s\n",
      "[CV] END max_features=sqrt, min_samples_leaf=1, min_samples_split=2, n_estimators=100; total time=   0.8s\n",
      "[CV] END max_features=sqrt, min_samples_leaf=1, min_samples_split=2, n_estimators=100; total time=   0.8s\n",
      "[CV] END max_features=sqrt, min_samples_leaf=2, min_samples_split=2, n_estimators=200; total time=   1.2s\n",
      "[CV] END max_features=sqrt, min_samples_leaf=2, min_samples_split=2, n_estimators=200; total time=   1.2s\n",
      "[CV] END max_features=auto, min_samples_leaf=1, min_samples_split=2, n_estimators=50; total time=   1.0s\n",
      "[CV] END max_features=auto, min_samples_leaf=1, min_samples_split=2, n_estimators=50; total time=   1.0s\n",
      "[CV] END max_features=log2, min_samples_leaf=2, min_samples_split=5, n_estimators=200; total time=   1.2s\n",
      "[CV] END max_features=log2, min_samples_leaf=2, min_samples_split=5, n_estimators=200; total time=   1.2s\n",
      "[CV] END max_features=log2, min_samples_leaf=2, min_samples_split=2, n_estimators=100; total time=   0.6s\n",
      "[CV] END max_features=log2, min_samples_leaf=2, min_samples_split=2, n_estimators=100; total time=   0.6s\n",
      "[CV] END max_features=sqrt, min_samples_leaf=1, min_samples_split=10, n_estimators=150; total time=   0.8s\n",
      "[CV] END max_features=sqrt, min_samples_leaf=1, min_samples_split=10, n_estimators=150; total time=   0.8s\n"
     ]
    },
    {
     "data": {
      "text/plain": [
       "RandomizedSearchCV(cv=2, estimator=RandomForestRegressor(), n_iter=150,\n",
       "                   n_jobs=1,\n",
       "                   param_distributions={'max_features': ['auto', 'sqrt',\n",
       "                                                         'log2'],\n",
       "                                        'min_samples_leaf': [1, 2, 5],\n",
       "                                        'min_samples_split': [2, 5, 10],\n",
       "                                        'n_estimators': [50, 100, 150, 200, 250,\n",
       "                                                         300]},\n",
       "                   random_state=7, scoring='neg_mean_squared_log_error',\n",
       "                   verbose=2)"
      ]
     },
     "execution_count": 156,
     "metadata": {},
     "output_type": "execute_result"
    }
   ],
   "source": [
    "#y_train = y_train.reshape((-1,))\n",
    "#random_rf.fit(x_train,y_train)"
   ]
  },
  {
   "cell_type": "code",
   "execution_count": null,
   "id": "1451d09d",
   "metadata": {},
   "outputs": [],
   "source": []
  },
  {
   "cell_type": "code",
   "execution_count": 117,
   "id": "f3997c75",
   "metadata": {
    "scrolled": true
   },
   "outputs": [
    {
     "name": "stdout",
     "output_type": "stream",
     "text": [
      "Fitting 2 folds for each of 96 candidates, totalling 192 fits\n",
      "[CV] END max_depth=10, max_features=sqrt, min_samples_leaf=1, min_samples_split=2, n_estimators=50; total time=   0.3s\n",
      "[CV] END max_depth=10, max_features=sqrt, min_samples_leaf=1, min_samples_split=2, n_estimators=50; total time=   0.2s\n",
      "[CV] END max_depth=10, max_features=sqrt, min_samples_leaf=1, min_samples_split=10, n_estimators=50; total time=   0.2s\n",
      "[CV] END max_depth=10, max_features=sqrt, min_samples_leaf=1, min_samples_split=10, n_estimators=50; total time=   0.3s\n",
      "[CV] END max_depth=10, max_features=sqrt, min_samples_leaf=1, min_samples_split=20, n_estimators=50; total time=   0.2s\n",
      "[CV] END max_depth=10, max_features=sqrt, min_samples_leaf=1, min_samples_split=20, n_estimators=50; total time=   0.2s\n",
      "[CV] END max_depth=10, max_features=sqrt, min_samples_leaf=1, min_samples_split=30, n_estimators=50; total time=   0.3s\n",
      "[CV] END max_depth=10, max_features=sqrt, min_samples_leaf=1, min_samples_split=30, n_estimators=50; total time=   0.3s\n",
      "[CV] END max_depth=10, max_features=sqrt, min_samples_leaf=10, min_samples_split=2, n_estimators=50; total time=   0.2s\n",
      "[CV] END max_depth=10, max_features=sqrt, min_samples_leaf=10, min_samples_split=2, n_estimators=50; total time=   0.2s\n",
      "[CV] END max_depth=10, max_features=sqrt, min_samples_leaf=10, min_samples_split=10, n_estimators=50; total time=   0.3s\n",
      "[CV] END max_depth=10, max_features=sqrt, min_samples_leaf=10, min_samples_split=10, n_estimators=50; total time=   0.3s\n",
      "[CV] END max_depth=10, max_features=sqrt, min_samples_leaf=10, min_samples_split=20, n_estimators=50; total time=   0.3s\n",
      "[CV] END max_depth=10, max_features=sqrt, min_samples_leaf=10, min_samples_split=20, n_estimators=50; total time=   0.2s\n",
      "[CV] END max_depth=10, max_features=sqrt, min_samples_leaf=10, min_samples_split=30, n_estimators=50; total time=   0.3s\n",
      "[CV] END max_depth=10, max_features=sqrt, min_samples_leaf=10, min_samples_split=30, n_estimators=50; total time=   0.3s\n",
      "[CV] END max_depth=10, max_features=sqrt, min_samples_leaf=20, min_samples_split=2, n_estimators=50; total time=   0.3s\n",
      "[CV] END max_depth=10, max_features=sqrt, min_samples_leaf=20, min_samples_split=2, n_estimators=50; total time=   0.2s\n",
      "[CV] END max_depth=10, max_features=sqrt, min_samples_leaf=20, min_samples_split=10, n_estimators=50; total time=   0.2s\n",
      "[CV] END max_depth=10, max_features=sqrt, min_samples_leaf=20, min_samples_split=10, n_estimators=50; total time=   0.3s\n",
      "[CV] END max_depth=10, max_features=sqrt, min_samples_leaf=20, min_samples_split=20, n_estimators=50; total time=   0.2s\n",
      "[CV] END max_depth=10, max_features=sqrt, min_samples_leaf=20, min_samples_split=20, n_estimators=50; total time=   0.3s\n",
      "[CV] END max_depth=10, max_features=sqrt, min_samples_leaf=20, min_samples_split=30, n_estimators=50; total time=   0.2s\n",
      "[CV] END max_depth=10, max_features=sqrt, min_samples_leaf=20, min_samples_split=30, n_estimators=50; total time=   0.2s\n",
      "[CV] END max_depth=10, max_features=sqrt, min_samples_leaf=30, min_samples_split=2, n_estimators=50; total time=   0.3s\n",
      "[CV] END max_depth=10, max_features=sqrt, min_samples_leaf=30, min_samples_split=2, n_estimators=50; total time=   0.2s\n",
      "[CV] END max_depth=10, max_features=sqrt, min_samples_leaf=30, min_samples_split=10, n_estimators=50; total time=   0.2s\n",
      "[CV] END max_depth=10, max_features=sqrt, min_samples_leaf=30, min_samples_split=10, n_estimators=50; total time=   0.2s\n",
      "[CV] END max_depth=10, max_features=sqrt, min_samples_leaf=30, min_samples_split=20, n_estimators=50; total time=   0.2s\n",
      "[CV] END max_depth=10, max_features=sqrt, min_samples_leaf=30, min_samples_split=20, n_estimators=50; total time=   0.3s\n",
      "[CV] END max_depth=10, max_features=sqrt, min_samples_leaf=30, min_samples_split=30, n_estimators=50; total time=   0.2s\n",
      "[CV] END max_depth=10, max_features=sqrt, min_samples_leaf=30, min_samples_split=30, n_estimators=50; total time=   0.2s\n",
      "[CV] END max_depth=20, max_features=sqrt, min_samples_leaf=1, min_samples_split=2, n_estimators=50; total time=   0.6s\n",
      "[CV] END max_depth=20, max_features=sqrt, min_samples_leaf=1, min_samples_split=2, n_estimators=50; total time=   0.5s\n",
      "[CV] END max_depth=20, max_features=sqrt, min_samples_leaf=1, min_samples_split=10, n_estimators=50; total time=   0.5s\n",
      "[CV] END max_depth=20, max_features=sqrt, min_samples_leaf=1, min_samples_split=10, n_estimators=50; total time=   0.3s\n",
      "[CV] END max_depth=20, max_features=sqrt, min_samples_leaf=1, min_samples_split=20, n_estimators=50; total time=   0.3s\n",
      "[CV] END max_depth=20, max_features=sqrt, min_samples_leaf=1, min_samples_split=20, n_estimators=50; total time=   0.3s\n",
      "[CV] END max_depth=20, max_features=sqrt, min_samples_leaf=1, min_samples_split=30, n_estimators=50; total time=   0.3s\n",
      "[CV] END max_depth=20, max_features=sqrt, min_samples_leaf=1, min_samples_split=30, n_estimators=50; total time=   0.3s\n",
      "[CV] END max_depth=20, max_features=sqrt, min_samples_leaf=10, min_samples_split=2, n_estimators=50; total time=   0.3s\n",
      "[CV] END max_depth=20, max_features=sqrt, min_samples_leaf=10, min_samples_split=2, n_estimators=50; total time=   0.3s\n",
      "[CV] END max_depth=20, max_features=sqrt, min_samples_leaf=10, min_samples_split=10, n_estimators=50; total time=   0.3s\n",
      "[CV] END max_depth=20, max_features=sqrt, min_samples_leaf=10, min_samples_split=10, n_estimators=50; total time=   0.3s\n",
      "[CV] END max_depth=20, max_features=sqrt, min_samples_leaf=10, min_samples_split=20, n_estimators=50; total time=   0.3s\n",
      "[CV] END max_depth=20, max_features=sqrt, min_samples_leaf=10, min_samples_split=20, n_estimators=50; total time=   0.3s\n",
      "[CV] END max_depth=20, max_features=sqrt, min_samples_leaf=10, min_samples_split=30, n_estimators=50; total time=   0.2s\n",
      "[CV] END max_depth=20, max_features=sqrt, min_samples_leaf=10, min_samples_split=30, n_estimators=50; total time=   0.2s\n",
      "[CV] END max_depth=20, max_features=sqrt, min_samples_leaf=20, min_samples_split=2, n_estimators=50; total time=   0.2s\n",
      "[CV] END max_depth=20, max_features=sqrt, min_samples_leaf=20, min_samples_split=2, n_estimators=50; total time=   0.2s\n",
      "[CV] END max_depth=20, max_features=sqrt, min_samples_leaf=20, min_samples_split=10, n_estimators=50; total time=   0.2s\n",
      "[CV] END max_depth=20, max_features=sqrt, min_samples_leaf=20, min_samples_split=10, n_estimators=50; total time=   0.3s\n",
      "[CV] END max_depth=20, max_features=sqrt, min_samples_leaf=20, min_samples_split=20, n_estimators=50; total time=   0.2s\n",
      "[CV] END max_depth=20, max_features=sqrt, min_samples_leaf=20, min_samples_split=20, n_estimators=50; total time=   0.3s\n",
      "[CV] END max_depth=20, max_features=sqrt, min_samples_leaf=20, min_samples_split=30, n_estimators=50; total time=   0.2s\n",
      "[CV] END max_depth=20, max_features=sqrt, min_samples_leaf=20, min_samples_split=30, n_estimators=50; total time=   0.2s\n",
      "[CV] END max_depth=20, max_features=sqrt, min_samples_leaf=30, min_samples_split=2, n_estimators=50; total time=   0.2s\n",
      "[CV] END max_depth=20, max_features=sqrt, min_samples_leaf=30, min_samples_split=2, n_estimators=50; total time=   0.2s\n",
      "[CV] END max_depth=20, max_features=sqrt, min_samples_leaf=30, min_samples_split=10, n_estimators=50; total time=   0.2s\n",
      "[CV] END max_depth=20, max_features=sqrt, min_samples_leaf=30, min_samples_split=10, n_estimators=50; total time=   0.2s\n",
      "[CV] END max_depth=20, max_features=sqrt, min_samples_leaf=30, min_samples_split=20, n_estimators=50; total time=   0.2s\n",
      "[CV] END max_depth=20, max_features=sqrt, min_samples_leaf=30, min_samples_split=20, n_estimators=50; total time=   0.2s\n",
      "[CV] END max_depth=20, max_features=sqrt, min_samples_leaf=30, min_samples_split=30, n_estimators=50; total time=   0.3s\n",
      "[CV] END max_depth=20, max_features=sqrt, min_samples_leaf=30, min_samples_split=30, n_estimators=50; total time=   0.2s\n",
      "[CV] END max_depth=30, max_features=sqrt, min_samples_leaf=1, min_samples_split=2, n_estimators=50; total time=   0.6s\n",
      "[CV] END max_depth=30, max_features=sqrt, min_samples_leaf=1, min_samples_split=2, n_estimators=50; total time=   0.5s\n",
      "[CV] END max_depth=30, max_features=sqrt, min_samples_leaf=1, min_samples_split=10, n_estimators=50; total time=   0.4s\n",
      "[CV] END max_depth=30, max_features=sqrt, min_samples_leaf=1, min_samples_split=10, n_estimators=50; total time=   0.4s\n"
     ]
    },
    {
     "name": "stdout",
     "output_type": "stream",
     "text": [
      "[CV] END max_depth=30, max_features=sqrt, min_samples_leaf=1, min_samples_split=20, n_estimators=50; total time=   0.4s\n",
      "[CV] END max_depth=30, max_features=sqrt, min_samples_leaf=1, min_samples_split=20, n_estimators=50; total time=   0.3s\n",
      "[CV] END max_depth=30, max_features=sqrt, min_samples_leaf=1, min_samples_split=30, n_estimators=50; total time=   0.4s\n",
      "[CV] END max_depth=30, max_features=sqrt, min_samples_leaf=1, min_samples_split=30, n_estimators=50; total time=   0.3s\n",
      "[CV] END max_depth=30, max_features=sqrt, min_samples_leaf=10, min_samples_split=2, n_estimators=50; total time=   0.4s\n",
      "[CV] END max_depth=30, max_features=sqrt, min_samples_leaf=10, min_samples_split=2, n_estimators=50; total time=   0.3s\n",
      "[CV] END max_depth=30, max_features=sqrt, min_samples_leaf=10, min_samples_split=10, n_estimators=50; total time=   0.3s\n",
      "[CV] END max_depth=30, max_features=sqrt, min_samples_leaf=10, min_samples_split=10, n_estimators=50; total time=   0.3s\n",
      "[CV] END max_depth=30, max_features=sqrt, min_samples_leaf=10, min_samples_split=20, n_estimators=50; total time=   0.3s\n",
      "[CV] END max_depth=30, max_features=sqrt, min_samples_leaf=10, min_samples_split=20, n_estimators=50; total time=   0.3s\n",
      "[CV] END max_depth=30, max_features=sqrt, min_samples_leaf=10, min_samples_split=30, n_estimators=50; total time=   0.2s\n",
      "[CV] END max_depth=30, max_features=sqrt, min_samples_leaf=10, min_samples_split=30, n_estimators=50; total time=   0.2s\n",
      "[CV] END max_depth=30, max_features=sqrt, min_samples_leaf=20, min_samples_split=2, n_estimators=50; total time=   0.2s\n",
      "[CV] END max_depth=30, max_features=sqrt, min_samples_leaf=20, min_samples_split=2, n_estimators=50; total time=   0.2s\n",
      "[CV] END max_depth=30, max_features=sqrt, min_samples_leaf=20, min_samples_split=10, n_estimators=50; total time=   0.2s\n",
      "[CV] END max_depth=30, max_features=sqrt, min_samples_leaf=20, min_samples_split=10, n_estimators=50; total time=   0.2s\n",
      "[CV] END max_depth=30, max_features=sqrt, min_samples_leaf=20, min_samples_split=20, n_estimators=50; total time=   0.2s\n",
      "[CV] END max_depth=30, max_features=sqrt, min_samples_leaf=20, min_samples_split=20, n_estimators=50; total time=   0.3s\n",
      "[CV] END max_depth=30, max_features=sqrt, min_samples_leaf=20, min_samples_split=30, n_estimators=50; total time=   0.2s\n",
      "[CV] END max_depth=30, max_features=sqrt, min_samples_leaf=20, min_samples_split=30, n_estimators=50; total time=   0.2s\n",
      "[CV] END max_depth=30, max_features=sqrt, min_samples_leaf=30, min_samples_split=2, n_estimators=50; total time=   0.2s\n",
      "[CV] END max_depth=30, max_features=sqrt, min_samples_leaf=30, min_samples_split=2, n_estimators=50; total time=   0.2s\n",
      "[CV] END max_depth=30, max_features=sqrt, min_samples_leaf=30, min_samples_split=10, n_estimators=50; total time=   0.2s\n",
      "[CV] END max_depth=30, max_features=sqrt, min_samples_leaf=30, min_samples_split=10, n_estimators=50; total time=   0.2s\n",
      "[CV] END max_depth=30, max_features=sqrt, min_samples_leaf=30, min_samples_split=20, n_estimators=50; total time=   0.2s\n",
      "[CV] END max_depth=30, max_features=sqrt, min_samples_leaf=30, min_samples_split=20, n_estimators=50; total time=   0.2s\n",
      "[CV] END max_depth=30, max_features=sqrt, min_samples_leaf=30, min_samples_split=30, n_estimators=50; total time=   0.3s\n",
      "[CV] END max_depth=30, max_features=sqrt, min_samples_leaf=30, min_samples_split=30, n_estimators=50; total time=   0.2s\n",
      "[CV] END max_depth=40, max_features=sqrt, min_samples_leaf=1, min_samples_split=2, n_estimators=50; total time=   0.6s\n",
      "[CV] END max_depth=40, max_features=sqrt, min_samples_leaf=1, min_samples_split=2, n_estimators=50; total time=   0.6s\n",
      "[CV] END max_depth=40, max_features=sqrt, min_samples_leaf=1, min_samples_split=10, n_estimators=50; total time=   0.4s\n",
      "[CV] END max_depth=40, max_features=sqrt, min_samples_leaf=1, min_samples_split=10, n_estimators=50; total time=   0.4s\n",
      "[CV] END max_depth=40, max_features=sqrt, min_samples_leaf=1, min_samples_split=20, n_estimators=50; total time=   0.3s\n",
      "[CV] END max_depth=40, max_features=sqrt, min_samples_leaf=1, min_samples_split=20, n_estimators=50; total time=   0.3s\n",
      "[CV] END max_depth=40, max_features=sqrt, min_samples_leaf=1, min_samples_split=30, n_estimators=50; total time=   0.3s\n",
      "[CV] END max_depth=40, max_features=sqrt, min_samples_leaf=1, min_samples_split=30, n_estimators=50; total time=   0.3s\n",
      "[CV] END max_depth=40, max_features=sqrt, min_samples_leaf=10, min_samples_split=2, n_estimators=50; total time=   0.3s\n",
      "[CV] END max_depth=40, max_features=sqrt, min_samples_leaf=10, min_samples_split=2, n_estimators=50; total time=   0.3s\n",
      "[CV] END max_depth=40, max_features=sqrt, min_samples_leaf=10, min_samples_split=10, n_estimators=50; total time=   0.2s\n",
      "[CV] END max_depth=40, max_features=sqrt, min_samples_leaf=10, min_samples_split=10, n_estimators=50; total time=   0.3s\n",
      "[CV] END max_depth=40, max_features=sqrt, min_samples_leaf=10, min_samples_split=20, n_estimators=50; total time=   0.2s\n",
      "[CV] END max_depth=40, max_features=sqrt, min_samples_leaf=10, min_samples_split=20, n_estimators=50; total time=   0.3s\n",
      "[CV] END max_depth=40, max_features=sqrt, min_samples_leaf=10, min_samples_split=30, n_estimators=50; total time=   0.2s\n",
      "[CV] END max_depth=40, max_features=sqrt, min_samples_leaf=10, min_samples_split=30, n_estimators=50; total time=   0.2s\n",
      "[CV] END max_depth=40, max_features=sqrt, min_samples_leaf=20, min_samples_split=2, n_estimators=50; total time=   0.2s\n",
      "[CV] END max_depth=40, max_features=sqrt, min_samples_leaf=20, min_samples_split=2, n_estimators=50; total time=   0.2s\n",
      "[CV] END max_depth=40, max_features=sqrt, min_samples_leaf=20, min_samples_split=10, n_estimators=50; total time=   0.2s\n",
      "[CV] END max_depth=40, max_features=sqrt, min_samples_leaf=20, min_samples_split=10, n_estimators=50; total time=   0.2s\n",
      "[CV] END max_depth=40, max_features=sqrt, min_samples_leaf=20, min_samples_split=20, n_estimators=50; total time=   0.2s\n",
      "[CV] END max_depth=40, max_features=sqrt, min_samples_leaf=20, min_samples_split=20, n_estimators=50; total time=   0.2s\n",
      "[CV] END max_depth=40, max_features=sqrt, min_samples_leaf=20, min_samples_split=30, n_estimators=50; total time=   0.2s\n",
      "[CV] END max_depth=40, max_features=sqrt, min_samples_leaf=20, min_samples_split=30, n_estimators=50; total time=   0.2s\n",
      "[CV] END max_depth=40, max_features=sqrt, min_samples_leaf=30, min_samples_split=2, n_estimators=50; total time=   0.2s\n",
      "[CV] END max_depth=40, max_features=sqrt, min_samples_leaf=30, min_samples_split=2, n_estimators=50; total time=   0.2s\n",
      "[CV] END max_depth=40, max_features=sqrt, min_samples_leaf=30, min_samples_split=10, n_estimators=50; total time=   0.2s\n",
      "[CV] END max_depth=40, max_features=sqrt, min_samples_leaf=30, min_samples_split=10, n_estimators=50; total time=   0.2s\n",
      "[CV] END max_depth=40, max_features=sqrt, min_samples_leaf=30, min_samples_split=20, n_estimators=50; total time=   0.2s\n",
      "[CV] END max_depth=40, max_features=sqrt, min_samples_leaf=30, min_samples_split=20, n_estimators=50; total time=   0.2s\n",
      "[CV] END max_depth=40, max_features=sqrt, min_samples_leaf=30, min_samples_split=30, n_estimators=50; total time=   0.2s\n",
      "[CV] END max_depth=40, max_features=sqrt, min_samples_leaf=30, min_samples_split=30, n_estimators=50; total time=   0.2s\n",
      "[CV] END max_depth=50, max_features=sqrt, min_samples_leaf=1, min_samples_split=2, n_estimators=50; total time=   0.6s\n",
      "[CV] END max_depth=50, max_features=sqrt, min_samples_leaf=1, min_samples_split=2, n_estimators=50; total time=   0.6s\n",
      "[CV] END max_depth=50, max_features=sqrt, min_samples_leaf=1, min_samples_split=10, n_estimators=50; total time=   0.4s\n",
      "[CV] END max_depth=50, max_features=sqrt, min_samples_leaf=1, min_samples_split=10, n_estimators=50; total time=   0.4s\n",
      "[CV] END max_depth=50, max_features=sqrt, min_samples_leaf=1, min_samples_split=20, n_estimators=50; total time=   0.3s\n",
      "[CV] END max_depth=50, max_features=sqrt, min_samples_leaf=1, min_samples_split=20, n_estimators=50; total time=   0.3s\n",
      "[CV] END max_depth=50, max_features=sqrt, min_samples_leaf=1, min_samples_split=30, n_estimators=50; total time=   0.3s\n",
      "[CV] END max_depth=50, max_features=sqrt, min_samples_leaf=1, min_samples_split=30, n_estimators=50; total time=   0.3s\n",
      "[CV] END max_depth=50, max_features=sqrt, min_samples_leaf=10, min_samples_split=2, n_estimators=50; total time=   0.2s\n"
     ]
    },
    {
     "name": "stdout",
     "output_type": "stream",
     "text": [
      "[CV] END max_depth=50, max_features=sqrt, min_samples_leaf=10, min_samples_split=2, n_estimators=50; total time=   0.3s\n",
      "[CV] END max_depth=50, max_features=sqrt, min_samples_leaf=10, min_samples_split=10, n_estimators=50; total time=   0.3s\n",
      "[CV] END max_depth=50, max_features=sqrt, min_samples_leaf=10, min_samples_split=10, n_estimators=50; total time=   0.3s\n",
      "[CV] END max_depth=50, max_features=sqrt, min_samples_leaf=10, min_samples_split=20, n_estimators=50; total time=   0.3s\n",
      "[CV] END max_depth=50, max_features=sqrt, min_samples_leaf=10, min_samples_split=20, n_estimators=50; total time=   0.3s\n",
      "[CV] END max_depth=50, max_features=sqrt, min_samples_leaf=10, min_samples_split=30, n_estimators=50; total time=   0.2s\n",
      "[CV] END max_depth=50, max_features=sqrt, min_samples_leaf=10, min_samples_split=30, n_estimators=50; total time=   0.2s\n",
      "[CV] END max_depth=50, max_features=sqrt, min_samples_leaf=20, min_samples_split=2, n_estimators=50; total time=   0.2s\n",
      "[CV] END max_depth=50, max_features=sqrt, min_samples_leaf=20, min_samples_split=2, n_estimators=50; total time=   0.2s\n",
      "[CV] END max_depth=50, max_features=sqrt, min_samples_leaf=20, min_samples_split=10, n_estimators=50; total time=   0.2s\n",
      "[CV] END max_depth=50, max_features=sqrt, min_samples_leaf=20, min_samples_split=10, n_estimators=50; total time=   0.2s\n",
      "[CV] END max_depth=50, max_features=sqrt, min_samples_leaf=20, min_samples_split=20, n_estimators=50; total time=   0.2s\n",
      "[CV] END max_depth=50, max_features=sqrt, min_samples_leaf=20, min_samples_split=20, n_estimators=50; total time=   0.2s\n",
      "[CV] END max_depth=50, max_features=sqrt, min_samples_leaf=20, min_samples_split=30, n_estimators=50; total time=   0.2s\n",
      "[CV] END max_depth=50, max_features=sqrt, min_samples_leaf=20, min_samples_split=30, n_estimators=50; total time=   0.2s\n",
      "[CV] END max_depth=50, max_features=sqrt, min_samples_leaf=30, min_samples_split=2, n_estimators=50; total time=   0.2s\n",
      "[CV] END max_depth=50, max_features=sqrt, min_samples_leaf=30, min_samples_split=2, n_estimators=50; total time=   0.2s\n",
      "[CV] END max_depth=50, max_features=sqrt, min_samples_leaf=30, min_samples_split=10, n_estimators=50; total time=   0.2s\n",
      "[CV] END max_depth=50, max_features=sqrt, min_samples_leaf=30, min_samples_split=10, n_estimators=50; total time=   0.2s\n",
      "[CV] END max_depth=50, max_features=sqrt, min_samples_leaf=30, min_samples_split=20, n_estimators=50; total time=   0.2s\n",
      "[CV] END max_depth=50, max_features=sqrt, min_samples_leaf=30, min_samples_split=20, n_estimators=50; total time=   0.2s\n",
      "[CV] END max_depth=50, max_features=sqrt, min_samples_leaf=30, min_samples_split=30, n_estimators=50; total time=   0.2s\n",
      "[CV] END max_depth=50, max_features=sqrt, min_samples_leaf=30, min_samples_split=30, n_estimators=50; total time=   0.2s\n",
      "[CV] END max_depth=None, max_features=sqrt, min_samples_leaf=1, min_samples_split=2, n_estimators=50; total time=   0.5s\n",
      "[CV] END max_depth=None, max_features=sqrt, min_samples_leaf=1, min_samples_split=2, n_estimators=50; total time=   0.6s\n",
      "[CV] END max_depth=None, max_features=sqrt, min_samples_leaf=1, min_samples_split=10, n_estimators=50; total time=   0.4s\n",
      "[CV] END max_depth=None, max_features=sqrt, min_samples_leaf=1, min_samples_split=10, n_estimators=50; total time=   0.4s\n",
      "[CV] END max_depth=None, max_features=sqrt, min_samples_leaf=1, min_samples_split=20, n_estimators=50; total time=   0.3s\n",
      "[CV] END max_depth=None, max_features=sqrt, min_samples_leaf=1, min_samples_split=20, n_estimators=50; total time=   0.3s\n",
      "[CV] END max_depth=None, max_features=sqrt, min_samples_leaf=1, min_samples_split=30, n_estimators=50; total time=   0.3s\n",
      "[CV] END max_depth=None, max_features=sqrt, min_samples_leaf=1, min_samples_split=30, n_estimators=50; total time=   0.3s\n",
      "[CV] END max_depth=None, max_features=sqrt, min_samples_leaf=10, min_samples_split=2, n_estimators=50; total time=   0.3s\n",
      "[CV] END max_depth=None, max_features=sqrt, min_samples_leaf=10, min_samples_split=2, n_estimators=50; total time=   0.3s\n",
      "[CV] END max_depth=None, max_features=sqrt, min_samples_leaf=10, min_samples_split=10, n_estimators=50; total time=   0.3s\n",
      "[CV] END max_depth=None, max_features=sqrt, min_samples_leaf=10, min_samples_split=10, n_estimators=50; total time=   0.3s\n",
      "[CV] END max_depth=None, max_features=sqrt, min_samples_leaf=10, min_samples_split=20, n_estimators=50; total time=   0.3s\n",
      "[CV] END max_depth=None, max_features=sqrt, min_samples_leaf=10, min_samples_split=20, n_estimators=50; total time=   0.2s\n",
      "[CV] END max_depth=None, max_features=sqrt, min_samples_leaf=10, min_samples_split=30, n_estimators=50; total time=   0.3s\n",
      "[CV] END max_depth=None, max_features=sqrt, min_samples_leaf=10, min_samples_split=30, n_estimators=50; total time=   0.2s\n",
      "[CV] END max_depth=None, max_features=sqrt, min_samples_leaf=20, min_samples_split=2, n_estimators=50; total time=   0.2s\n",
      "[CV] END max_depth=None, max_features=sqrt, min_samples_leaf=20, min_samples_split=2, n_estimators=50; total time=   0.2s\n",
      "[CV] END max_depth=None, max_features=sqrt, min_samples_leaf=20, min_samples_split=10, n_estimators=50; total time=   0.2s\n",
      "[CV] END max_depth=None, max_features=sqrt, min_samples_leaf=20, min_samples_split=10, n_estimators=50; total time=   0.2s\n",
      "[CV] END max_depth=None, max_features=sqrt, min_samples_leaf=20, min_samples_split=20, n_estimators=50; total time=   0.2s\n",
      "[CV] END max_depth=None, max_features=sqrt, min_samples_leaf=20, min_samples_split=20, n_estimators=50; total time=   0.2s\n",
      "[CV] END max_depth=None, max_features=sqrt, min_samples_leaf=20, min_samples_split=30, n_estimators=50; total time=   0.2s\n",
      "[CV] END max_depth=None, max_features=sqrt, min_samples_leaf=20, min_samples_split=30, n_estimators=50; total time=   0.3s\n",
      "[CV] END max_depth=None, max_features=sqrt, min_samples_leaf=30, min_samples_split=2, n_estimators=50; total time=   0.2s\n",
      "[CV] END max_depth=None, max_features=sqrt, min_samples_leaf=30, min_samples_split=2, n_estimators=50; total time=   0.2s\n",
      "[CV] END max_depth=None, max_features=sqrt, min_samples_leaf=30, min_samples_split=10, n_estimators=50; total time=   0.2s\n",
      "[CV] END max_depth=None, max_features=sqrt, min_samples_leaf=30, min_samples_split=10, n_estimators=50; total time=   0.2s\n",
      "[CV] END max_depth=None, max_features=sqrt, min_samples_leaf=30, min_samples_split=20, n_estimators=50; total time=   0.2s\n",
      "[CV] END max_depth=None, max_features=sqrt, min_samples_leaf=30, min_samples_split=20, n_estimators=50; total time=   0.2s\n",
      "[CV] END max_depth=None, max_features=sqrt, min_samples_leaf=30, min_samples_split=30, n_estimators=50; total time=   0.2s\n",
      "[CV] END max_depth=None, max_features=sqrt, min_samples_leaf=30, min_samples_split=30, n_estimators=50; total time=   0.2s\n"
     ]
    },
    {
     "data": {
      "text/plain": [
       "GridSearchCV(cv=2, estimator=RandomForestRegressor(), n_jobs=1,\n",
       "             param_grid={'max_depth': [10, 20, 30, 40, 50, None],\n",
       "                         'max_features': ['sqrt'],\n",
       "                         'min_samples_leaf': [1, 10, 20, 30],\n",
       "                         'min_samples_split': [2, 10, 20, 30],\n",
       "                         'n_estimators': [50]},\n",
       "             scoring='neg_mean_squared_log_error', verbose=2)"
      ]
     },
     "execution_count": 117,
     "metadata": {},
     "output_type": "execute_result"
    }
   ],
   "source": [
    "y_train = y_train.reshape((-1,))\n",
    "grid_rf.fit(x_train,y_train)"
   ]
  },
  {
   "cell_type": "code",
   "execution_count": 160,
   "id": "52a54197",
   "metadata": {},
   "outputs": [
    {
     "data": {
      "text/plain": [
       "{'n_estimators': 300,\n",
       " 'min_samples_split': 2,\n",
       " 'min_samples_leaf': 1,\n",
       " 'max_features': 'sqrt'}"
      ]
     },
     "execution_count": 160,
     "metadata": {},
     "output_type": "execute_result"
    }
   ],
   "source": [
    "#random_rf.best_params_\n"
   ]
  },
  {
   "cell_type": "code",
   "execution_count": 118,
   "id": "585a5d68",
   "metadata": {},
   "outputs": [
    {
     "data": {
      "text/plain": [
       "{'max_depth': 50,\n",
       " 'max_features': 'sqrt',\n",
       " 'min_samples_leaf': 1,\n",
       " 'min_samples_split': 2,\n",
       " 'n_estimators': 50}"
      ]
     },
     "execution_count": 118,
     "metadata": {},
     "output_type": "execute_result"
    }
   ],
   "source": [
    "grid_rf.best_params_"
   ]
  },
  {
   "cell_type": "code",
   "execution_count": 119,
   "id": "fd7293b4",
   "metadata": {},
   "outputs": [
    {
     "name": "stdout",
     "output_type": "stream",
     "text": [
      "Test R2:  0.7045083175456188\n",
      "Train R2:  0.9397515195939283\n",
      "\n",
      "\n",
      "Test set error:  0.8812899044566268\n",
      "Train set error:  0.46638180421276626\n"
     ]
    }
   ],
   "source": [
    "y_pred = grid_rf.predict(x_test)\n",
    "train_pred = grid_rf.predict(x_train)\n",
    "\n",
    "y_pred = y_pred.reshape((-1,1))\n",
    "y_pred = scaler2.inverse_transform(y_pred)\n",
    "y_pred = np.power(y_pred,4)\n",
    "\n",
    "train_pred = train_pred.reshape((-1,1))\n",
    "train_pred = scaler2.inverse_transform(train_pred)\n",
    "train_pred = np.power(train_pred,4)\n",
    "\n",
    "\n",
    "y_test = scaler2.inverse_transform(y_test)\n",
    "y_test = np.power(y_test,4)\n",
    "\n",
    "y_train = y_train.reshape((-1,1))\n",
    "y_train = scaler2.inverse_transform(y_train)\n",
    "y_train = np.power(y_train,4)\n",
    "\n",
    "\n",
    "test_error = np.sqrt(mean_squared_log_error(y_pred, y_test))\n",
    "train_error = np.sqrt(mean_squared_log_error(train_pred, y_train))\n",
    "print(\"Test R2: \", r2_score(y_pred, y_test))\n",
    "print(\"Train R2: \", r2_score(train_pred, y_train))\n",
    "print(\"\\n\")\n",
    "print(\"Test set error: \", test_error)\n",
    "print(\"Train set error: \", train_error)\n"
   ]
  },
  {
   "cell_type": "code",
   "execution_count": 68,
   "id": "1df7762e",
   "metadata": {},
   "outputs": [
    {
     "data": {
      "text/plain": [
       "{'max_depth': None,\n",
       " 'max_features': 'sqrt',\n",
       " 'min_samples_leaf': 1,\n",
       " 'min_samples_split': 2,\n",
       " 'n_estimators': 150}"
      ]
     },
     "execution_count": 68,
     "metadata": {},
     "output_type": "execute_result"
    }
   ],
   "source": [
    "#grid_rf.best_params_"
   ]
  },
  {
   "cell_type": "code",
   "execution_count": 93,
   "id": "45f30f19",
   "metadata": {},
   "outputs": [],
   "source": [
    "gmodel = RandomForestRegressor(n_estimators=250, max_features='sqrt', max_depth = None, min_samples_leaf=1, min_samples_split=2)"
   ]
  },
  {
   "cell_type": "code",
   "execution_count": 96,
   "id": "ff2c2cec",
   "metadata": {},
   "outputs": [
    {
     "name": "stderr",
     "output_type": "stream",
     "text": [
      "<ipython-input-96-4896dae1d80d>:17: DataConversionWarning: A column-vector y was passed when a 1d array was expected. Please change the shape of y to (n_samples,), for example using ravel().\n",
      "  gmodel.fit(x_train, y_train)\n"
     ]
    },
    {
     "name": "stdout",
     "output_type": "stream",
     "text": [
      "Test R2:  0.7086219842418676\n",
      "Train R2:  0.9423849566638027\n",
      "\n",
      "\n",
      "Test set error:  0.8736966073952289\n",
      "Train set error:  0.45604339663558513\n"
     ]
    }
   ],
   "source": [
    "df5 = df4\n",
    "Y = df5[\"Price\"].astype('float64')\n",
    "X = df5.drop(columns = \"Price\", axis = 1)\n",
    "\n",
    "scaler = RobustScaler()\n",
    "scaler2 = RobustScaler()\n",
    "Y = np.array(Y)\n",
    "Y = Y.reshape((-1,1))\n",
    "Y = np.power(Y, 0.25)\n",
    "y = scaler2.fit_transform(Y)\n",
    "\n",
    "scaler.fit(X)\n",
    "x = scaler.transform(X)\n",
    "\n",
    "x_train, x_test, y_train, y_test = train_test_split(x,y, train_size = 0.85, random_state = 7)\n",
    "\n",
    "gmodel.fit(x_train, y_train)\n",
    "\n",
    "y_pred = gmodel.predict(x_test)\n",
    "train_pred = gmodel.predict(x_train)\n",
    "\n",
    "y_pred = y_pred.reshape((-1,1))\n",
    "y_pred = scaler2.inverse_transform(y_pred)\n",
    "y_pred = np.power(y_pred,4)\n",
    "\n",
    "train_pred = train_pred.reshape((-1,1))\n",
    "train_pred = scaler2.inverse_transform(train_pred)\n",
    "train_pred = np.power(train_pred,4)\n",
    "\n",
    "\n",
    "y_test = scaler2.inverse_transform(y_test)\n",
    "y_test = np.power(y_test,4)\n",
    "\n",
    "y_train = y_train.reshape((-1,1))\n",
    "y_train = scaler2.inverse_transform(y_train)\n",
    "y_train = np.power(y_train,4)\n",
    "\n",
    "\n",
    "test_error = np.sqrt(mean_squared_log_error(y_pred, y_test))\n",
    "train_error = np.sqrt(mean_squared_log_error(train_pred, y_train))\n",
    "print(\"Test R2: \", r2_score(y_pred, y_test))\n",
    "print(\"Train R2: \", r2_score(train_pred, y_train))\n",
    "print(\"\\n\")\n",
    "print(\"Test set error: \", test_error)\n",
    "print(\"Train set error: \", train_error)\n"
   ]
  },
  {
   "cell_type": "code",
   "execution_count": null,
   "id": "c666e08f",
   "metadata": {},
   "outputs": [],
   "source": []
  },
  {
   "cell_type": "code",
   "execution_count": 81,
   "id": "529faa58",
   "metadata": {},
   "outputs": [
    {
     "name": "stderr",
     "output_type": "stream",
     "text": [
      "<ipython-input-81-f4cb63847f39>:24: DataConversionWarning: A column-vector y was passed when a 1d array was expected. Please change the shape of y to (n_samples,), for example using ravel().\n",
      "  fmodel.fit(x,y)\n"
     ]
    },
    {
     "data": {
      "text/plain": [
       "RandomForestRegressor(max_features='sqrt', n_estimators=150)"
      ]
     },
     "execution_count": 81,
     "metadata": {},
     "output_type": "execute_result"
    }
   ],
   "source": [
    "###################FINAL MODEL\n",
    "\n",
    "df5 = df4\n",
    "Y = df5[\"Price\"].astype('float64')\n",
    "X = df5.drop(columns = \"Price\", axis = 1)\n",
    "\n",
    "\n",
    "\n",
    "scaler = RobustScaler()\n",
    "scaler2 = RobustScaler()\n",
    "Y = np.array(Y)\n",
    "Y = Y.reshape((-1,1))\n",
    "Y = np.power(Y, 0.25)\n",
    "y = scaler2.fit_transform(Y)\n",
    "\n",
    "scaler.fit(X)\n",
    "x = scaler.transform(X)\n",
    "\n",
    "#x_train, x_test, y_train, y_test = train_test_split(x,y, train_size = 0.75, random_state = 7)\n",
    "\n",
    "\n",
    "fmodel = RandomForestRegressor(n_estimators=150, max_features='sqrt', max_depth = None, min_samples_leaf=1, min_samples_split=2)\n",
    "\n",
    "fmodel.fit(x,y)"
   ]
  },
  {
   "cell_type": "markdown",
   "id": "af080b18",
   "metadata": {},
   "source": [
    "## Reading test set"
   ]
  },
  {
   "cell_type": "code",
   "execution_count": 97,
   "id": "785608de",
   "metadata": {
    "collapsed": true
   },
   "outputs": [
    {
     "data": {
      "text/html": [
       "<div>\n",
       "<style scoped>\n",
       "    .dataframe tbody tr th:only-of-type {\n",
       "        vertical-align: middle;\n",
       "    }\n",
       "\n",
       "    .dataframe tbody tr th {\n",
       "        vertical-align: top;\n",
       "    }\n",
       "\n",
       "    .dataframe thead th {\n",
       "        text-align: right;\n",
       "    }\n",
       "</style>\n",
       "<table border=\"1\" class=\"dataframe\">\n",
       "  <thead>\n",
       "    <tr style=\"text-align: right;\">\n",
       "      <th></th>\n",
       "      <th>ID</th>\n",
       "      <th>Levy</th>\n",
       "      <th>Manufacturer</th>\n",
       "      <th>Model</th>\n",
       "      <th>Prod. year</th>\n",
       "      <th>Category</th>\n",
       "      <th>Leather interior</th>\n",
       "      <th>Fuel type</th>\n",
       "      <th>Engine volume</th>\n",
       "      <th>Mileage</th>\n",
       "      <th>Cylinders</th>\n",
       "      <th>Gear box type</th>\n",
       "      <th>Drive wheels</th>\n",
       "      <th>Doors</th>\n",
       "      <th>Wheel</th>\n",
       "      <th>Color</th>\n",
       "      <th>Airbags</th>\n",
       "      <th>Price</th>\n",
       "    </tr>\n",
       "  </thead>\n",
       "  <tbody>\n",
       "    <tr>\n",
       "      <th>0</th>\n",
       "      <td>44020629</td>\n",
       "      <td>-</td>\n",
       "      <td>VOLKSWAGEN</td>\n",
       "      <td>Golf</td>\n",
       "      <td>2012</td>\n",
       "      <td>Hatchback</td>\n",
       "      <td>No</td>\n",
       "      <td>Diesel</td>\n",
       "      <td>2.0 Turbo</td>\n",
       "      <td>0 km</td>\n",
       "      <td>4</td>\n",
       "      <td>Manual</td>\n",
       "      <td>Front</td>\n",
       "      <td>02-Mar</td>\n",
       "      <td>Left wheel</td>\n",
       "      <td>Grey</td>\n",
       "      <td>10</td>\n",
       "      <td>NaN</td>\n",
       "    </tr>\n",
       "    <tr>\n",
       "      <th>1</th>\n",
       "      <td>45784798</td>\n",
       "      <td>-</td>\n",
       "      <td>HYUNDAI</td>\n",
       "      <td>Sonata</td>\n",
       "      <td>2012</td>\n",
       "      <td>Sedan</td>\n",
       "      <td>Yes</td>\n",
       "      <td>Petrol</td>\n",
       "      <td>2.4</td>\n",
       "      <td>26000 km</td>\n",
       "      <td>4</td>\n",
       "      <td>Tiptronic</td>\n",
       "      <td>Front</td>\n",
       "      <td>04-May</td>\n",
       "      <td>Left wheel</td>\n",
       "      <td>Grey</td>\n",
       "      <td>10</td>\n",
       "      <td>NaN</td>\n",
       "    </tr>\n",
       "    <tr>\n",
       "      <th>2</th>\n",
       "      <td>45800257</td>\n",
       "      <td>-</td>\n",
       "      <td>NISSAN</td>\n",
       "      <td>Tiida</td>\n",
       "      <td>2005</td>\n",
       "      <td>Sedan</td>\n",
       "      <td>No</td>\n",
       "      <td>Petrol</td>\n",
       "      <td>1.5</td>\n",
       "      <td>168000 km</td>\n",
       "      <td>4</td>\n",
       "      <td>Automatic</td>\n",
       "      <td>Front</td>\n",
       "      <td>04-May</td>\n",
       "      <td>Right-hand drive</td>\n",
       "      <td>Sky blue</td>\n",
       "      <td>8</td>\n",
       "      <td>NaN</td>\n",
       "    </tr>\n",
       "    <tr>\n",
       "      <th>3</th>\n",
       "      <td>45797981</td>\n",
       "      <td>975</td>\n",
       "      <td>VOLVO</td>\n",
       "      <td>XC90</td>\n",
       "      <td>2012</td>\n",
       "      <td>Jeep</td>\n",
       "      <td>Yes</td>\n",
       "      <td>Petrol</td>\n",
       "      <td>3.2</td>\n",
       "      <td>143000 km</td>\n",
       "      <td>6</td>\n",
       "      <td>Automatic</td>\n",
       "      <td>4x4</td>\n",
       "      <td>04-May</td>\n",
       "      <td>Left wheel</td>\n",
       "      <td>Blue</td>\n",
       "      <td>12</td>\n",
       "      <td>NaN</td>\n",
       "    </tr>\n",
       "    <tr>\n",
       "      <th>4</th>\n",
       "      <td>45814303</td>\n",
       "      <td>-</td>\n",
       "      <td>OPEL</td>\n",
       "      <td>Astra</td>\n",
       "      <td>1993</td>\n",
       "      <td>Hatchback</td>\n",
       "      <td>No</td>\n",
       "      <td>Petrol</td>\n",
       "      <td>1.6</td>\n",
       "      <td>200000 km</td>\n",
       "      <td>4</td>\n",
       "      <td>Manual</td>\n",
       "      <td>Front</td>\n",
       "      <td>04-May</td>\n",
       "      <td>Left wheel</td>\n",
       "      <td>Black</td>\n",
       "      <td>0</td>\n",
       "      <td>NaN</td>\n",
       "    </tr>\n",
       "  </tbody>\n",
       "</table>\n",
       "</div>"
      ],
      "text/plain": [
       "         ID Levy Manufacturer   Model  Prod. year   Category Leather interior  \\\n",
       "0  44020629    -   VOLKSWAGEN    Golf        2012  Hatchback               No   \n",
       "1  45784798    -      HYUNDAI  Sonata        2012      Sedan              Yes   \n",
       "2  45800257    -       NISSAN   Tiida        2005      Sedan               No   \n",
       "3  45797981  975        VOLVO    XC90        2012       Jeep              Yes   \n",
       "4  45814303    -         OPEL   Astra        1993  Hatchback               No   \n",
       "\n",
       "  Fuel type Engine volume    Mileage  Cylinders Gear box type Drive wheels  \\\n",
       "0    Diesel     2.0 Turbo       0 km          4        Manual        Front   \n",
       "1    Petrol           2.4   26000 km          4     Tiptronic        Front   \n",
       "2    Petrol           1.5  168000 km          4     Automatic        Front   \n",
       "3    Petrol           3.2  143000 km          6     Automatic          4x4   \n",
       "4    Petrol           1.6  200000 km          4        Manual        Front   \n",
       "\n",
       "    Doors             Wheel     Color  Airbags  Price  \n",
       "0  02-Mar        Left wheel      Grey       10    NaN  \n",
       "1  04-May        Left wheel      Grey       10    NaN  \n",
       "2  04-May  Right-hand drive  Sky blue        8    NaN  \n",
       "3  04-May        Left wheel      Blue       12    NaN  \n",
       "4  04-May        Left wheel     Black        0    NaN  "
      ]
     },
     "execution_count": 97,
     "metadata": {},
     "output_type": "execute_result"
    }
   ],
   "source": [
    "test = pd.read_csv(\"test.csv\")\n",
    "test.head()"
   ]
  },
  {
   "cell_type": "markdown",
   "id": "52939ca5",
   "metadata": {},
   "source": [
    "## Preprocessing the test set"
   ]
  },
  {
   "cell_type": "markdown",
   "id": "3ed2444d",
   "metadata": {},
   "source": [
    "### Engine Volume"
   ]
  },
  {
   "cell_type": "code",
   "execution_count": 98,
   "id": "e5990fb5",
   "metadata": {},
   "outputs": [
    {
     "data": {
      "text/html": [
       "<div>\n",
       "<style scoped>\n",
       "    .dataframe tbody tr th:only-of-type {\n",
       "        vertical-align: middle;\n",
       "    }\n",
       "\n",
       "    .dataframe tbody tr th {\n",
       "        vertical-align: top;\n",
       "    }\n",
       "\n",
       "    .dataframe thead th {\n",
       "        text-align: right;\n",
       "    }\n",
       "</style>\n",
       "<table border=\"1\" class=\"dataframe\">\n",
       "  <thead>\n",
       "    <tr style=\"text-align: right;\">\n",
       "      <th></th>\n",
       "      <th>ID</th>\n",
       "      <th>Levy</th>\n",
       "      <th>Manufacturer</th>\n",
       "      <th>Model</th>\n",
       "      <th>Prod. year</th>\n",
       "      <th>Category</th>\n",
       "      <th>Leather interior</th>\n",
       "      <th>Fuel type</th>\n",
       "      <th>Mileage</th>\n",
       "      <th>Cylinders</th>\n",
       "      <th>Gear box type</th>\n",
       "      <th>Drive wheels</th>\n",
       "      <th>Doors</th>\n",
       "      <th>Wheel</th>\n",
       "      <th>Color</th>\n",
       "      <th>Airbags</th>\n",
       "      <th>Price</th>\n",
       "      <th>Engine volume</th>\n",
       "      <th>Turbo</th>\n",
       "    </tr>\n",
       "  </thead>\n",
       "  <tbody>\n",
       "    <tr>\n",
       "      <th>0</th>\n",
       "      <td>44020629</td>\n",
       "      <td>-</td>\n",
       "      <td>VOLKSWAGEN</td>\n",
       "      <td>Golf</td>\n",
       "      <td>2012</td>\n",
       "      <td>Hatchback</td>\n",
       "      <td>No</td>\n",
       "      <td>Diesel</td>\n",
       "      <td>0 km</td>\n",
       "      <td>4</td>\n",
       "      <td>Manual</td>\n",
       "      <td>Front</td>\n",
       "      <td>02-Mar</td>\n",
       "      <td>Left wheel</td>\n",
       "      <td>Grey</td>\n",
       "      <td>10</td>\n",
       "      <td>NaN</td>\n",
       "      <td>2.0</td>\n",
       "      <td>1</td>\n",
       "    </tr>\n",
       "    <tr>\n",
       "      <th>1</th>\n",
       "      <td>45784798</td>\n",
       "      <td>-</td>\n",
       "      <td>HYUNDAI</td>\n",
       "      <td>Sonata</td>\n",
       "      <td>2012</td>\n",
       "      <td>Sedan</td>\n",
       "      <td>Yes</td>\n",
       "      <td>Petrol</td>\n",
       "      <td>26000 km</td>\n",
       "      <td>4</td>\n",
       "      <td>Tiptronic</td>\n",
       "      <td>Front</td>\n",
       "      <td>04-May</td>\n",
       "      <td>Left wheel</td>\n",
       "      <td>Grey</td>\n",
       "      <td>10</td>\n",
       "      <td>NaN</td>\n",
       "      <td>2.4</td>\n",
       "      <td>0</td>\n",
       "    </tr>\n",
       "    <tr>\n",
       "      <th>2</th>\n",
       "      <td>45800257</td>\n",
       "      <td>-</td>\n",
       "      <td>NISSAN</td>\n",
       "      <td>Tiida</td>\n",
       "      <td>2005</td>\n",
       "      <td>Sedan</td>\n",
       "      <td>No</td>\n",
       "      <td>Petrol</td>\n",
       "      <td>168000 km</td>\n",
       "      <td>4</td>\n",
       "      <td>Automatic</td>\n",
       "      <td>Front</td>\n",
       "      <td>04-May</td>\n",
       "      <td>Right-hand drive</td>\n",
       "      <td>Sky blue</td>\n",
       "      <td>8</td>\n",
       "      <td>NaN</td>\n",
       "      <td>1.5</td>\n",
       "      <td>0</td>\n",
       "    </tr>\n",
       "    <tr>\n",
       "      <th>3</th>\n",
       "      <td>45797981</td>\n",
       "      <td>975</td>\n",
       "      <td>VOLVO</td>\n",
       "      <td>XC90</td>\n",
       "      <td>2012</td>\n",
       "      <td>Jeep</td>\n",
       "      <td>Yes</td>\n",
       "      <td>Petrol</td>\n",
       "      <td>143000 km</td>\n",
       "      <td>6</td>\n",
       "      <td>Automatic</td>\n",
       "      <td>4x4</td>\n",
       "      <td>04-May</td>\n",
       "      <td>Left wheel</td>\n",
       "      <td>Blue</td>\n",
       "      <td>12</td>\n",
       "      <td>NaN</td>\n",
       "      <td>3.2</td>\n",
       "      <td>0</td>\n",
       "    </tr>\n",
       "    <tr>\n",
       "      <th>4</th>\n",
       "      <td>45814303</td>\n",
       "      <td>-</td>\n",
       "      <td>OPEL</td>\n",
       "      <td>Astra</td>\n",
       "      <td>1993</td>\n",
       "      <td>Hatchback</td>\n",
       "      <td>No</td>\n",
       "      <td>Petrol</td>\n",
       "      <td>200000 km</td>\n",
       "      <td>4</td>\n",
       "      <td>Manual</td>\n",
       "      <td>Front</td>\n",
       "      <td>04-May</td>\n",
       "      <td>Left wheel</td>\n",
       "      <td>Black</td>\n",
       "      <td>0</td>\n",
       "      <td>NaN</td>\n",
       "      <td>1.6</td>\n",
       "      <td>0</td>\n",
       "    </tr>\n",
       "  </tbody>\n",
       "</table>\n",
       "</div>"
      ],
      "text/plain": [
       "         ID Levy Manufacturer   Model  Prod. year   Category Leather interior  \\\n",
       "0  44020629    -   VOLKSWAGEN    Golf        2012  Hatchback               No   \n",
       "1  45784798    -      HYUNDAI  Sonata        2012      Sedan              Yes   \n",
       "2  45800257    -       NISSAN   Tiida        2005      Sedan               No   \n",
       "3  45797981  975        VOLVO    XC90        2012       Jeep              Yes   \n",
       "4  45814303    -         OPEL   Astra        1993  Hatchback               No   \n",
       "\n",
       "  Fuel type    Mileage  Cylinders Gear box type Drive wheels   Doors  \\\n",
       "0    Diesel       0 km          4        Manual        Front  02-Mar   \n",
       "1    Petrol   26000 km          4     Tiptronic        Front  04-May   \n",
       "2    Petrol  168000 km          4     Automatic        Front  04-May   \n",
       "3    Petrol  143000 km          6     Automatic          4x4  04-May   \n",
       "4    Petrol  200000 km          4        Manual        Front  04-May   \n",
       "\n",
       "              Wheel     Color  Airbags  Price  Engine volume  Turbo  \n",
       "0        Left wheel      Grey       10    NaN            2.0      1  \n",
       "1        Left wheel      Grey       10    NaN            2.4      0  \n",
       "2  Right-hand drive  Sky blue        8    NaN            1.5      0  \n",
       "3        Left wheel      Blue       12    NaN            3.2      0  \n",
       "4        Left wheel     Black        0    NaN            1.6      0  "
      ]
     },
     "execution_count": 98,
     "metadata": {},
     "output_type": "execute_result"
    }
   ],
   "source": [
    "test = Eng_Vol2(test)\n",
    "test.head()"
   ]
  },
  {
   "cell_type": "markdown",
   "id": "985ab7b8",
   "metadata": {},
   "source": [
    "### Mileage"
   ]
  },
  {
   "cell_type": "code",
   "execution_count": 99,
   "id": "ab617a60",
   "metadata": {},
   "outputs": [],
   "source": [
    "mile = []\n",
    "for mil in test[\"Mileage\"]:\n",
    "    mil = mil[0:-3]\n",
    "    mile.append(int(mil))\n",
    "\n",
    "test.drop(columns = \"Mileage\", inplace = True)\n",
    "test[\"Mileage\"] = mile"
   ]
  },
  {
   "cell_type": "markdown",
   "id": "2802ae9f",
   "metadata": {},
   "source": [
    "### ID and Levy"
   ]
  },
  {
   "cell_type": "code",
   "execution_count": 100,
   "id": "f8f9383a",
   "metadata": {},
   "outputs": [],
   "source": [
    "test.drop(columns = \"ID\", inplace = True)\n",
    "test[\"Levy\"].replace(to_replace='-', value = np.nan, inplace = True)\n",
    "test[\"Levy\"] = pd.to_numeric(test[\"Levy\"])\n",
    "test[\"Levy\"].fillna(Levy_median, inplace = True )"
   ]
  },
  {
   "cell_type": "code",
   "execution_count": 414,
   "id": "0c8d8fe0",
   "metadata": {},
   "outputs": [
    {
     "data": {
      "text/plain": [
       "Sonata           478\n",
       "Prius            448\n",
       "Camry            390\n",
       "Elantra          378\n",
       "E 350            258\n",
       "                ... \n",
       "Allroad            1\n",
       "Astra bertoni      1\n",
       "GX 470 470         1\n",
       "220 W153           1\n",
       "XJL                1\n",
       "Name: Model, Length: 995, dtype: int64"
      ]
     },
     "execution_count": 414,
     "metadata": {},
     "output_type": "execute_result"
    }
   ],
   "source": [
    "test['Model'].value_counts()"
   ]
  },
  {
   "cell_type": "markdown",
   "id": "ca3be967",
   "metadata": {},
   "source": [
    "### Target Encoding"
   ]
  },
  {
   "cell_type": "code",
   "execution_count": 101,
   "id": "ed7ce515",
   "metadata": {},
   "outputs": [],
   "source": [
    "categ_var = [\"Model\", \"Color\", \"Manufacturer\", \"Category\", \"Fuel type\", \"Gear box type\", \"Drive wheels\", \"Doors\", \"Wheel\"]\n",
    "t = test\n",
    "for var in categ_var:\n",
    "    #encodings = df4.groupby(var)['Price'].median().reset_index()\n",
    "    t = t.merge(tar_enc_dict[var], how='left', on=var)\n",
    "    t.drop(var, axis=1, inplace=True)\n",
    "    t.rename(columns = {\"Price_y\": var + \"_enc\", \"Price_x\": \"Price\"}, inplace = True) "
   ]
  },
  {
   "cell_type": "markdown",
   "id": "4bd416dd",
   "metadata": {},
   "source": [
    "### Leather interior and dropping price"
   ]
  },
  {
   "cell_type": "code",
   "execution_count": 102,
   "id": "d6a561b8",
   "metadata": {},
   "outputs": [
    {
     "data": {
      "text/plain": [
       "Levy                 float64\n",
       "Prod. year             int64\n",
       "Leather interior       int64\n",
       "Cylinders              int64\n",
       "Airbags                int64\n",
       "Engine volume        float64\n",
       "Turbo                  int64\n",
       "Mileage                int64\n",
       "Model_enc            float64\n",
       "Color_enc            float64\n",
       "Manufacturer_enc     float64\n",
       "Category_enc         float64\n",
       "Fuel type_enc          int64\n",
       "Gear box type_enc      int64\n",
       "Drive wheels_enc       int64\n",
       "Doors_enc            float64\n",
       "Wheel_enc              int64\n",
       "dtype: object"
      ]
     },
     "execution_count": 102,
     "metadata": {},
     "output_type": "execute_result"
    }
   ],
   "source": [
    "#For Leather Interiors\n",
    "t[\"Leather interior\"].replace({\"Yes\":1, \"No\":0}, inplace = True)\n",
    "t.drop(columns = \"Price\", inplace = True)\n",
    "t.dtypes"
   ]
  },
  {
   "cell_type": "code",
   "execution_count": 417,
   "id": "a73b7869",
   "metadata": {},
   "outputs": [
    {
     "data": {
      "text/plain": [
       "Levy                 False\n",
       "Prod. year           False\n",
       "Leather interior     False\n",
       "Cylinders            False\n",
       "Airbags              False\n",
       "Engine volume        False\n",
       "Turbo                False\n",
       "Mileage              False\n",
       "Model_enc             True\n",
       "Color_enc            False\n",
       "Manufacturer_enc      True\n",
       "Category_enc         False\n",
       "Fuel type_enc        False\n",
       "Gear box type_enc    False\n",
       "Drive wheels_enc     False\n",
       "Doors_enc            False\n",
       "Wheel_enc            False\n",
       "dtype: bool"
      ]
     },
     "execution_count": 417,
     "metadata": {},
     "output_type": "execute_result"
    }
   ],
   "source": [
    "t.isnull().any()"
   ]
  },
  {
   "cell_type": "code",
   "execution_count": 103,
   "id": "f53c1a69",
   "metadata": {},
   "outputs": [],
   "source": [
    "model_med = tar_enc_dict[\"Model\"][\"Price\"].median()\n",
    "manufac_med = tar_enc_dict[\"Manufacturer\"][\"Price\"].median()\n",
    "t[\"Model_enc\"] = t[\"Model_enc\"].fillna(model_med)\n",
    "t[\"Manufacturer_enc\"] = t[\"Manufacturer_enc\"].fillna(manufac_med)"
   ]
  },
  {
   "cell_type": "code",
   "execution_count": 104,
   "id": "99b0d8db",
   "metadata": {},
   "outputs": [
    {
     "data": {
      "text/plain": [
       "(8245, 17)"
      ]
     },
     "execution_count": 104,
     "metadata": {},
     "output_type": "execute_result"
    }
   ],
   "source": [
    "################# FIXING LEVY\n",
    "levy_t = []\n",
    "for l in t[\"Levy\"]:\n",
    "    if l>2000:\n",
    "        levy_t.append(levy_max)\n",
    "    elif(l<77):\n",
    "        levy_t.append(levy_min)\n",
    "    else:\n",
    "        levy_t.append(l)\n",
    "        \n",
    "t.drop(columns = \"Levy\", inplace = True)\n",
    "t[\"Levy\"] = levy_t\n",
    "t.shape"
   ]
  },
  {
   "cell_type": "code",
   "execution_count": 105,
   "id": "8da32358",
   "metadata": {},
   "outputs": [
    {
     "data": {
      "text/plain": [
       "(8245, 18)"
      ]
     },
     "execution_count": 105,
     "metadata": {},
     "output_type": "execute_result"
    }
   ],
   "source": [
    "########################### ADDING NEW CAR AS A FEATURE\n",
    "milea = []\n",
    "\n",
    "for mil in t[\"Mileage\"]:\n",
    "    if mil==0:\n",
    "        milea.append(1)\n",
    "    else:\n",
    "        milea.append(0)\n",
    "\n",
    "t[\"New Car\"] = milea\n",
    "t.shape"
   ]
  },
  {
   "cell_type": "code",
   "execution_count": null,
   "id": "b537e2ff",
   "metadata": {},
   "outputs": [],
   "source": []
  },
  {
   "cell_type": "code",
   "execution_count": 106,
   "id": "2c9de518",
   "metadata": {},
   "outputs": [
    {
     "data": {
      "text/plain": [
       "Prod. year           False\n",
       "Leather interior     False\n",
       "Cylinders            False\n",
       "Airbags              False\n",
       "Engine volume        False\n",
       "Turbo                False\n",
       "Mileage              False\n",
       "Model_enc            False\n",
       "Color_enc            False\n",
       "Manufacturer_enc     False\n",
       "Category_enc         False\n",
       "Fuel type_enc        False\n",
       "Gear box type_enc    False\n",
       "Drive wheels_enc     False\n",
       "Doors_enc            False\n",
       "Wheel_enc            False\n",
       "Levy                 False\n",
       "New Car              False\n",
       "dtype: bool"
      ]
     },
     "execution_count": 106,
     "metadata": {},
     "output_type": "execute_result"
    }
   ],
   "source": [
    "t.isnull().any()"
   ]
  },
  {
   "cell_type": "code",
   "execution_count": 139,
   "id": "408c600c",
   "metadata": {
    "scrolled": true
   },
   "outputs": [
    {
     "data": {
      "text/plain": [
       "13485.0"
      ]
     },
     "execution_count": 139,
     "metadata": {},
     "output_type": "execute_result"
    }
   ],
   "source": [
    "enc_dict[\"Model\"][\"Price\"].median()"
   ]
  },
  {
   "cell_type": "markdown",
   "id": "e2bbc70a",
   "metadata": {},
   "source": [
    "## Scale"
   ]
  },
  {
   "cell_type": "code",
   "execution_count": 107,
   "id": "15aa0a19",
   "metadata": {},
   "outputs": [],
   "source": [
    "x_t = scaler.transform(t)"
   ]
  },
  {
   "cell_type": "code",
   "execution_count": 108,
   "id": "d26ddddb",
   "metadata": {},
   "outputs": [],
   "source": [
    "y_t = fmodel.predict(x_t)"
   ]
  },
  {
   "cell_type": "code",
   "execution_count": 109,
   "id": "ca40fb81",
   "metadata": {},
   "outputs": [],
   "source": [
    "y_p = y_t.reshape((-1,1))\n",
    "y_p = scaler2.inverse_transform(y_p)\n",
    "y_p = np.power(y_p,4)\n",
    "y_p = pd.DataFrame(y_p)"
   ]
  },
  {
   "cell_type": "code",
   "execution_count": 110,
   "id": "776a66d1",
   "metadata": {},
   "outputs": [
    {
     "data": {
      "text/html": [
       "<div>\n",
       "<style scoped>\n",
       "    .dataframe tbody tr th:only-of-type {\n",
       "        vertical-align: middle;\n",
       "    }\n",
       "\n",
       "    .dataframe tbody tr th {\n",
       "        vertical-align: top;\n",
       "    }\n",
       "\n",
       "    .dataframe thead th {\n",
       "        text-align: right;\n",
       "    }\n",
       "</style>\n",
       "<table border=\"1\" class=\"dataframe\">\n",
       "  <thead>\n",
       "    <tr style=\"text-align: right;\">\n",
       "      <th></th>\n",
       "      <th>0</th>\n",
       "    </tr>\n",
       "  </thead>\n",
       "  <tbody>\n",
       "    <tr>\n",
       "      <th>0</th>\n",
       "      <td>14971.303978</td>\n",
       "    </tr>\n",
       "    <tr>\n",
       "      <th>1</th>\n",
       "      <td>6488.694620</td>\n",
       "    </tr>\n",
       "    <tr>\n",
       "      <th>2</th>\n",
       "      <td>7276.887524</td>\n",
       "    </tr>\n",
       "    <tr>\n",
       "      <th>3</th>\n",
       "      <td>3765.828989</td>\n",
       "    </tr>\n",
       "    <tr>\n",
       "      <th>4</th>\n",
       "      <td>4600.694104</td>\n",
       "    </tr>\n",
       "    <tr>\n",
       "      <th>...</th>\n",
       "      <td>...</td>\n",
       "    </tr>\n",
       "    <tr>\n",
       "      <th>8240</th>\n",
       "      <td>10163.801822</td>\n",
       "    </tr>\n",
       "    <tr>\n",
       "      <th>8241</th>\n",
       "      <td>15521.761685</td>\n",
       "    </tr>\n",
       "    <tr>\n",
       "      <th>8242</th>\n",
       "      <td>510.371041</td>\n",
       "    </tr>\n",
       "    <tr>\n",
       "      <th>8243</th>\n",
       "      <td>36154.816346</td>\n",
       "    </tr>\n",
       "    <tr>\n",
       "      <th>8244</th>\n",
       "      <td>978.850529</td>\n",
       "    </tr>\n",
       "  </tbody>\n",
       "</table>\n",
       "<p>8245 rows × 1 columns</p>\n",
       "</div>"
      ],
      "text/plain": [
       "                 0\n",
       "0     14971.303978\n",
       "1      6488.694620\n",
       "2      7276.887524\n",
       "3      3765.828989\n",
       "4      4600.694104\n",
       "...            ...\n",
       "8240  10163.801822\n",
       "8241  15521.761685\n",
       "8242    510.371041\n",
       "8243  36154.816346\n",
       "8244    978.850529\n",
       "\n",
       "[8245 rows x 1 columns]"
      ]
     },
     "execution_count": 110,
     "metadata": {},
     "output_type": "execute_result"
    }
   ],
   "source": [
    "y_p"
   ]
  },
  {
   "cell_type": "code",
   "execution_count": 111,
   "id": "2674177a",
   "metadata": {},
   "outputs": [],
   "source": [
    "y_p.to_csv(\"submission13.csv\", header = [\"Price\"], index = False)"
   ]
  },
  {
   "cell_type": "code",
   "execution_count": null,
   "id": "cfde3895",
   "metadata": {},
   "outputs": [],
   "source": []
  }
 ],
 "metadata": {
  "kernelspec": {
   "display_name": "Python 3",
   "language": "python",
   "name": "python3"
  },
  "language_info": {
   "codemirror_mode": {
    "name": "ipython",
    "version": 3
   },
   "file_extension": ".py",
   "mimetype": "text/x-python",
   "name": "python",
   "nbconvert_exporter": "python",
   "pygments_lexer": "ipython3",
   "version": "3.8.8"
  }
 },
 "nbformat": 4,
 "nbformat_minor": 5
}
