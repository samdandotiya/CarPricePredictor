{
 "cells": [
  {
   "cell_type": "code",
   "execution_count": 1,
   "id": "6347e6c1",
   "metadata": {},
   "outputs": [],
   "source": [
    "import pandas as pd\n",
    "import numpy as np\n",
    "import matplotlib.pyplot as plt\n",
    "import seaborn as sns"
   ]
  },
  {
   "cell_type": "code",
   "execution_count": 2,
   "id": "7490df33",
   "metadata": {},
   "outputs": [
    {
     "data": {
      "text/html": [
       "<div>\n",
       "<style scoped>\n",
       "    .dataframe tbody tr th:only-of-type {\n",
       "        vertical-align: middle;\n",
       "    }\n",
       "\n",
       "    .dataframe tbody tr th {\n",
       "        vertical-align: top;\n",
       "    }\n",
       "\n",
       "    .dataframe thead th {\n",
       "        text-align: right;\n",
       "    }\n",
       "</style>\n",
       "<table border=\"1\" class=\"dataframe\">\n",
       "  <thead>\n",
       "    <tr style=\"text-align: right;\">\n",
       "      <th></th>\n",
       "      <th>ID</th>\n",
       "      <th>Price</th>\n",
       "      <th>Levy</th>\n",
       "      <th>Manufacturer</th>\n",
       "      <th>Model</th>\n",
       "      <th>Prod. year</th>\n",
       "      <th>Category</th>\n",
       "      <th>Leather interior</th>\n",
       "      <th>Fuel type</th>\n",
       "      <th>Engine volume</th>\n",
       "      <th>Mileage</th>\n",
       "      <th>Cylinders</th>\n",
       "      <th>Gear box type</th>\n",
       "      <th>Drive wheels</th>\n",
       "      <th>Doors</th>\n",
       "      <th>Wheel</th>\n",
       "      <th>Color</th>\n",
       "      <th>Airbags</th>\n",
       "    </tr>\n",
       "  </thead>\n",
       "  <tbody>\n",
       "    <tr>\n",
       "      <th>0</th>\n",
       "      <td>45654403</td>\n",
       "      <td>13328</td>\n",
       "      <td>1399</td>\n",
       "      <td>LEXUS</td>\n",
       "      <td>RX 450</td>\n",
       "      <td>2010</td>\n",
       "      <td>Jeep</td>\n",
       "      <td>Yes</td>\n",
       "      <td>Hybrid</td>\n",
       "      <td>3.5</td>\n",
       "      <td>186005 km</td>\n",
       "      <td>6.0</td>\n",
       "      <td>Automatic</td>\n",
       "      <td>4x4</td>\n",
       "      <td>04-May</td>\n",
       "      <td>Left wheel</td>\n",
       "      <td>Silver</td>\n",
       "      <td>12</td>\n",
       "    </tr>\n",
       "    <tr>\n",
       "      <th>1</th>\n",
       "      <td>44731507</td>\n",
       "      <td>16621</td>\n",
       "      <td>1018</td>\n",
       "      <td>CHEVROLET</td>\n",
       "      <td>Equinox</td>\n",
       "      <td>2011</td>\n",
       "      <td>Jeep</td>\n",
       "      <td>No</td>\n",
       "      <td>Petrol</td>\n",
       "      <td>3</td>\n",
       "      <td>192000 km</td>\n",
       "      <td>6.0</td>\n",
       "      <td>Tiptronic</td>\n",
       "      <td>4x4</td>\n",
       "      <td>04-May</td>\n",
       "      <td>Left wheel</td>\n",
       "      <td>Black</td>\n",
       "      <td>8</td>\n",
       "    </tr>\n",
       "    <tr>\n",
       "      <th>2</th>\n",
       "      <td>45774419</td>\n",
       "      <td>8467</td>\n",
       "      <td>-</td>\n",
       "      <td>HONDA</td>\n",
       "      <td>FIT</td>\n",
       "      <td>2006</td>\n",
       "      <td>Hatchback</td>\n",
       "      <td>No</td>\n",
       "      <td>Petrol</td>\n",
       "      <td>1.3</td>\n",
       "      <td>200000 km</td>\n",
       "      <td>4.0</td>\n",
       "      <td>Variator</td>\n",
       "      <td>Front</td>\n",
       "      <td>04-May</td>\n",
       "      <td>Right-hand drive</td>\n",
       "      <td>Black</td>\n",
       "      <td>2</td>\n",
       "    </tr>\n",
       "    <tr>\n",
       "      <th>3</th>\n",
       "      <td>45769185</td>\n",
       "      <td>3607</td>\n",
       "      <td>862</td>\n",
       "      <td>FORD</td>\n",
       "      <td>Escape</td>\n",
       "      <td>2011</td>\n",
       "      <td>Jeep</td>\n",
       "      <td>Yes</td>\n",
       "      <td>Hybrid</td>\n",
       "      <td>2.5</td>\n",
       "      <td>168966 km</td>\n",
       "      <td>4.0</td>\n",
       "      <td>Automatic</td>\n",
       "      <td>4x4</td>\n",
       "      <td>04-May</td>\n",
       "      <td>Left wheel</td>\n",
       "      <td>White</td>\n",
       "      <td>0</td>\n",
       "    </tr>\n",
       "    <tr>\n",
       "      <th>4</th>\n",
       "      <td>45809263</td>\n",
       "      <td>11726</td>\n",
       "      <td>446</td>\n",
       "      <td>HONDA</td>\n",
       "      <td>FIT</td>\n",
       "      <td>2014</td>\n",
       "      <td>Hatchback</td>\n",
       "      <td>Yes</td>\n",
       "      <td>Petrol</td>\n",
       "      <td>1.3</td>\n",
       "      <td>91901 km</td>\n",
       "      <td>4.0</td>\n",
       "      <td>Automatic</td>\n",
       "      <td>Front</td>\n",
       "      <td>04-May</td>\n",
       "      <td>Left wheel</td>\n",
       "      <td>Silver</td>\n",
       "      <td>4</td>\n",
       "    </tr>\n",
       "  </tbody>\n",
       "</table>\n",
       "</div>"
      ],
      "text/plain": [
       "         ID  Price  Levy Manufacturer    Model  Prod. year   Category  \\\n",
       "0  45654403  13328  1399        LEXUS   RX 450        2010       Jeep   \n",
       "1  44731507  16621  1018    CHEVROLET  Equinox        2011       Jeep   \n",
       "2  45774419   8467     -        HONDA      FIT        2006  Hatchback   \n",
       "3  45769185   3607   862         FORD   Escape        2011       Jeep   \n",
       "4  45809263  11726   446        HONDA      FIT        2014  Hatchback   \n",
       "\n",
       "  Leather interior Fuel type Engine volume    Mileage  Cylinders  \\\n",
       "0              Yes    Hybrid           3.5  186005 km        6.0   \n",
       "1               No    Petrol             3  192000 km        6.0   \n",
       "2               No    Petrol           1.3  200000 km        4.0   \n",
       "3              Yes    Hybrid           2.5  168966 km        4.0   \n",
       "4              Yes    Petrol           1.3   91901 km        4.0   \n",
       "\n",
       "  Gear box type Drive wheels   Doors             Wheel   Color  Airbags  \n",
       "0     Automatic          4x4  04-May        Left wheel  Silver       12  \n",
       "1     Tiptronic          4x4  04-May        Left wheel   Black        8  \n",
       "2      Variator        Front  04-May  Right-hand drive   Black        2  \n",
       "3     Automatic          4x4  04-May        Left wheel   White        0  \n",
       "4     Automatic        Front  04-May        Left wheel  Silver        4  "
      ]
     },
     "execution_count": 2,
     "metadata": {},
     "output_type": "execute_result"
    }
   ],
   "source": [
    "df = pd.read_csv(\"train.csv\")\n",
    "df.head()"
   ]
  },
  {
   "cell_type": "code",
   "execution_count": 3,
   "id": "823eb721",
   "metadata": {},
   "outputs": [
    {
     "data": {
      "text/plain": [
       "(18924, 18)"
      ]
     },
     "execution_count": 3,
     "metadata": {},
     "output_type": "execute_result"
    }
   ],
   "source": [
    "df.drop_duplicates(inplace=True)\n",
    "df.shape"
   ]
  },
  {
   "cell_type": "markdown",
   "id": "7189ca2b",
   "metadata": {},
   "source": [
    "## Engine Volume"
   ]
  },
  {
   "cell_type": "code",
   "execution_count": 4,
   "id": "7423e856",
   "metadata": {},
   "outputs": [],
   "source": [
    "def Eng_Vol2(df3):\n",
    "    turbo = []\n",
    "    Engine_Volume = []\n",
    "    for vol in df3[\"Engine volume\"]:\n",
    "        if len(vol)>4:\n",
    "            turbo.append(1)\n",
    "            vol = vol[0:3]\n",
    "            Engine_Volume.append(float(vol))\n",
    "        else:\n",
    "            turbo.append(0)\n",
    "            Engine_Volume.append(float(vol))\n",
    "            \n",
    "    df3.drop(columns = \"Engine volume\", inplace = True)\n",
    "    df3[\"Engine volume\"] = Engine_Volume\n",
    "    df3[\"Turbo\"] = turbo\n",
    "    return df3 "
   ]
  },
  {
   "cell_type": "markdown",
   "id": "68e79d82",
   "metadata": {},
   "source": [
    "## Mileage"
   ]
  },
  {
   "cell_type": "code",
   "execution_count": 5,
   "id": "917e8919",
   "metadata": {},
   "outputs": [],
   "source": [
    "def mileage(df3):\n",
    "    mile = []\n",
    "    for mil in df3[\"Mileage\"]:\n",
    "        mil = mil[0:-3]\n",
    "        mile.append(int(mil))\n",
    "\n",
    "    df3.drop(columns = \"Mileage\", inplace = True)\n",
    "    df3[\"Mileage\"] = mile\n",
    "    return df3"
   ]
  },
  {
   "cell_type": "markdown",
   "id": "e7d6840f",
   "metadata": {},
   "source": [
    "## Drop ID and clean Levy"
   ]
  },
  {
   "cell_type": "code",
   "execution_count": 6,
   "id": "092ee171",
   "metadata": {},
   "outputs": [],
   "source": [
    "def drop_ID_n_clean_levy(df3):\n",
    "    df3.drop(columns = \"ID\", inplace = True)\n",
    "    df3[\"Levy\"].replace(to_replace='-', value = np.nan, inplace = True)\n",
    "    df3[\"Levy\"] = pd.to_numeric(df3[\"Levy\"])\n",
    "    Levy_median = df3[\"Levy\"].median()\n",
    "    df3[\"Levy\"].fillna(Levy_median, inplace = True )\n",
    "    return df3, Levy_median"
   ]
  },
  {
   "cell_type": "markdown",
   "id": "eda3f68b",
   "metadata": {},
   "source": [
    "## Target Encoding"
   ]
  },
  {
   "cell_type": "code",
   "execution_count": 7,
   "id": "90d02d5a",
   "metadata": {},
   "outputs": [],
   "source": [
    "def target_encoding(df3, categ_var):\n",
    "    df4=df3\n",
    "    enc_dict = {}\n",
    "    for var in categ_var:\n",
    "        encodings = df4.groupby(var)['Price'].median().reset_index()\n",
    "        df4 = df4.merge(encodings, how='left', on=var)\n",
    "        df4.drop(var, axis=1, inplace=True)\n",
    "        df4.rename(columns = {\"Price_y\": var + \"_enc\", \"Price_x\": \"Price\"}, inplace = True) \n",
    "        enc_dict[var] = encodings\n",
    "    return df4, enc_dict"
   ]
  },
  {
   "cell_type": "markdown",
   "id": "af744881",
   "metadata": {},
   "source": [
    "## One Hot"
   ]
  },
  {
   "cell_type": "code",
   "execution_count": 8,
   "id": "4f2a0c57",
   "metadata": {},
   "outputs": [],
   "source": [
    "def OneHot_encoding(df3, categ):\n",
    "    \n",
    "    df4 = df3\n",
    "    dummy = pd.get_dummies(df4[categ])\n",
    "    df4 = df4.drop(columns = categ, axis=1)\n",
    "    df4=pd.concat((df4,dummy),axis=1)\n",
    "        \n",
    "    return df4"
   ]
  },
  {
   "cell_type": "code",
   "execution_count": 9,
   "id": "f64db907",
   "metadata": {},
   "outputs": [],
   "source": [
    "#For Leather Interiors\n",
    "def LI(df4):\n",
    "    df4[\"Leather interior\"].replace({\"Yes\":1, \"No\":0}, inplace = True)\n",
    "    return df4"
   ]
  },
  {
   "cell_type": "code",
   "execution_count": 10,
   "id": "7e697782",
   "metadata": {},
   "outputs": [
    {
     "data": {
      "text/plain": [
       "(18921, 18)"
      ]
     },
     "execution_count": 10,
     "metadata": {},
     "output_type": "execute_result"
    }
   ],
   "source": [
    "df2 = df[df[\"Price\"]<400000]\n",
    "df2.shape"
   ]
  },
  {
   "cell_type": "code",
   "execution_count": 11,
   "id": "87ff469c",
   "metadata": {
    "scrolled": true
   },
   "outputs": [
    {
     "name": "stderr",
     "output_type": "stream",
     "text": [
      "C:\\Ana\\lib\\site-packages\\pandas\\core\\frame.py:4308: SettingWithCopyWarning: \n",
      "A value is trying to be set on a copy of a slice from a DataFrame\n",
      "\n",
      "See the caveats in the documentation: https://pandas.pydata.org/pandas-docs/stable/user_guide/indexing.html#returning-a-view-versus-a-copy\n",
      "  return super().drop(\n",
      "<ipython-input-4-fbbcc2efe004>:14: SettingWithCopyWarning: \n",
      "A value is trying to be set on a copy of a slice from a DataFrame.\n",
      "Try using .loc[row_indexer,col_indexer] = value instead\n",
      "\n",
      "See the caveats in the documentation: https://pandas.pydata.org/pandas-docs/stable/user_guide/indexing.html#returning-a-view-versus-a-copy\n",
      "  df3[\"Engine volume\"] = Engine_Volume\n",
      "<ipython-input-4-fbbcc2efe004>:15: SettingWithCopyWarning: \n",
      "A value is trying to be set on a copy of a slice from a DataFrame.\n",
      "Try using .loc[row_indexer,col_indexer] = value instead\n",
      "\n",
      "See the caveats in the documentation: https://pandas.pydata.org/pandas-docs/stable/user_guide/indexing.html#returning-a-view-versus-a-copy\n",
      "  df3[\"Turbo\"] = turbo\n",
      "<ipython-input-5-a2613a634425>:8: SettingWithCopyWarning: \n",
      "A value is trying to be set on a copy of a slice from a DataFrame.\n",
      "Try using .loc[row_indexer,col_indexer] = value instead\n",
      "\n",
      "See the caveats in the documentation: https://pandas.pydata.org/pandas-docs/stable/user_guide/indexing.html#returning-a-view-versus-a-copy\n",
      "  df3[\"Mileage\"] = mile\n",
      "C:\\Ana\\lib\\site-packages\\pandas\\core\\series.py:4509: SettingWithCopyWarning: \n",
      "A value is trying to be set on a copy of a slice from a DataFrame\n",
      "\n",
      "See the caveats in the documentation: https://pandas.pydata.org/pandas-docs/stable/user_guide/indexing.html#returning-a-view-versus-a-copy\n",
      "  return super().replace(\n",
      "<ipython-input-6-fc31ce8eda98>:4: SettingWithCopyWarning: \n",
      "A value is trying to be set on a copy of a slice from a DataFrame.\n",
      "Try using .loc[row_indexer,col_indexer] = value instead\n",
      "\n",
      "See the caveats in the documentation: https://pandas.pydata.org/pandas-docs/stable/user_guide/indexing.html#returning-a-view-versus-a-copy\n",
      "  df3[\"Levy\"] = pd.to_numeric(df3[\"Levy\"])\n",
      "C:\\Ana\\lib\\site-packages\\pandas\\core\\series.py:4463: SettingWithCopyWarning: \n",
      "A value is trying to be set on a copy of a slice from a DataFrame\n",
      "\n",
      "See the caveats in the documentation: https://pandas.pydata.org/pandas-docs/stable/user_guide/indexing.html#returning-a-view-versus-a-copy\n",
      "  return super().fillna(\n"
     ]
    },
    {
     "data": {
      "text/html": [
       "<div>\n",
       "<style scoped>\n",
       "    .dataframe tbody tr th:only-of-type {\n",
       "        vertical-align: middle;\n",
       "    }\n",
       "\n",
       "    .dataframe tbody tr th {\n",
       "        vertical-align: top;\n",
       "    }\n",
       "\n",
       "    .dataframe thead th {\n",
       "        text-align: right;\n",
       "    }\n",
       "</style>\n",
       "<table border=\"1\" class=\"dataframe\">\n",
       "  <thead>\n",
       "    <tr style=\"text-align: right;\">\n",
       "      <th></th>\n",
       "      <th>Price</th>\n",
       "      <th>Levy</th>\n",
       "      <th>Prod. year</th>\n",
       "      <th>Cylinders</th>\n",
       "      <th>Airbags</th>\n",
       "      <th>Engine volume</th>\n",
       "      <th>Turbo</th>\n",
       "      <th>Mileage</th>\n",
       "    </tr>\n",
       "  </thead>\n",
       "  <tbody>\n",
       "    <tr>\n",
       "      <th>count</th>\n",
       "      <td>18921.000000</td>\n",
       "      <td>18921.000000</td>\n",
       "      <td>18921.000000</td>\n",
       "      <td>18921.000000</td>\n",
       "      <td>18921.000000</td>\n",
       "      <td>18921.000000</td>\n",
       "      <td>18921.000000</td>\n",
       "      <td>1.892100e+04</td>\n",
       "    </tr>\n",
       "    <tr>\n",
       "      <th>mean</th>\n",
       "      <td>17120.710269</td>\n",
       "      <td>868.444797</td>\n",
       "      <td>2010.913958</td>\n",
       "      <td>4.579885</td>\n",
       "      <td>6.568786</td>\n",
       "      <td>2.305983</td>\n",
       "      <td>0.099942</td>\n",
       "      <td>1.555614e+06</td>\n",
       "    </tr>\n",
       "    <tr>\n",
       "      <th>std</th>\n",
       "      <td>18270.028180</td>\n",
       "      <td>391.333491</td>\n",
       "      <td>5.664846</td>\n",
       "      <td>1.199795</td>\n",
       "      <td>4.321958</td>\n",
       "      <td>0.877083</td>\n",
       "      <td>0.299930</td>\n",
       "      <td>4.880607e+07</td>\n",
       "    </tr>\n",
       "    <tr>\n",
       "      <th>min</th>\n",
       "      <td>1.000000</td>\n",
       "      <td>87.000000</td>\n",
       "      <td>1939.000000</td>\n",
       "      <td>1.000000</td>\n",
       "      <td>0.000000</td>\n",
       "      <td>0.000000</td>\n",
       "      <td>0.000000</td>\n",
       "      <td>0.000000e+00</td>\n",
       "    </tr>\n",
       "    <tr>\n",
       "      <th>25%</th>\n",
       "      <td>5331.000000</td>\n",
       "      <td>730.000000</td>\n",
       "      <td>2009.000000</td>\n",
       "      <td>4.000000</td>\n",
       "      <td>4.000000</td>\n",
       "      <td>1.800000</td>\n",
       "      <td>0.000000</td>\n",
       "      <td>7.022000e+04</td>\n",
       "    </tr>\n",
       "    <tr>\n",
       "      <th>50%</th>\n",
       "      <td>13172.000000</td>\n",
       "      <td>781.000000</td>\n",
       "      <td>2012.000000</td>\n",
       "      <td>4.000000</td>\n",
       "      <td>6.000000</td>\n",
       "      <td>2.000000</td>\n",
       "      <td>0.000000</td>\n",
       "      <td>1.264000e+05</td>\n",
       "    </tr>\n",
       "    <tr>\n",
       "      <th>75%</th>\n",
       "      <td>22063.000000</td>\n",
       "      <td>917.000000</td>\n",
       "      <td>2015.000000</td>\n",
       "      <td>4.000000</td>\n",
       "      <td>12.000000</td>\n",
       "      <td>2.500000</td>\n",
       "      <td>0.000000</td>\n",
       "      <td>1.891670e+05</td>\n",
       "    </tr>\n",
       "    <tr>\n",
       "      <th>max</th>\n",
       "      <td>308906.000000</td>\n",
       "      <td>11714.000000</td>\n",
       "      <td>2020.000000</td>\n",
       "      <td>16.000000</td>\n",
       "      <td>16.000000</td>\n",
       "      <td>20.000000</td>\n",
       "      <td>1.000000</td>\n",
       "      <td>2.147484e+09</td>\n",
       "    </tr>\n",
       "  </tbody>\n",
       "</table>\n",
       "</div>"
      ],
      "text/plain": [
       "               Price          Levy    Prod. year     Cylinders       Airbags  \\\n",
       "count   18921.000000  18921.000000  18921.000000  18921.000000  18921.000000   \n",
       "mean    17120.710269    868.444797   2010.913958      4.579885      6.568786   \n",
       "std     18270.028180    391.333491      5.664846      1.199795      4.321958   \n",
       "min         1.000000     87.000000   1939.000000      1.000000      0.000000   \n",
       "25%      5331.000000    730.000000   2009.000000      4.000000      4.000000   \n",
       "50%     13172.000000    781.000000   2012.000000      4.000000      6.000000   \n",
       "75%     22063.000000    917.000000   2015.000000      4.000000     12.000000   \n",
       "max    308906.000000  11714.000000   2020.000000     16.000000     16.000000   \n",
       "\n",
       "       Engine volume         Turbo       Mileage  \n",
       "count   18921.000000  18921.000000  1.892100e+04  \n",
       "mean        2.305983      0.099942  1.555614e+06  \n",
       "std         0.877083      0.299930  4.880607e+07  \n",
       "min         0.000000      0.000000  0.000000e+00  \n",
       "25%         1.800000      0.000000  7.022000e+04  \n",
       "50%         2.000000      0.000000  1.264000e+05  \n",
       "75%         2.500000      0.000000  1.891670e+05  \n",
       "max        20.000000      1.000000  2.147484e+09  "
      ]
     },
     "execution_count": 11,
     "metadata": {},
     "output_type": "execute_result"
    }
   ],
   "source": [
    "df2 = Eng_Vol2(df2)\n",
    "df2 = mileage(df2)\n",
    "df2, Levy_median = drop_ID_n_clean_levy(df2)\n",
    "df2.describe()"
   ]
  },
  {
   "cell_type": "code",
   "execution_count": 13,
   "id": "8ced8bb8",
   "metadata": {},
   "outputs": [
    {
     "data": {
      "text/plain": [
       "<AxesSubplot:>"
      ]
     },
     "execution_count": 13,
     "metadata": {},
     "output_type": "execute_result"
    },
    {
     "data": {
      "image/png": "[encoded data removed]",
      "text/plain": [
       "<Figure size 720x432 with 2 Axes>"
      ]
     },
     "metadata": {
      "needs_background": "light"
     },
     "output_type": "display_data"
    }
   ],
   "source": [
    "plt.figure(figsize=(10,6))\n",
    "sns.heatmap(df2.corr(), annot = True)"
   ]
  },
  {
   "cell_type": "markdown",
   "id": "e3b24574",
   "metadata": {},
   "source": [
    "# Graphs"
   ]
  },
  {
   "cell_type": "code",
   "execution_count": 139,
   "id": "9a99ce53",
   "metadata": {},
   "outputs": [
    {
     "data": {
      "text/html": [
       "<div>\n",
       "<style scoped>\n",
       "    .dataframe tbody tr th:only-of-type {\n",
       "        vertical-align: middle;\n",
       "    }\n",
       "\n",
       "    .dataframe tbody tr th {\n",
       "        vertical-align: top;\n",
       "    }\n",
       "\n",
       "    .dataframe thead th {\n",
       "        text-align: right;\n",
       "    }\n",
       "</style>\n",
       "<table border=\"1\" class=\"dataframe\">\n",
       "  <thead>\n",
       "    <tr style=\"text-align: right;\">\n",
       "      <th></th>\n",
       "      <th>Price</th>\n",
       "      <th>Levy</th>\n",
       "      <th>Manufacturer</th>\n",
       "      <th>Model</th>\n",
       "      <th>Prod. year</th>\n",
       "      <th>Category</th>\n",
       "      <th>Leather interior</th>\n",
       "      <th>Fuel type</th>\n",
       "      <th>Cylinders</th>\n",
       "      <th>Gear box type</th>\n",
       "      <th>Drive wheels</th>\n",
       "      <th>Doors</th>\n",
       "      <th>Wheel</th>\n",
       "      <th>Color</th>\n",
       "      <th>Airbags</th>\n",
       "      <th>Engine volume</th>\n",
       "      <th>Turbo</th>\n",
       "      <th>Mileage</th>\n",
       "    </tr>\n",
       "  </thead>\n",
       "  <tbody>\n",
       "    <tr>\n",
       "      <th>0</th>\n",
       "      <td>13328</td>\n",
       "      <td>1399.0</td>\n",
       "      <td>LEXUS</td>\n",
       "      <td>RX 450</td>\n",
       "      <td>2010</td>\n",
       "      <td>Jeep</td>\n",
       "      <td>Yes</td>\n",
       "      <td>Hybrid</td>\n",
       "      <td>6.0</td>\n",
       "      <td>Automatic</td>\n",
       "      <td>4x4</td>\n",
       "      <td>04-May</td>\n",
       "      <td>Left wheel</td>\n",
       "      <td>Silver</td>\n",
       "      <td>12</td>\n",
       "      <td>3.5</td>\n",
       "      <td>0</td>\n",
       "      <td>186005</td>\n",
       "    </tr>\n",
       "    <tr>\n",
       "      <th>1</th>\n",
       "      <td>16621</td>\n",
       "      <td>1018.0</td>\n",
       "      <td>CHEVROLET</td>\n",
       "      <td>Equinox</td>\n",
       "      <td>2011</td>\n",
       "      <td>Jeep</td>\n",
       "      <td>No</td>\n",
       "      <td>Petrol</td>\n",
       "      <td>6.0</td>\n",
       "      <td>Tiptronic</td>\n",
       "      <td>4x4</td>\n",
       "      <td>04-May</td>\n",
       "      <td>Left wheel</td>\n",
       "      <td>Black</td>\n",
       "      <td>8</td>\n",
       "      <td>3.0</td>\n",
       "      <td>0</td>\n",
       "      <td>192000</td>\n",
       "    </tr>\n",
       "    <tr>\n",
       "      <th>2</th>\n",
       "      <td>8467</td>\n",
       "      <td>779.0</td>\n",
       "      <td>HONDA</td>\n",
       "      <td>FIT</td>\n",
       "      <td>2006</td>\n",
       "      <td>Hatchback</td>\n",
       "      <td>No</td>\n",
       "      <td>Petrol</td>\n",
       "      <td>4.0</td>\n",
       "      <td>Variator</td>\n",
       "      <td>Front</td>\n",
       "      <td>04-May</td>\n",
       "      <td>Right-hand drive</td>\n",
       "      <td>Black</td>\n",
       "      <td>2</td>\n",
       "      <td>1.3</td>\n",
       "      <td>0</td>\n",
       "      <td>200000</td>\n",
       "    </tr>\n",
       "    <tr>\n",
       "      <th>3</th>\n",
       "      <td>3607</td>\n",
       "      <td>862.0</td>\n",
       "      <td>FORD</td>\n",
       "      <td>Escape</td>\n",
       "      <td>2011</td>\n",
       "      <td>Jeep</td>\n",
       "      <td>Yes</td>\n",
       "      <td>Hybrid</td>\n",
       "      <td>4.0</td>\n",
       "      <td>Automatic</td>\n",
       "      <td>4x4</td>\n",
       "      <td>04-May</td>\n",
       "      <td>Left wheel</td>\n",
       "      <td>White</td>\n",
       "      <td>0</td>\n",
       "      <td>2.5</td>\n",
       "      <td>0</td>\n",
       "      <td>168966</td>\n",
       "    </tr>\n",
       "    <tr>\n",
       "      <th>4</th>\n",
       "      <td>11726</td>\n",
       "      <td>446.0</td>\n",
       "      <td>HONDA</td>\n",
       "      <td>FIT</td>\n",
       "      <td>2014</td>\n",
       "      <td>Hatchback</td>\n",
       "      <td>Yes</td>\n",
       "      <td>Petrol</td>\n",
       "      <td>4.0</td>\n",
       "      <td>Automatic</td>\n",
       "      <td>Front</td>\n",
       "      <td>04-May</td>\n",
       "      <td>Left wheel</td>\n",
       "      <td>Silver</td>\n",
       "      <td>4</td>\n",
       "      <td>1.3</td>\n",
       "      <td>0</td>\n",
       "      <td>91901</td>\n",
       "    </tr>\n",
       "  </tbody>\n",
       "</table>\n",
       "</div>"
      ],
      "text/plain": [
       "   Price    Levy Manufacturer    Model  Prod. year   Category  \\\n",
       "0  13328  1399.0        LEXUS   RX 450        2010       Jeep   \n",
       "1  16621  1018.0    CHEVROLET  Equinox        2011       Jeep   \n",
       "2   8467   779.0        HONDA      FIT        2006  Hatchback   \n",
       "3   3607   862.0         FORD   Escape        2011       Jeep   \n",
       "4  11726   446.0        HONDA      FIT        2014  Hatchback   \n",
       "\n",
       "  Leather interior Fuel type  Cylinders Gear box type Drive wheels   Doors  \\\n",
       "0              Yes    Hybrid        6.0     Automatic          4x4  04-May   \n",
       "1               No    Petrol        6.0     Tiptronic          4x4  04-May   \n",
       "2               No    Petrol        4.0      Variator        Front  04-May   \n",
       "3              Yes    Hybrid        4.0     Automatic          4x4  04-May   \n",
       "4              Yes    Petrol        4.0     Automatic        Front  04-May   \n",
       "\n",
       "              Wheel   Color  Airbags  Engine volume  Turbo  Mileage  \n",
       "0        Left wheel  Silver       12            3.5      0   186005  \n",
       "1        Left wheel   Black        8            3.0      0   192000  \n",
       "2  Right-hand drive   Black        2            1.3      0   200000  \n",
       "3        Left wheel   White        0            2.5      0   168966  \n",
       "4        Left wheel  Silver        4            1.3      0    91901  "
      ]
     },
     "execution_count": 139,
     "metadata": {},
     "output_type": "execute_result"
    }
   ],
   "source": [
    "df2.head()"
   ]
  },
  {
   "cell_type": "code",
   "execution_count": null,
   "id": "96d0e19a",
   "metadata": {},
   "outputs": [],
   "source": [
    "df2.describe()"
   ]
  },
  {
   "cell_type": "markdown",
   "id": "dcae0597",
   "metadata": {},
   "source": [
    "# Important for test set"
   ]
  },
  {
   "cell_type": "code",
   "execution_count": 12,
   "id": "87badf41",
   "metadata": {},
   "outputs": [
    {
     "data": {
      "text/plain": [
       "(18887, 18)"
      ]
     },
     "execution_count": 12,
     "metadata": {},
     "output_type": "execute_result"
    }
   ],
   "source": [
    "#df2 = df2[df2[\"Levy\"]<8000]\n",
    "df2 = df2[df2[\"Levy\"]<6000]\n",
    "df2 = df2[df2[\"Levy\"]>250]\n",
    "\n",
    "levy = []\n",
    "levy_max = df2.Levy.mean() + (3* df2.Levy.std())\n",
    "#levy_min = df2.Levy.mean()  (3* df2.Levy.std())\n",
    "for l in df2[\"Levy\"]:\n",
    "    if l>2000:\n",
    "        levy.append(levy_max)\n",
    "    else:\n",
    "        levy.append(l)\n",
    "        \n",
    "df2.drop(columns = \"Levy\", inplace = True)\n",
    "df2[\"Levy\"] = levy\n",
    "df2.shape"
   ]
  },
  {
   "cell_type": "code",
   "execution_count": 139,
   "id": "090de8a7",
   "metadata": {},
   "outputs": [
    {
     "data": {
      "text/plain": [
       "<AxesSubplot:xlabel='Levy', ylabel='Price'>"
      ]
     },
     "execution_count": 139,
     "metadata": {},
     "output_type": "execute_result"
    },
    {
     "data": {
      "image/png": "[encoded data removed]",
      "text/plain": [
       "<Figure size 432x288 with 1 Axes>"
      ]
     },
     "metadata": {
      "needs_background": "light"
     },
     "output_type": "display_data"
    }
   ],
   "source": [
    "sns.regplot(x = df2[\"Levy\"], y = df2[\"Price\"])"
   ]
  },
  {
   "cell_type": "code",
   "execution_count": 140,
   "id": "6ced5011",
   "metadata": {},
   "outputs": [
    {
     "data": {
      "text/plain": [
       "<seaborn.axisgrid.FacetGrid at 0x1ee99e829d0>"
      ]
     },
     "execution_count": 140,
     "metadata": {},
     "output_type": "execute_result"
    },
    {
     "data": {
      "image/png": "[encoded data removed]",
      "text/plain": [
       "<Figure size 360x360 with 1 Axes>"
      ]
     },
     "metadata": {
      "needs_background": "light"
     },
     "output_type": "display_data"
    }
   ],
   "source": [
    "sns.displot(df2[\"Price\"], kde = True)"
   ]
  },
  {
   "cell_type": "markdown",
   "id": "9c5f9d03",
   "metadata": {},
   "source": [
    "# Price can be cropped"
   ]
  },
  {
   "cell_type": "code",
   "execution_count": 38,
   "id": "69e0b816",
   "metadata": {},
   "outputs": [
    {
     "data": {
      "text/plain": [
       "(1124, 18)"
      ]
     },
     "execution_count": 38,
     "metadata": {},
     "output_type": "execute_result"
    },
    {
     "data": {
      "image/png": "[encoded data removed]",
      "text/plain": [
       "<Figure size 360x360 with 1 Axes>"
      ]
     },
     "metadata": {
      "needs_background": "light"
     },
     "output_type": "display_data"
    }
   ],
   "source": [
    "temp = df2[df2[\"Price\"]<350]\n",
    "sns.displot(temp[\"Price\"], kde = True)\n",
    "temp.shape"
   ]
  },
  {
   "cell_type": "code",
   "execution_count": 40,
   "id": "9cb1dd17",
   "metadata": {},
   "outputs": [
    {
     "data": {
      "text/html": [
       "<div>\n",
       "<style scoped>\n",
       "    .dataframe tbody tr th:only-of-type {\n",
       "        vertical-align: middle;\n",
       "    }\n",
       "\n",
       "    .dataframe tbody tr th {\n",
       "        vertical-align: top;\n",
       "    }\n",
       "\n",
       "    .dataframe thead th {\n",
       "        text-align: right;\n",
       "    }\n",
       "</style>\n",
       "<table border=\"1\" class=\"dataframe\">\n",
       "  <thead>\n",
       "    <tr style=\"text-align: right;\">\n",
       "      <th></th>\n",
       "      <th>Price</th>\n",
       "      <th>Levy</th>\n",
       "      <th>Prod. year</th>\n",
       "      <th>Cylinders</th>\n",
       "      <th>Airbags</th>\n",
       "      <th>Engine volume</th>\n",
       "      <th>Turbo</th>\n",
       "      <th>Mileage</th>\n",
       "    </tr>\n",
       "  </thead>\n",
       "  <tbody>\n",
       "    <tr>\n",
       "      <th>count</th>\n",
       "      <td>1124.000000</td>\n",
       "      <td>1124.000000</td>\n",
       "      <td>1124.000000</td>\n",
       "      <td>1124.000000</td>\n",
       "      <td>1124.000000</td>\n",
       "      <td>1124.000000</td>\n",
       "      <td>1124.000000</td>\n",
       "      <td>1.124000e+03</td>\n",
       "    </tr>\n",
       "    <tr>\n",
       "      <th>mean</th>\n",
       "      <td>176.609431</td>\n",
       "      <td>935.991103</td>\n",
       "      <td>2010.899466</td>\n",
       "      <td>4.903025</td>\n",
       "      <td>7.003559</td>\n",
       "      <td>2.495996</td>\n",
       "      <td>0.029359</td>\n",
       "      <td>3.076794e+06</td>\n",
       "    </tr>\n",
       "    <tr>\n",
       "      <th>std</th>\n",
       "      <td>105.627024</td>\n",
       "      <td>442.442230</td>\n",
       "      <td>6.155281</td>\n",
       "      <td>1.363704</td>\n",
       "      <td>5.250110</td>\n",
       "      <td>1.108324</td>\n",
       "      <td>0.168887</td>\n",
       "      <td>7.208881e+07</td>\n",
       "    </tr>\n",
       "    <tr>\n",
       "      <th>min</th>\n",
       "      <td>1.000000</td>\n",
       "      <td>87.000000</td>\n",
       "      <td>1939.000000</td>\n",
       "      <td>1.000000</td>\n",
       "      <td>0.000000</td>\n",
       "      <td>0.000000</td>\n",
       "      <td>0.000000</td>\n",
       "      <td>0.000000e+00</td>\n",
       "    </tr>\n",
       "    <tr>\n",
       "      <th>25%</th>\n",
       "      <td>78.000000</td>\n",
       "      <td>765.000000</td>\n",
       "      <td>2008.750000</td>\n",
       "      <td>4.000000</td>\n",
       "      <td>0.000000</td>\n",
       "      <td>1.600000</td>\n",
       "      <td>0.000000</td>\n",
       "      <td>8.036450e+04</td>\n",
       "    </tr>\n",
       "    <tr>\n",
       "      <th>50%</th>\n",
       "      <td>188.000000</td>\n",
       "      <td>779.000000</td>\n",
       "      <td>2012.000000</td>\n",
       "      <td>4.000000</td>\n",
       "      <td>8.000000</td>\n",
       "      <td>2.400000</td>\n",
       "      <td>0.000000</td>\n",
       "      <td>1.494860e+05</td>\n",
       "    </tr>\n",
       "    <tr>\n",
       "      <th>75%</th>\n",
       "      <td>282.000000</td>\n",
       "      <td>1058.000000</td>\n",
       "      <td>2014.000000</td>\n",
       "      <td>6.000000</td>\n",
       "      <td>12.000000</td>\n",
       "      <td>3.300000</td>\n",
       "      <td>0.000000</td>\n",
       "      <td>2.203230e+05</td>\n",
       "    </tr>\n",
       "    <tr>\n",
       "      <th>max</th>\n",
       "      <td>348.000000</td>\n",
       "      <td>3910.000000</td>\n",
       "      <td>2020.000000</td>\n",
       "      <td>12.000000</td>\n",
       "      <td>16.000000</td>\n",
       "      <td>6.200000</td>\n",
       "      <td>1.000000</td>\n",
       "      <td>2.147484e+09</td>\n",
       "    </tr>\n",
       "  </tbody>\n",
       "</table>\n",
       "</div>"
      ],
      "text/plain": [
       "             Price         Levy   Prod. year    Cylinders      Airbags  \\\n",
       "count  1124.000000  1124.000000  1124.000000  1124.000000  1124.000000   \n",
       "mean    176.609431   935.991103  2010.899466     4.903025     7.003559   \n",
       "std     105.627024   442.442230     6.155281     1.363704     5.250110   \n",
       "min       1.000000    87.000000  1939.000000     1.000000     0.000000   \n",
       "25%      78.000000   765.000000  2008.750000     4.000000     0.000000   \n",
       "50%     188.000000   779.000000  2012.000000     4.000000     8.000000   \n",
       "75%     282.000000  1058.000000  2014.000000     6.000000    12.000000   \n",
       "max     348.000000  3910.000000  2020.000000    12.000000    16.000000   \n",
       "\n",
       "       Engine volume        Turbo       Mileage  \n",
       "count    1124.000000  1124.000000  1.124000e+03  \n",
       "mean        2.495996     0.029359  3.076794e+06  \n",
       "std         1.108324     0.168887  7.208881e+07  \n",
       "min         0.000000     0.000000  0.000000e+00  \n",
       "25%         1.600000     0.000000  8.036450e+04  \n",
       "50%         2.400000     0.000000  1.494860e+05  \n",
       "75%         3.300000     0.000000  2.203230e+05  \n",
       "max         6.200000     1.000000  2.147484e+09  "
      ]
     },
     "execution_count": 40,
     "metadata": {},
     "output_type": "execute_result"
    }
   ],
   "source": [
    "temp.describe()"
   ]
  },
  {
   "cell_type": "code",
   "execution_count": 41,
   "id": "0f437e50",
   "metadata": {},
   "outputs": [
    {
     "data": {
      "text/plain": [
       "<AxesSubplot:xlabel='Prod. year', ylabel='Price'>"
      ]
     },
     "execution_count": 41,
     "metadata": {},
     "output_type": "execute_result"
    },
    {
     "data": {
      "image/png": "[encoded data removed]",
      "text/plain": [
       "<Figure size 432x288 with 1 Axes>"
      ]
     },
     "metadata": {
      "needs_background": "light"
     },
     "output_type": "display_data"
    }
   ],
   "source": [
    "sns.regplot(x = df2[\"Prod. year\"], y = df2[\"Price\"])"
   ]
  },
  {
   "cell_type": "code",
   "execution_count": 141,
   "id": "635e7623",
   "metadata": {},
   "outputs": [
    {
     "name": "stdout",
     "output_type": "stream",
     "text": [
      "(17958, 18)\n"
     ]
    },
    {
     "data": {
      "text/plain": [
       "<AxesSubplot:xlabel='Prod. year', ylabel='Price'>"
      ]
     },
     "execution_count": 141,
     "metadata": {},
     "output_type": "execute_result"
    },
    {
     "data": {
      "image/png": "[encoded data removed]",
      "text/plain": [
       "<Figure size 432x288 with 1 Axes>"
      ]
     },
     "metadata": {
      "needs_background": "light"
     },
     "output_type": "display_data"
    }
   ],
   "source": [
    "df2 = df2[df2[\"Prod. year\"]>1983]\n",
    "print(df2.shape)\n",
    "sns.regplot(x = df2[\"Prod. year\"], y = df2[\"Price\"])"
   ]
  },
  {
   "cell_type": "code",
   "execution_count": 43,
   "id": "ca5e627b",
   "metadata": {},
   "outputs": [
    {
     "data": {
      "text/plain": [
       "<AxesSubplot:xlabel='Prod. year', ylabel='Price'>"
      ]
     },
     "execution_count": 43,
     "metadata": {},
     "output_type": "execute_result"
    },
    {
     "data": {
      "image/png": "[encoded data removed]",
      "text/plain": [
       "<Figure size 1440x576 with 1 Axes>"
      ]
     },
     "metadata": {
      "needs_background": "light"
     },
     "output_type": "display_data"
    }
   ],
   "source": [
    "plt.figure(figsize = (20,8))\n",
    "sns.boxplot(x=df2[\"Prod. year\"], y = df2[\"Price\"])"
   ]
  },
  {
   "cell_type": "code",
   "execution_count": 142,
   "id": "40e8e04b",
   "metadata": {},
   "outputs": [
    {
     "data": {
      "text/plain": [
       "(8,)"
      ]
     },
     "execution_count": 142,
     "metadata": {},
     "output_type": "execute_result"
    }
   ],
   "source": [
    "index_to_drop = df2[(df2[\"Price\"]>30000) & (df2[\"Prod. year\"] < 2003)].index\n",
    "index_to_drop.shape"
   ]
  },
  {
   "cell_type": "code",
   "execution_count": 143,
   "id": "7746f186",
   "metadata": {},
   "outputs": [
    {
     "data": {
      "text/plain": [
       "(17950, 18)"
      ]
     },
     "execution_count": 143,
     "metadata": {},
     "output_type": "execute_result"
    }
   ],
   "source": [
    "df2.drop(index = index_to_drop, axis=0, inplace = True)\n",
    "df2.shape"
   ]
  },
  {
   "cell_type": "code",
   "execution_count": 144,
   "id": "c24be7a5",
   "metadata": {},
   "outputs": [
    {
     "data": {
      "text/plain": [
       "(17943, 18)"
      ]
     },
     "execution_count": 144,
     "metadata": {},
     "output_type": "execute_result"
    }
   ],
   "source": [
    "index_to_drop = df2[(df2[\"Price\"]>10000) & (df2[\"Prod. year\"] < 1992)].index\n",
    "index_to_drop.shape\n",
    "df2.drop(index = index_to_drop, axis=0, inplace = True)\n",
    "df2.shape"
   ]
  },
  {
   "cell_type": "code",
   "execution_count": 145,
   "id": "35f1df98",
   "metadata": {},
   "outputs": [
    {
     "data": {
      "text/plain": [
       "(17927, 18)"
      ]
     },
     "execution_count": 145,
     "metadata": {},
     "output_type": "execute_result"
    }
   ],
   "source": [
    "index_to_drop = df2[(df2[\"Price\"]>20000) & (df2[\"Prod. year\"] < 2002)].index\n",
    "index_to_drop.shape\n",
    "df2.drop(index = index_to_drop, axis=0, inplace = True)\n",
    "df2.shape"
   ]
  },
  {
   "cell_type": "code",
   "execution_count": 146,
   "id": "38eaa10f",
   "metadata": {},
   "outputs": [
    {
     "data": {
      "text/plain": [
       "<AxesSubplot:xlabel='Prod. year', ylabel='Price'>"
      ]
     },
     "execution_count": 146,
     "metadata": {},
     "output_type": "execute_result"
    },
    {
     "data": {
      "image/png": "[encoded data removed]",
      "text/plain": [
       "<Figure size 1440x576 with 1 Axes>"
      ]
     },
     "metadata": {
      "needs_background": "light"
     },
     "output_type": "display_data"
    }
   ],
   "source": [
    "plt.figure(figsize = (20,8))\n",
    "sns.boxplot(x=df2[\"Prod. year\"], y = df2[\"Price\"])"
   ]
  },
  {
   "cell_type": "code",
   "execution_count": 147,
   "id": "65e26ae9",
   "metadata": {},
   "outputs": [
    {
     "data": {
      "text/plain": [
       "<AxesSubplot:xlabel='Category', ylabel='Price'>"
      ]
     },
     "execution_count": 147,
     "metadata": {},
     "output_type": "execute_result"
    },
    {
     "data": {
      "image/png": "[encoded data removed]",
      "text/plain": [
       "<Figure size 864x360 with 1 Axes>"
      ]
     },
     "metadata": {
      "needs_background": "light"
     },
     "output_type": "display_data"
    }
   ],
   "source": [
    "plt.figure(figsize = (12,5))\n",
    "sns.boxplot(x = df2[\"Category\"], y = df2[\"Price\"])"
   ]
  },
  {
   "cell_type": "code",
   "execution_count": 148,
   "id": "9df6786b",
   "metadata": {},
   "outputs": [
    {
     "data": {
      "text/plain": [
       "(17890, 18)"
      ]
     },
     "execution_count": 148,
     "metadata": {},
     "output_type": "execute_result"
    }
   ],
   "source": [
    "ind = df2[((((df2[\"Category\"]==\"Hatchback\")| (df2[\"Category\"]==\"Microbus\"))&(df2.Price >40000))| ((df2[\"Category\"]==\"Goods wagon\")&(df2.Price >25000)) | ((df2[\"Category\"]==\"Cabriolet\") & df2.Price>45000))].index\n",
    "df2.drop(index = ind, axis = 0,inplace = True)\n",
    "df2.shape"
   ]
  },
  {
   "cell_type": "code",
   "execution_count": 149,
   "id": "03209b52",
   "metadata": {},
   "outputs": [],
   "source": [
    "df2.drop(index = df2[(df2[\"Category\"]==\"Cabriolet\") & (df2[\"Price\"]>45000)].index, inplace= True)"
   ]
  },
  {
   "cell_type": "code",
   "execution_count": 150,
   "id": "7d88a890",
   "metadata": {},
   "outputs": [
    {
     "data": {
      "text/plain": [
       "<AxesSubplot:xlabel='Category', ylabel='Price'>"
      ]
     },
     "execution_count": 150,
     "metadata": {},
     "output_type": "execute_result"
    },
    {
     "data": {
      "image/png": "[encoded data removed]",
      "text/plain": [
       "<Figure size 864x360 with 1 Axes>"
      ]
     },
     "metadata": {
      "needs_background": "light"
     },
     "output_type": "display_data"
    }
   ],
   "source": [
    "plt.figure(figsize = (12,5))\n",
    "sns.boxplot(x = df2[\"Category\"], y = df2[\"Price\"])"
   ]
  },
  {
   "cell_type": "code",
   "execution_count": 151,
   "id": "758a763c",
   "metadata": {},
   "outputs": [
    {
     "data": {
      "text/plain": [
       "<AxesSubplot:xlabel='Leather interior', ylabel='Price'>"
      ]
     },
     "execution_count": 151,
     "metadata": {},
     "output_type": "execute_result"
    },
    {
     "data": {
      "image/png": "[encoded data removed]",
      "text/plain": [
       "<Figure size 432x288 with 1 Axes>"
      ]
     },
     "metadata": {
      "needs_background": "light"
     },
     "output_type": "display_data"
    }
   ],
   "source": [
    "sns.boxplot(x = df2[\"Leather interior\"], y = df2[\"Price\"])"
   ]
  },
  {
   "cell_type": "code",
   "execution_count": 152,
   "id": "76932ec3",
   "metadata": {},
   "outputs": [
    {
     "data": {
      "text/plain": [
       "<AxesSubplot:xlabel='Fuel type', ylabel='Price'>"
      ]
     },
     "execution_count": 152,
     "metadata": {},
     "output_type": "execute_result"
    },
    {
     "data": {
      "image/png": "[encoded data removed]",
      "text/plain": [
       "<Figure size 432x288 with 1 Axes>"
      ]
     },
     "metadata": {
      "needs_background": "light"
     },
     "output_type": "display_data"
    }
   ],
   "source": [
    "sns.boxplot(x = df2[\"Fuel type\"], y = df2[\"Price\"])"
   ]
  },
  {
   "cell_type": "code",
   "execution_count": 153,
   "id": "13177c26",
   "metadata": {},
   "outputs": [
    {
     "data": {
      "text/plain": [
       "<AxesSubplot:xlabel='Cylinders', ylabel='Price'>"
      ]
     },
     "execution_count": 153,
     "metadata": {},
     "output_type": "execute_result"
    },
    {
     "data": {
      "image/png": "[encoded data removed]",
      "text/plain": [
       "<Figure size 432x288 with 1 Axes>"
      ]
     },
     "metadata": {
      "needs_background": "light"
     },
     "output_type": "display_data"
    }
   ],
   "source": [
    "sns.regplot(x = df2[\"Cylinders\"], y=df2[\"Price\"])"
   ]
  },
  {
   "cell_type": "markdown",
   "id": "968beae9",
   "metadata": {},
   "source": [
    "# Important step on test set too"
   ]
  },
  {
   "cell_type": "code",
   "execution_count": 154,
   "id": "2c2c267b",
   "metadata": {},
   "outputs": [],
   "source": [
    "#droppping cyliders>12\n",
    "cyl_median = df2[\"Cylinders\"].median()\n",
    "cylinders = []\n",
    "for cyl in df2[\"Cylinders\"]:\n",
    "    if ((cyl == 7.0) | (cyl==9.0) | (cyl>12.0)):\n",
    "        cylinders.append(cyl_median)\n",
    "    else:\n",
    "        cylinders.append(cyl_median)\n",
    "\n",
    "df2.drop(columns = \"Cylinders\", inplace = True)\n",
    "df2[\"Cylinders\"] = cylinders"
   ]
  },
  {
   "cell_type": "code",
   "execution_count": 81,
   "id": "fa549a98",
   "metadata": {},
   "outputs": [
    {
     "data": {
      "text/html": [
       "<div>\n",
       "<style scoped>\n",
       "    .dataframe tbody tr th:only-of-type {\n",
       "        vertical-align: middle;\n",
       "    }\n",
       "\n",
       "    .dataframe tbody tr th {\n",
       "        vertical-align: top;\n",
       "    }\n",
       "\n",
       "    .dataframe thead th {\n",
       "        text-align: right;\n",
       "    }\n",
       "</style>\n",
       "<table border=\"1\" class=\"dataframe\">\n",
       "  <thead>\n",
       "    <tr style=\"text-align: right;\">\n",
       "      <th></th>\n",
       "      <th>Price</th>\n",
       "      <th>Levy</th>\n",
       "      <th>Manufacturer</th>\n",
       "      <th>Model</th>\n",
       "      <th>Prod. year</th>\n",
       "      <th>Category</th>\n",
       "      <th>Leather interior</th>\n",
       "      <th>Fuel type</th>\n",
       "      <th>Gear box type</th>\n",
       "      <th>Drive wheels</th>\n",
       "      <th>Doors</th>\n",
       "      <th>Wheel</th>\n",
       "      <th>Color</th>\n",
       "      <th>Airbags</th>\n",
       "      <th>Engine volume</th>\n",
       "      <th>Turbo</th>\n",
       "      <th>Mileage</th>\n",
       "      <th>Cylinders</th>\n",
       "    </tr>\n",
       "  </thead>\n",
       "  <tbody>\n",
       "    <tr>\n",
       "      <th>0</th>\n",
       "      <td>13328</td>\n",
       "      <td>1399.0</td>\n",
       "      <td>LEXUS</td>\n",
       "      <td>RX 450</td>\n",
       "      <td>2010</td>\n",
       "      <td>Jeep</td>\n",
       "      <td>Yes</td>\n",
       "      <td>Hybrid</td>\n",
       "      <td>Automatic</td>\n",
       "      <td>4x4</td>\n",
       "      <td>04-May</td>\n",
       "      <td>Left wheel</td>\n",
       "      <td>Silver</td>\n",
       "      <td>12</td>\n",
       "      <td>3.5</td>\n",
       "      <td>0</td>\n",
       "      <td>186005</td>\n",
       "      <td>4.0</td>\n",
       "    </tr>\n",
       "    <tr>\n",
       "      <th>1</th>\n",
       "      <td>16621</td>\n",
       "      <td>1018.0</td>\n",
       "      <td>CHEVROLET</td>\n",
       "      <td>Equinox</td>\n",
       "      <td>2011</td>\n",
       "      <td>Jeep</td>\n",
       "      <td>No</td>\n",
       "      <td>Petrol</td>\n",
       "      <td>Tiptronic</td>\n",
       "      <td>4x4</td>\n",
       "      <td>04-May</td>\n",
       "      <td>Left wheel</td>\n",
       "      <td>Black</td>\n",
       "      <td>8</td>\n",
       "      <td>3.0</td>\n",
       "      <td>0</td>\n",
       "      <td>192000</td>\n",
       "      <td>4.0</td>\n",
       "    </tr>\n",
       "    <tr>\n",
       "      <th>2</th>\n",
       "      <td>8467</td>\n",
       "      <td>779.0</td>\n",
       "      <td>HONDA</td>\n",
       "      <td>FIT</td>\n",
       "      <td>2006</td>\n",
       "      <td>Hatchback</td>\n",
       "      <td>No</td>\n",
       "      <td>Petrol</td>\n",
       "      <td>Variator</td>\n",
       "      <td>Front</td>\n",
       "      <td>04-May</td>\n",
       "      <td>Right-hand drive</td>\n",
       "      <td>Black</td>\n",
       "      <td>2</td>\n",
       "      <td>1.3</td>\n",
       "      <td>0</td>\n",
       "      <td>200000</td>\n",
       "      <td>4.0</td>\n",
       "    </tr>\n",
       "    <tr>\n",
       "      <th>3</th>\n",
       "      <td>3607</td>\n",
       "      <td>862.0</td>\n",
       "      <td>FORD</td>\n",
       "      <td>Escape</td>\n",
       "      <td>2011</td>\n",
       "      <td>Jeep</td>\n",
       "      <td>Yes</td>\n",
       "      <td>Hybrid</td>\n",
       "      <td>Automatic</td>\n",
       "      <td>4x4</td>\n",
       "      <td>04-May</td>\n",
       "      <td>Left wheel</td>\n",
       "      <td>White</td>\n",
       "      <td>0</td>\n",
       "      <td>2.5</td>\n",
       "      <td>0</td>\n",
       "      <td>168966</td>\n",
       "      <td>4.0</td>\n",
       "    </tr>\n",
       "    <tr>\n",
       "      <th>4</th>\n",
       "      <td>11726</td>\n",
       "      <td>446.0</td>\n",
       "      <td>HONDA</td>\n",
       "      <td>FIT</td>\n",
       "      <td>2014</td>\n",
       "      <td>Hatchback</td>\n",
       "      <td>Yes</td>\n",
       "      <td>Petrol</td>\n",
       "      <td>Automatic</td>\n",
       "      <td>Front</td>\n",
       "      <td>04-May</td>\n",
       "      <td>Left wheel</td>\n",
       "      <td>Silver</td>\n",
       "      <td>4</td>\n",
       "      <td>1.3</td>\n",
       "      <td>0</td>\n",
       "      <td>91901</td>\n",
       "      <td>4.0</td>\n",
       "    </tr>\n",
       "  </tbody>\n",
       "</table>\n",
       "</div>"
      ],
      "text/plain": [
       "   Price    Levy Manufacturer    Model  Prod. year   Category  \\\n",
       "0  13328  1399.0        LEXUS   RX 450        2010       Jeep   \n",
       "1  16621  1018.0    CHEVROLET  Equinox        2011       Jeep   \n",
       "2   8467   779.0        HONDA      FIT        2006  Hatchback   \n",
       "3   3607   862.0         FORD   Escape        2011       Jeep   \n",
       "4  11726   446.0        HONDA      FIT        2014  Hatchback   \n",
       "\n",
       "  Leather interior Fuel type Gear box type Drive wheels   Doors  \\\n",
       "0              Yes    Hybrid     Automatic          4x4  04-May   \n",
       "1               No    Petrol     Tiptronic          4x4  04-May   \n",
       "2               No    Petrol      Variator        Front  04-May   \n",
       "3              Yes    Hybrid     Automatic          4x4  04-May   \n",
       "4              Yes    Petrol     Automatic        Front  04-May   \n",
       "\n",
       "              Wheel   Color  Airbags  Engine volume  Turbo  Mileage  Cylinders  \n",
       "0        Left wheel  Silver       12            3.5      0   186005        4.0  \n",
       "1        Left wheel   Black        8            3.0      0   192000        4.0  \n",
       "2  Right-hand drive   Black        2            1.3      0   200000        4.0  \n",
       "3        Left wheel   White        0            2.5      0   168966        4.0  \n",
       "4        Left wheel  Silver        4            1.3      0    91901        4.0  "
      ]
     },
     "execution_count": 81,
     "metadata": {},
     "output_type": "execute_result"
    }
   ],
   "source": [
    "df2.head()"
   ]
  },
  {
   "cell_type": "code",
   "execution_count": 82,
   "id": "dc534ffc",
   "metadata": {},
   "outputs": [
    {
     "data": {
      "text/plain": [
       "<AxesSubplot:xlabel='Gear box type', ylabel='Price'>"
      ]
     },
     "execution_count": 82,
     "metadata": {},
     "output_type": "execute_result"
    },
    {
     "data": {
      "image/png": "[encoded data removed]",
      "text/plain": [
       "<Figure size 432x288 with 1 Axes>"
      ]
     },
     "metadata": {
      "needs_background": "light"
     },
     "output_type": "display_data"
    }
   ],
   "source": [
    "sns.boxplot(x = df2[\"Gear box type\"], y = df2[\"Price\"])"
   ]
  },
  {
   "cell_type": "code",
   "execution_count": 83,
   "id": "4a148268",
   "metadata": {},
   "outputs": [
    {
     "data": {
      "text/plain": [
       "(17916, 18)"
      ]
     },
     "execution_count": 83,
     "metadata": {},
     "output_type": "execute_result"
    }
   ],
   "source": [
    "i = df2[(df2[\"Gear box type\"]==\"Variator\") & (df2[\"Price\"]>=40000)].index\n",
    "df2.drop(index = i, axis=0, inplace=True)\n",
    "df2.shape"
   ]
  },
  {
   "cell_type": "code",
   "execution_count": 234,
   "id": "1133fed0",
   "metadata": {},
   "outputs": [
    {
     "data": {
      "text/plain": [
       "array(['Tiptronic', 'Variator', 'Automatic', 'Manual'], dtype=object)"
      ]
     },
     "execution_count": 234,
     "metadata": {},
     "output_type": "execute_result"
    }
   ],
   "source": [
    "df2[\"Gear box type\"].unique()"
   ]
  },
  {
   "cell_type": "code",
   "execution_count": 84,
   "id": "28e32f1d",
   "metadata": {},
   "outputs": [
    {
     "data": {
      "text/plain": [
       "<AxesSubplot:xlabel='Doors', ylabel='Price'>"
      ]
     },
     "execution_count": 84,
     "metadata": {},
     "output_type": "execute_result"
    },
    {
     "data": {
      "image/png": "[encoded data removed]",
      "text/plain": [
       "<Figure size 432x288 with 1 Axes>"
      ]
     },
     "metadata": {
      "needs_background": "light"
     },
     "output_type": "display_data"
    }
   ],
   "source": [
    "sns.boxplot(x = df2[\"Doors\"], y = df2[\"Price\"])"
   ]
  },
  {
   "cell_type": "code",
   "execution_count": 85,
   "id": "c3d9fe12",
   "metadata": {},
   "outputs": [
    {
     "data": {
      "text/plain": [
       "<AxesSubplot:xlabel='Drive wheels', ylabel='Price'>"
      ]
     },
     "execution_count": 85,
     "metadata": {},
     "output_type": "execute_result"
    },
    {
     "data": {
      "image/png": "[encoded data removed]",
      "text/plain": [
       "<Figure size 432x288 with 1 Axes>"
      ]
     },
     "metadata": {
      "needs_background": "light"
     },
     "output_type": "display_data"
    }
   ],
   "source": [
    "sns.boxplot(x = df2[\"Drive wheels\"], y = df2[\"Price\"])"
   ]
  },
  {
   "cell_type": "code",
   "execution_count": 86,
   "id": "65886b20",
   "metadata": {},
   "outputs": [
    {
     "data": {
      "text/plain": [
       "<AxesSubplot:xlabel='Wheel', ylabel='Price'>"
      ]
     },
     "execution_count": 86,
     "metadata": {},
     "output_type": "execute_result"
    },
    {
     "data": {
      "image/png": "[encoded data removed]",
      "text/plain": [
       "<Figure size 432x288 with 1 Axes>"
      ]
     },
     "metadata": {
      "needs_background": "light"
     },
     "output_type": "display_data"
    }
   ],
   "source": [
    "sns.boxplot(x = df2[\"Wheel\"], y = df2[\"Price\"])"
   ]
  },
  {
   "cell_type": "code",
   "execution_count": 87,
   "id": "97de7c24",
   "metadata": {},
   "outputs": [
    {
     "data": {
      "text/plain": [
       "(17915, 18)"
      ]
     },
     "execution_count": 87,
     "metadata": {},
     "output_type": "execute_result"
    }
   ],
   "source": [
    "df2.drop(index = df2[(df2.Wheel == \"Right-hand drive\") & (df2.Price>30000)].index, axis = 0, inplace = True)\n",
    "df2.shape"
   ]
  },
  {
   "cell_type": "code",
   "execution_count": 260,
   "id": "7d8763b9",
   "metadata": {},
   "outputs": [
    {
     "data": {
      "text/plain": [
       "<AxesSubplot:xlabel='Airbags', ylabel='Price'>"
      ]
     },
     "execution_count": 260,
     "metadata": {},
     "output_type": "execute_result"
    },
    {
     "data": {
      "image/png": "[encoded data removed]",
      "text/plain": [
       "<Figure size 432x288 with 1 Axes>"
      ]
     },
     "metadata": {
      "needs_background": "light"
     },
     "output_type": "display_data"
    }
   ],
   "source": [
    "sns.boxplot(x = df2[\"Airbags\"], y = df2[\"Price\"])"
   ]
  },
  {
   "cell_type": "code",
   "execution_count": 88,
   "id": "79079bd3",
   "metadata": {},
   "outputs": [
    {
     "data": {
      "text/plain": [
       "(17911, 18)"
      ]
     },
     "execution_count": 88,
     "metadata": {},
     "output_type": "execute_result"
    }
   ],
   "source": [
    "df2.drop(index = df2[((df2.Airbags == 1)|(df2.Airbags == 5) |(df2.Airbags == 7)|(df2.Airbags == 9))& (df2.Price>34000)].index, axis = 0, inplace = True)\n",
    "df2.shape"
   ]
  },
  {
   "cell_type": "code",
   "execution_count": 89,
   "id": "cc143ba0",
   "metadata": {},
   "outputs": [
    {
     "data": {
      "text/plain": [
       "<AxesSubplot:xlabel='Engine volume', ylabel='Price'>"
      ]
     },
     "execution_count": 89,
     "metadata": {},
     "output_type": "execute_result"
    },
    {
     "data": {
      "image/png": "[encoded data removed]",
      "text/plain": [
       "<Figure size 432x288 with 1 Axes>"
      ]
     },
     "metadata": {
      "needs_background": "light"
     },
     "output_type": "display_data"
    }
   ],
   "source": [
    "sns.regplot(x = df2[\"Engine volume\"], y = df2[\"Price\"])"
   ]
  },
  {
   "cell_type": "markdown",
   "id": "77f97b75",
   "metadata": {},
   "source": [
    "# Important for test set"
   ]
  },
  {
   "cell_type": "code",
   "execution_count": 92,
   "id": "59460608",
   "metadata": {},
   "outputs": [
    {
     "data": {
      "text/plain": [
       "(17909, 18)"
      ]
     },
     "execution_count": 92,
     "metadata": {},
     "output_type": "execute_result"
    }
   ],
   "source": [
    "df2 = df2[df2[\"Engine volume\"]<8]\n",
    "\n",
    "E_V = []\n",
    "\n",
    "for EV in df2[\"Engine volume\"]:\n",
    "    if EV > 5.0:\n",
    "        E_V.append(5.0)\n",
    "    else:\n",
    "        E_V.append(EV)\n",
    "\n",
    "df2.drop(columns = \"Engine volume\", inplace = True)\n",
    "df2[\"Engine volume\"] = E_V\n",
    "df2.shape\n",
    "        \n",
    "        \n"
   ]
  },
  {
   "cell_type": "code",
   "execution_count": 93,
   "id": "acfb333d",
   "metadata": {},
   "outputs": [
    {
     "data": {
      "text/plain": [
       "<AxesSubplot:xlabel='Engine volume', ylabel='Price'>"
      ]
     },
     "execution_count": 93,
     "metadata": {},
     "output_type": "execute_result"
    },
    {
     "data": {
      "image/png": "[encoded data removed]",
      "text/plain": [
       "<Figure size 432x288 with 1 Axes>"
      ]
     },
     "metadata": {
      "needs_background": "light"
     },
     "output_type": "display_data"
    }
   ],
   "source": [
    "sns.regplot(x = df2[\"Engine volume\"], y = df2[\"Price\"])"
   ]
  },
  {
   "cell_type": "code",
   "execution_count": 94,
   "id": "95b2d092",
   "metadata": {},
   "outputs": [
    {
     "data": {
      "text/plain": [
       "<AxesSubplot:xlabel='Mileage', ylabel='Price'>"
      ]
     },
     "execution_count": 94,
     "metadata": {},
     "output_type": "execute_result"
    },
    {
     "data": {
      "image/png": "[encoded data removed]",
      "text/plain": [
       "<Figure size 432x288 with 1 Axes>"
      ]
     },
     "metadata": {
      "needs_background": "light"
     },
     "output_type": "display_data"
    }
   ],
   "source": [
    "sns.regplot(x = df2[\"Mileage\"], y = df2[\"Price\"])"
   ]
  },
  {
   "cell_type": "markdown",
   "id": "9f2d63cb",
   "metadata": {},
   "source": [
    "# COnsidering to drop Mileage"
   ]
  },
  {
   "cell_type": "code",
   "execution_count": 97,
   "id": "51758547",
   "metadata": {},
   "outputs": [
    {
     "ename": "SyntaxError",
     "evalue": "invalid syntax (<ipython-input-97-cbab02f8b090>, line 6)",
     "output_type": "error",
     "traceback": [
      "\u001b[1;36m  File \u001b[1;32m\"<ipython-input-97-cbab02f8b090>\"\u001b[1;36m, line \u001b[1;32m6\u001b[0m\n\u001b[1;33m    else if(m<0.5):\u001b[0m\n\u001b[1;37m         ^\u001b[0m\n\u001b[1;31mSyntaxError\u001b[0m\u001b[1;31m:\u001b[0m invalid syntax\n"
     ]
    }
   ],
   "source": [
    "mil = []\n",
    "\n",
    "for m in df2[\"Mileage\"]:\n",
    "    if(m==0):\n",
    "        m.append(5)\n",
    "    else if(m<0.5):\n",
    "        m.append(4)\n",
    "    else if(m<1.1):\n",
    "        m.append(3)\n",
    "    else if(m<1.5):\n",
    "        m.append(2)\n",
    "    else:\n",
    "        m.append(1)\n",
    "        \n",
    "#df2.drop(columns = \"Mileage\", inplace = True)\n",
    "#df2[\"Mileage\"]"
   ]
  },
  {
   "cell_type": "code",
   "execution_count": 95,
   "id": "b51b9eef",
   "metadata": {},
   "outputs": [
    {
     "data": {
      "text/plain": [
       "<AxesSubplot:xlabel='Turbo', ylabel='Price'>"
      ]
     },
     "execution_count": 95,
     "metadata": {},
     "output_type": "execute_result"
    },
    {
     "data": {
      "image/png": "[encoded data removed]",
      "text/plain": [
       "<Figure size 432x288 with 1 Axes>"
      ]
     },
     "metadata": {
      "needs_background": "light"
     },
     "output_type": "display_data"
    }
   ],
   "source": [
    "sns.boxplot(x = df2[\"Turbo\"], y = df2[\"Price\"])"
   ]
  },
  {
   "cell_type": "code",
   "execution_count": 99,
   "id": "4dc7b6ed",
   "metadata": {},
   "outputs": [
    {
     "data": {
      "text/plain": [
       "<AxesSubplot:xlabel='Color', ylabel='Price'>"
      ]
     },
     "execution_count": 99,
     "metadata": {},
     "output_type": "execute_result"
    },
    {
     "data": {
      "image/png": "[encoded data removed]",
      "text/plain": [
       "<Figure size 1152x576 with 1 Axes>"
      ]
     },
     "metadata": {
      "needs_background": "light"
     },
     "output_type": "display_data"
    }
   ],
   "source": [
    "plt.figure(figsize = (16,8))\n",
    "sns.boxplot(x = df2[\"Color\"], y = df2[\"Price\"])"
   ]
  },
  {
   "cell_type": "code",
   "execution_count": 102,
   "id": "2707d19a",
   "metadata": {},
   "outputs": [
    {
     "name": "stderr",
     "output_type": "stream",
     "text": [
      "C:\\Ana\\lib\\site-packages\\seaborn\\_decorators.py:36: FutureWarning: Pass the following variable as a keyword arg: x. From version 0.12, the only valid positional argument will be `data`, and passing other arguments without an explicit keyword will result in an error or misinterpretation.\n",
      "  warnings.warn(\n"
     ]
    },
    {
     "data": {
      "text/plain": [
       "<AxesSubplot:xlabel='Price'>"
      ]
     },
     "execution_count": 102,
     "metadata": {},
     "output_type": "execute_result"
    },
    {
     "data": {
      "image/png": "[encoded data removed]",
      "text/plain": [
       "<Figure size 432x288 with 1 Axes>"
      ]
     },
     "metadata": {
      "needs_background": "light"
     },
     "output_type": "display_data"
    }
   ],
   "source": [
    "temp = df2[df2.Mileage!=0]\n",
    "sns.boxplot(temp[\"Price\"])\n"
   ]
  },
  {
   "cell_type": "code",
   "execution_count": 103,
   "id": "b7deda4c",
   "metadata": {},
   "outputs": [],
   "source": [
    "df2.drop(columns = \"Mileage\", inplace = True)"
   ]
  },
  {
   "cell_type": "markdown",
   "id": "44106c7b",
   "metadata": {},
   "source": [
    "# Dropping low prices"
   ]
  },
  {
   "cell_type": "code",
   "execution_count": 113,
   "id": "2d90d37a",
   "metadata": {},
   "outputs": [],
   "source": [
    "df2 = df2[df2[\"Price\"]>1000]"
   ]
  },
  {
   "cell_type": "code",
   "execution_count": null,
   "id": "fc3ff42d",
   "metadata": {},
   "outputs": [],
   "source": []
  },
  {
   "cell_type": "code",
   "execution_count": 104,
   "id": "200e8ce9",
   "metadata": {},
   "outputs": [
    {
     "data": {
      "text/html": [
       "<div>\n",
       "<style scoped>\n",
       "    .dataframe tbody tr th:only-of-type {\n",
       "        vertical-align: middle;\n",
       "    }\n",
       "\n",
       "    .dataframe tbody tr th {\n",
       "        vertical-align: top;\n",
       "    }\n",
       "\n",
       "    .dataframe thead th {\n",
       "        text-align: right;\n",
       "    }\n",
       "</style>\n",
       "<table border=\"1\" class=\"dataframe\">\n",
       "  <thead>\n",
       "    <tr style=\"text-align: right;\">\n",
       "      <th></th>\n",
       "      <th>Price</th>\n",
       "      <th>Levy</th>\n",
       "      <th>Manufacturer</th>\n",
       "      <th>Model</th>\n",
       "      <th>Prod. year</th>\n",
       "      <th>Category</th>\n",
       "      <th>Leather interior</th>\n",
       "      <th>Fuel type</th>\n",
       "      <th>Gear box type</th>\n",
       "      <th>Drive wheels</th>\n",
       "      <th>Doors</th>\n",
       "      <th>Wheel</th>\n",
       "      <th>Color</th>\n",
       "      <th>Airbags</th>\n",
       "      <th>Turbo</th>\n",
       "      <th>Cylinders</th>\n",
       "      <th>Engine volume</th>\n",
       "    </tr>\n",
       "  </thead>\n",
       "  <tbody>\n",
       "    <tr>\n",
       "      <th>0</th>\n",
       "      <td>13328</td>\n",
       "      <td>1399.0</td>\n",
       "      <td>LEXUS</td>\n",
       "      <td>RX 450</td>\n",
       "      <td>2010</td>\n",
       "      <td>Jeep</td>\n",
       "      <td>Yes</td>\n",
       "      <td>Hybrid</td>\n",
       "      <td>Automatic</td>\n",
       "      <td>4x4</td>\n",
       "      <td>04-May</td>\n",
       "      <td>Left wheel</td>\n",
       "      <td>Silver</td>\n",
       "      <td>12</td>\n",
       "      <td>0</td>\n",
       "      <td>4.0</td>\n",
       "      <td>3.5</td>\n",
       "    </tr>\n",
       "    <tr>\n",
       "      <th>1</th>\n",
       "      <td>16621</td>\n",
       "      <td>1018.0</td>\n",
       "      <td>CHEVROLET</td>\n",
       "      <td>Equinox</td>\n",
       "      <td>2011</td>\n",
       "      <td>Jeep</td>\n",
       "      <td>No</td>\n",
       "      <td>Petrol</td>\n",
       "      <td>Tiptronic</td>\n",
       "      <td>4x4</td>\n",
       "      <td>04-May</td>\n",
       "      <td>Left wheel</td>\n",
       "      <td>Black</td>\n",
       "      <td>8</td>\n",
       "      <td>0</td>\n",
       "      <td>4.0</td>\n",
       "      <td>3.0</td>\n",
       "    </tr>\n",
       "    <tr>\n",
       "      <th>2</th>\n",
       "      <td>8467</td>\n",
       "      <td>779.0</td>\n",
       "      <td>HONDA</td>\n",
       "      <td>FIT</td>\n",
       "      <td>2006</td>\n",
       "      <td>Hatchback</td>\n",
       "      <td>No</td>\n",
       "      <td>Petrol</td>\n",
       "      <td>Variator</td>\n",
       "      <td>Front</td>\n",
       "      <td>04-May</td>\n",
       "      <td>Right-hand drive</td>\n",
       "      <td>Black</td>\n",
       "      <td>2</td>\n",
       "      <td>0</td>\n",
       "      <td>4.0</td>\n",
       "      <td>1.3</td>\n",
       "    </tr>\n",
       "    <tr>\n",
       "      <th>3</th>\n",
       "      <td>3607</td>\n",
       "      <td>862.0</td>\n",
       "      <td>FORD</td>\n",
       "      <td>Escape</td>\n",
       "      <td>2011</td>\n",
       "      <td>Jeep</td>\n",
       "      <td>Yes</td>\n",
       "      <td>Hybrid</td>\n",
       "      <td>Automatic</td>\n",
       "      <td>4x4</td>\n",
       "      <td>04-May</td>\n",
       "      <td>Left wheel</td>\n",
       "      <td>White</td>\n",
       "      <td>0</td>\n",
       "      <td>0</td>\n",
       "      <td>4.0</td>\n",
       "      <td>2.5</td>\n",
       "    </tr>\n",
       "    <tr>\n",
       "      <th>4</th>\n",
       "      <td>11726</td>\n",
       "      <td>446.0</td>\n",
       "      <td>HONDA</td>\n",
       "      <td>FIT</td>\n",
       "      <td>2014</td>\n",
       "      <td>Hatchback</td>\n",
       "      <td>Yes</td>\n",
       "      <td>Petrol</td>\n",
       "      <td>Automatic</td>\n",
       "      <td>Front</td>\n",
       "      <td>04-May</td>\n",
       "      <td>Left wheel</td>\n",
       "      <td>Silver</td>\n",
       "      <td>4</td>\n",
       "      <td>0</td>\n",
       "      <td>4.0</td>\n",
       "      <td>1.3</td>\n",
       "    </tr>\n",
       "  </tbody>\n",
       "</table>\n",
       "</div>"
      ],
      "text/plain": [
       "   Price    Levy Manufacturer    Model  Prod. year   Category  \\\n",
       "0  13328  1399.0        LEXUS   RX 450        2010       Jeep   \n",
       "1  16621  1018.0    CHEVROLET  Equinox        2011       Jeep   \n",
       "2   8467   779.0        HONDA      FIT        2006  Hatchback   \n",
       "3   3607   862.0         FORD   Escape        2011       Jeep   \n",
       "4  11726   446.0        HONDA      FIT        2014  Hatchback   \n",
       "\n",
       "  Leather interior Fuel type Gear box type Drive wheels   Doors  \\\n",
       "0              Yes    Hybrid     Automatic          4x4  04-May   \n",
       "1               No    Petrol     Tiptronic          4x4  04-May   \n",
       "2               No    Petrol      Variator        Front  04-May   \n",
       "3              Yes    Hybrid     Automatic          4x4  04-May   \n",
       "4              Yes    Petrol     Automatic        Front  04-May   \n",
       "\n",
       "              Wheel   Color  Airbags  Turbo  Cylinders  Engine volume  \n",
       "0        Left wheel  Silver       12      0        4.0            3.5  \n",
       "1        Left wheel   Black        8      0        4.0            3.0  \n",
       "2  Right-hand drive   Black        2      0        4.0            1.3  \n",
       "3        Left wheel   White        0      0        4.0            2.5  \n",
       "4        Left wheel  Silver        4      0        4.0            1.3  "
      ]
     },
     "execution_count": 104,
     "metadata": {},
     "output_type": "execute_result"
    }
   ],
   "source": [
    "df2.head()"
   ]
  },
  {
   "cell_type": "code",
   "execution_count": 13,
   "id": "a5680b33",
   "metadata": {},
   "outputs": [],
   "source": [
    "categ_variables = [\"Model\", \"Color\", \"Manufacturer\", \"Category\", \"Fuel type\", \"Gear box type\", \"Drive wheels\", \"Doors\", \"Wheel\"]\n",
    "one_hot_categ = [\"Category\", \"Fuel type\", \"Gear box type\", \"Drive wheels\", \"Doors\", \"Wheel\"]\n",
    "target_categ = [\"Model\",\"Color\",\"Manufacturer\"]\n"
   ]
  },
  {
   "cell_type": "code",
   "execution_count": 14,
   "id": "b8f2d320",
   "metadata": {},
   "outputs": [],
   "source": [
    "df4, tar_enc_dict = target_encoding(df2, target_categ)\n",
    "df4 = OneHot_encoding(df4, one_hot_categ)\n",
    "df4 = LI(df4)"
   ]
  },
  {
   "cell_type": "code",
   "execution_count": 15,
   "id": "143e2d3f",
   "metadata": {},
   "outputs": [],
   "source": [
    "from sklearn.model_selection import train_test_split\n",
    "from sklearn.preprocessing import StandardScaler, RobustScaler, MinMaxScaler\n",
    "from sklearn.linear_model import LinearRegression, BayesianRidge\n",
    "from sklearn.ensemble import RandomForestRegressor\n",
    "from sklearn.svm import SVR\n",
    "from sklearn.metrics import mean_squared_log_error, r2_score"
   ]
  },
  {
   "cell_type": "code",
   "execution_count": 16,
   "id": "4f903b6e",
   "metadata": {},
   "outputs": [],
   "source": [
    "model1 = LinearRegression()\n",
    "model2 = BayesianRidge()\n",
    "model3 = RandomForestRegressor()\n",
    "model4 = SVR()"
   ]
  },
  {
   "cell_type": "code",
   "execution_count": null,
   "id": "61a9d5e3",
   "metadata": {},
   "outputs": [],
   "source": []
  },
  {
   "cell_type": "code",
   "execution_count": null,
   "id": "40b902bd",
   "metadata": {},
   "outputs": [],
   "source": []
  },
  {
   "cell_type": "code",
   "execution_count": null,
   "id": "0b508308",
   "metadata": {},
   "outputs": [],
   "source": []
  },
  {
   "cell_type": "code",
   "execution_count": 17,
   "id": "d64ba1bd",
   "metadata": {},
   "outputs": [],
   "source": [
    "df5 = df4\n",
    "X = df5.drop(columns = \"Price\", axis = 1)\n",
    "Y = df5[\"Price\"].astype('float64')\n",
    "\n",
    "Y = np.array(Y)\n",
    "Y = Y.reshape((-1,1))"
   ]
  },
  {
   "cell_type": "markdown",
   "id": "f4a415e4",
   "metadata": {},
   "source": [
    "### Standard Scaler"
   ]
  },
  {
   "cell_type": "code",
   "execution_count": 18,
   "id": "f90506b3",
   "metadata": {},
   "outputs": [
    {
     "name": "stderr",
     "output_type": "stream",
     "text": [
      "<ipython-input-18-64d9b3f1552d>:14: DataConversionWarning: A column-vector y was passed when a 1d array was expected. Please change the shape of y to (n_samples,), for example using ravel().\n",
      "  model3.fit(x_train, y_train)\n"
     ]
    },
    {
     "name": "stdout",
     "output_type": "stream",
     "text": [
      "0.7179405203043483\n",
      "\n",
      "\n",
      "Test set error:  0.9912899481471067\n",
      "Train set error:  0.7535412380314755\n"
     ]
    }
   ],
   "source": [
    "#df5 = df4.drop(columns = [\"Cylinders\", \"Drive wheels_enc\"], axis=1)\n",
    "\n",
    "\n",
    "scaler = StandardScaler()\n",
    "scaler2 = StandardScaler()\n",
    "\n",
    "y = scaler2.fit_transform(Y)\n",
    "\n",
    "\n",
    "x = scaler.fit_transform(X)\n",
    "################################################ CHECK FOR yyyyyyyyyyyyyyyyyy\n",
    "x_train, x_test, y_train, y_test = train_test_split(x,y, train_size = 0.75, random_state = 7)\n",
    "\n",
    "model3.fit(x_train, y_train)\n",
    "y_pred = model3.predict(x_test)\n",
    "train_pred = model3.predict(x_train)\n",
    "\n",
    "y_pred = scaler2.inverse_transform(y_pred)\n",
    "train_pred = scaler2.inverse_transform(train_pred)\n",
    "y_test = scaler2.inverse_transform(y_test)\n",
    "y_train = scaler2.inverse_transform(y_train)\n",
    "\n",
    "\n",
    "test_error = np.sqrt(mean_squared_log_error(y_pred, y_test))\n",
    "train_error = np.sqrt(mean_squared_log_error(train_pred, y_train))\n",
    "print(r2_score(y_pred, y_test))\n",
    "print(\"\\n\")\n",
    "print(\"Test set error: \", test_error)\n",
    "print(\"Train set error: \", train_error)\n"
   ]
  },
  {
   "cell_type": "code",
   "execution_count": 19,
   "id": "511a1053",
   "metadata": {},
   "outputs": [
    {
     "name": "stderr",
     "output_type": "stream",
     "text": [
      "C:\\Ana\\lib\\site-packages\\seaborn\\distributions.py:2557: FutureWarning: `distplot` is a deprecated function and will be removed in a future version. Please adapt your code to use either `displot` (a figure-level function with similar flexibility) or `histplot` (an axes-level function for histograms).\n",
      "  warnings.warn(msg, FutureWarning)\n"
     ]
    },
    {
     "name": "stdout",
     "output_type": "stream",
     "text": [
      "\n",
      " mu = 14334.05 and sigma = 11759.18\n",
      "\n"
     ]
    },
    {
     "data": {
      "image/png": "[encoded data removed]",
      "text/plain": [
       "<Figure size 432x288 with 1 Axes>"
      ]
     },
     "metadata": {
      "needs_background": "light"
     },
     "output_type": "display_data"
    },
    {
     "data": {
      "image/png": "[encoded data removed]",
      "text/plain": [
       "<Figure size 432x288 with 1 Axes>"
      ]
     },
     "metadata": {
      "needs_background": "light"
     },
     "output_type": "display_data"
    },
    {
     "name": "stdout",
     "output_type": "stream",
     "text": [
      "Skewness: 0.905281\n",
      "Kurtosis: 0.297117\n"
     ]
    }
   ],
   "source": [
    "from scipy.stats import norm\n",
    "from scipy.stats import skew\n",
    "from scipy import stats\n",
    "# Plot Histogram\n",
    "Y = Y.reshape((-1,))\n",
    "sns.distplot(Y , fit=norm);\n",
    "\n",
    "# Get the fitted parameters used by the function\n",
    "(mu, sigma) = norm.fit(Y)\n",
    "print( '\\n mu = {:.2f} and sigma = {:.2f}\\n'.format(mu, sigma))\n",
    "plt.legend(['Normal dist. ($\\mu=$ {:.2f} and $\\sigma=$ {:.2f} )'.format(mu, sigma)],\n",
    "            loc='best')\n",
    "plt.ylabel('Frequency')\n",
    "plt.title('SalePrice distribution')\n",
    "\n",
    "fig = plt.figure()\n",
    "res = stats.probplot(Y, plot=plt)\n",
    "plt.show()\n",
    "\n",
    "Y = pd.DataFrame(Y)\n",
    "print(\"Skewness: %f\" % Y.skew())\n",
    "print(\"Kurtosis: %f\" % Y.kurt())"
   ]
  },
  {
   "cell_type": "code",
   "execution_count": 28,
   "id": "3351f0a7",
   "metadata": {},
   "outputs": [
    {
     "name": "stderr",
     "output_type": "stream",
     "text": [
      "C:\\Ana\\lib\\site-packages\\seaborn\\distributions.py:2557: FutureWarning: `distplot` is a deprecated function and will be removed in a future version. Please adapt your code to use either `displot` (a figure-level function with similar flexibility) or `histplot` (an axes-level function for histograms).\n",
      "  warnings.warn(msg, FutureWarning)\n"
     ]
    },
    {
     "name": "stdout",
     "output_type": "stream",
     "text": [
      "\n",
      " mu = 9.90 and sigma = 2.98\n",
      "\n"
     ]
    },
    {
     "data": {
      "image/png": "[encoded data removed]",
      "text/plain": [
       "<Figure size 432x288 with 1 Axes>"
      ]
     },
     "metadata": {
      "needs_background": "light"
     },
     "output_type": "display_data"
    },
    {
     "data": {
      "image/png": "[encoded data removed]",
      "text/plain": [
       "<Figure size 432x288 with 1 Axes>"
      ]
     },
     "metadata": {
      "needs_background": "light"
     },
     "output_type": "display_data"
    },
    {
     "name": "stdout",
     "output_type": "stream",
     "text": [
      "Skewness: -0.696521\n",
      "Kurtosis: -0.256001\n"
     ]
    }
   ],
   "source": [
    "Y = df5[\"Price\"].astype('float64')\n",
    "\n",
    "Y = np.array(Y)\n",
    "Y = Y.reshape((-1,1))\n",
    "\n",
    "Y = np.power(Y, 0.25)\n",
    "Y = np.array(Y)\n",
    "Y = Y.reshape((-1,))\n",
    "#Check the new distribution \n",
    "sns.distplot(Y , fit=norm);\n",
    "\n",
    "# Get the fitted parameters used by the function\n",
    "(mu, sigma) = norm.fit(Y)\n",
    "print( '\\n mu = {:.2f} and sigma = {:.2f}\\n'.format(mu, sigma))\n",
    "plt.legend(['Normal dist. ($\\mu=$ {:.2f} and $\\sigma=$ {:.2f} )'.format(mu, sigma)],\n",
    "            loc='best')\n",
    "plt.ylabel('Frequency')\n",
    "plt.title('SalePrice distribution')\n",
    "\n",
    "fig = plt.figure()\n",
    "res = stats.probplot(Y, plot=plt)\n",
    "plt.show()\n",
    "Y = pd.DataFrame(Y)\n",
    "print(\"Skewness: %f\" % Y.skew())\n",
    "print(\"Kurtosis: %f\" % Y.kurt())"
   ]
  },
  {
   "cell_type": "code",
   "execution_count": 124,
   "id": "4d33c967",
   "metadata": {},
   "outputs": [
    {
     "name": "stderr",
     "output_type": "stream",
     "text": [
      "<ipython-input-124-2315aad57c4d>:11: DataConversionWarning: A column-vector y was passed when a 1d array was expected. Please change the shape of y to (n_samples,), for example using ravel().\n",
      "  model3.fit(x_train, y_train)\n"
     ]
    },
    {
     "name": "stdout",
     "output_type": "stream",
     "text": [
      "0.7092357901219781\n",
      "\n",
      "\n",
      "Test set error:  0.3910412350469913\n",
      "Train set error:  0.2118935580607073\n"
     ]
    }
   ],
   "source": [
    "scaler = StandardScaler()\n",
    "scaler2 = StandardScaler()\n",
    "\n",
    "y = scaler2.fit_transform(Y)\n",
    "\n",
    "\n",
    "x = scaler.fit_transform(X)\n",
    "################################################ CHECK FOR yyyyyyyyyyyyyyyyyy\n",
    "x_train, x_test, y_train, y_test = train_test_split(x,y, train_size = 0.75, random_state = 7)\n",
    "\n",
    "model3.fit(x_train, y_train)\n",
    "y_pred = model3.predict(x_test)\n",
    "train_pred = model3.predict(x_train)\n",
    "\n",
    "\n",
    "y_pred = scaler2.inverse_transform(y_pred)\n",
    "train_pred = scaler2.inverse_transform(train_pred)\n",
    "y_test = scaler2.inverse_transform(y_test)\n",
    "y_train = scaler2.inverse_transform(y_train)\n",
    "train_pred = np.expm1(train_pred)\n",
    "y_pred = np.expm1(y_pred)\n",
    "y_test = np.expm1(y_test)\n",
    "y_train = np.expm1(y_train)\n",
    "\n",
    "\n",
    "test_error = np.sqrt(mean_squared_log_error(y_pred, y_test))\n",
    "train_error = np.sqrt(mean_squared_log_error(train_pred, y_train))\n",
    "print(r2_score(y_pred, y_test))\n",
    "print(\"\\n\")\n",
    "print(\"Test set error: \", test_error)\n",
    "print(\"Train set error: \", train_error)\n"
   ]
  },
  {
   "cell_type": "code",
   "execution_count": null,
   "id": "6745f7a7",
   "metadata": {},
   "outputs": [],
   "source": []
  },
  {
   "cell_type": "code",
   "execution_count": null,
   "id": "0c497e00",
   "metadata": {},
   "outputs": [],
   "source": []
  },
  {
   "cell_type": "code",
   "execution_count": 125,
   "id": "ebb2dac6",
   "metadata": {},
   "outputs": [
    {
     "name": "stderr",
     "output_type": "stream",
     "text": [
      "C:\\Ana\\lib\\site-packages\\seaborn\\_decorators.py:36: FutureWarning: Pass the following variables as keyword args: x, y. From version 0.12, the only valid positional argument will be `data`, and passing other arguments without an explicit keyword will result in an error or misinterpretation.\n",
      "  warnings.warn(\n"
     ]
    },
    {
     "data": {
      "text/plain": [
       "<AxesSubplot:>"
      ]
     },
     "execution_count": 125,
     "metadata": {},
     "output_type": "execute_result"
    },
    {
     "data": {
      "image/png": "[encoded data removed]",
      "text/plain": [
       "<Figure size 432x288 with 1 Axes>"
      ]
     },
     "metadata": {
      "needs_background": "light"
     },
     "output_type": "display_data"
    }
   ],
   "source": [
    "sns.regplot(y_pred, y_test)"
   ]
  },
  {
   "cell_type": "code",
   "execution_count": 126,
   "id": "36eff667",
   "metadata": {},
   "outputs": [
    {
     "name": "stderr",
     "output_type": "stream",
     "text": [
      "C:\\Ana\\lib\\site-packages\\seaborn\\_decorators.py:36: FutureWarning: Pass the following variables as keyword args: x, y. From version 0.12, the only valid positional argument will be `data`, and passing other arguments without an explicit keyword will result in an error or misinterpretation.\n",
      "  warnings.warn(\n"
     ]
    },
    {
     "data": {
      "text/plain": [
       "<AxesSubplot:>"
      ]
     },
     "execution_count": 126,
     "metadata": {},
     "output_type": "execute_result"
    },
    {
     "data": {
      "image/png": "[encoded data removed]",
      "text/plain": [
       "<Figure size 432x288 with 1 Axes>"
      ]
     },
     "metadata": {
      "needs_background": "light"
     },
     "output_type": "display_data"
    }
   ],
   "source": [
    "sns.regplot(train_pred, y_train)"
   ]
  },
  {
   "cell_type": "code",
   "execution_count": null,
   "id": "928871ba",
   "metadata": {},
   "outputs": [],
   "source": []
  },
  {
   "cell_type": "code",
   "execution_count": 132,
   "id": "3aded06c",
   "metadata": {},
   "outputs": [
    {
     "data": {
      "text/html": [
       "<div>\n",
       "<style scoped>\n",
       "    .dataframe tbody tr th:only-of-type {\n",
       "        vertical-align: middle;\n",
       "    }\n",
       "\n",
       "    .dataframe tbody tr th {\n",
       "        vertical-align: top;\n",
       "    }\n",
       "\n",
       "    .dataframe thead th {\n",
       "        text-align: right;\n",
       "    }\n",
       "</style>\n",
       "<table border=\"1\" class=\"dataframe\">\n",
       "  <thead>\n",
       "    <tr style=\"text-align: right;\">\n",
       "      <th></th>\n",
       "      <th>ID</th>\n",
       "      <th>Levy</th>\n",
       "      <th>Manufacturer</th>\n",
       "      <th>Model</th>\n",
       "      <th>Prod. year</th>\n",
       "      <th>Category</th>\n",
       "      <th>Leather interior</th>\n",
       "      <th>Fuel type</th>\n",
       "      <th>Engine volume</th>\n",
       "      <th>Mileage</th>\n",
       "      <th>Cylinders</th>\n",
       "      <th>Gear box type</th>\n",
       "      <th>Drive wheels</th>\n",
       "      <th>Doors</th>\n",
       "      <th>Wheel</th>\n",
       "      <th>Color</th>\n",
       "      <th>Airbags</th>\n",
       "      <th>Price</th>\n",
       "    </tr>\n",
       "  </thead>\n",
       "  <tbody>\n",
       "    <tr>\n",
       "      <th>0</th>\n",
       "      <td>44020629</td>\n",
       "      <td>-</td>\n",
       "      <td>VOLKSWAGEN</td>\n",
       "      <td>Golf</td>\n",
       "      <td>2012</td>\n",
       "      <td>Hatchback</td>\n",
       "      <td>No</td>\n",
       "      <td>Diesel</td>\n",
       "      <td>2.0 Turbo</td>\n",
       "      <td>0 km</td>\n",
       "      <td>4</td>\n",
       "      <td>Manual</td>\n",
       "      <td>Front</td>\n",
       "      <td>02-Mar</td>\n",
       "      <td>Left wheel</td>\n",
       "      <td>Grey</td>\n",
       "      <td>10</td>\n",
       "      <td>NaN</td>\n",
       "    </tr>\n",
       "    <tr>\n",
       "      <th>1</th>\n",
       "      <td>45784798</td>\n",
       "      <td>-</td>\n",
       "      <td>HYUNDAI</td>\n",
       "      <td>Sonata</td>\n",
       "      <td>2012</td>\n",
       "      <td>Sedan</td>\n",
       "      <td>Yes</td>\n",
       "      <td>Petrol</td>\n",
       "      <td>2.4</td>\n",
       "      <td>26000 km</td>\n",
       "      <td>4</td>\n",
       "      <td>Tiptronic</td>\n",
       "      <td>Front</td>\n",
       "      <td>04-May</td>\n",
       "      <td>Left wheel</td>\n",
       "      <td>Grey</td>\n",
       "      <td>10</td>\n",
       "      <td>NaN</td>\n",
       "    </tr>\n",
       "    <tr>\n",
       "      <th>2</th>\n",
       "      <td>45800257</td>\n",
       "      <td>-</td>\n",
       "      <td>NISSAN</td>\n",
       "      <td>Tiida</td>\n",
       "      <td>2005</td>\n",
       "      <td>Sedan</td>\n",
       "      <td>No</td>\n",
       "      <td>Petrol</td>\n",
       "      <td>1.5</td>\n",
       "      <td>168000 km</td>\n",
       "      <td>4</td>\n",
       "      <td>Automatic</td>\n",
       "      <td>Front</td>\n",
       "      <td>04-May</td>\n",
       "      <td>Right-hand drive</td>\n",
       "      <td>Sky blue</td>\n",
       "      <td>8</td>\n",
       "      <td>NaN</td>\n",
       "    </tr>\n",
       "    <tr>\n",
       "      <th>3</th>\n",
       "      <td>45797981</td>\n",
       "      <td>975</td>\n",
       "      <td>VOLVO</td>\n",
       "      <td>XC90</td>\n",
       "      <td>2012</td>\n",
       "      <td>Jeep</td>\n",
       "      <td>Yes</td>\n",
       "      <td>Petrol</td>\n",
       "      <td>3.2</td>\n",
       "      <td>143000 km</td>\n",
       "      <td>6</td>\n",
       "      <td>Automatic</td>\n",
       "      <td>4x4</td>\n",
       "      <td>04-May</td>\n",
       "      <td>Left wheel</td>\n",
       "      <td>Blue</td>\n",
       "      <td>12</td>\n",
       "      <td>NaN</td>\n",
       "    </tr>\n",
       "    <tr>\n",
       "      <th>4</th>\n",
       "      <td>45814303</td>\n",
       "      <td>-</td>\n",
       "      <td>OPEL</td>\n",
       "      <td>Astra</td>\n",
       "      <td>1993</td>\n",
       "      <td>Hatchback</td>\n",
       "      <td>No</td>\n",
       "      <td>Petrol</td>\n",
       "      <td>1.6</td>\n",
       "      <td>200000 km</td>\n",
       "      <td>4</td>\n",
       "      <td>Manual</td>\n",
       "      <td>Front</td>\n",
       "      <td>04-May</td>\n",
       "      <td>Left wheel</td>\n",
       "      <td>Black</td>\n",
       "      <td>0</td>\n",
       "      <td>NaN</td>\n",
       "    </tr>\n",
       "  </tbody>\n",
       "</table>\n",
       "</div>"
      ],
      "text/plain": [
       "         ID Levy Manufacturer   Model  Prod. year   Category Leather interior  \\\n",
       "0  44020629    -   VOLKSWAGEN    Golf        2012  Hatchback               No   \n",
       "1  45784798    -      HYUNDAI  Sonata        2012      Sedan              Yes   \n",
       "2  45800257    -       NISSAN   Tiida        2005      Sedan               No   \n",
       "3  45797981  975        VOLVO    XC90        2012       Jeep              Yes   \n",
       "4  45814303    -         OPEL   Astra        1993  Hatchback               No   \n",
       "\n",
       "  Fuel type Engine volume    Mileage  Cylinders Gear box type Drive wheels  \\\n",
       "0    Diesel     2.0 Turbo       0 km          4        Manual        Front   \n",
       "1    Petrol           2.4   26000 km          4     Tiptronic        Front   \n",
       "2    Petrol           1.5  168000 km          4     Automatic        Front   \n",
       "3    Petrol           3.2  143000 km          6     Automatic          4x4   \n",
       "4    Petrol           1.6  200000 km          4        Manual        Front   \n",
       "\n",
       "    Doors             Wheel     Color  Airbags  Price  \n",
       "0  02-Mar        Left wheel      Grey       10    NaN  \n",
       "1  04-May        Left wheel      Grey       10    NaN  \n",
       "2  04-May  Right-hand drive  Sky blue        8    NaN  \n",
       "3  04-May        Left wheel      Blue       12    NaN  \n",
       "4  04-May        Left wheel     Black        0    NaN  "
      ]
     },
     "execution_count": 132,
     "metadata": {},
     "output_type": "execute_result"
    }
   ],
   "source": [
    "test = pd.read_csv(\"test.csv\")\n",
    "test.head()"
   ]
  },
  {
   "cell_type": "code",
   "execution_count": 133,
   "id": "8ab144e2",
   "metadata": {},
   "outputs": [
    {
     "data": {
      "text/html": [
       "<div>\n",
       "<style scoped>\n",
       "    .dataframe tbody tr th:only-of-type {\n",
       "        vertical-align: middle;\n",
       "    }\n",
       "\n",
       "    .dataframe tbody tr th {\n",
       "        vertical-align: top;\n",
       "    }\n",
       "\n",
       "    .dataframe thead th {\n",
       "        text-align: right;\n",
       "    }\n",
       "</style>\n",
       "<table border=\"1\" class=\"dataframe\">\n",
       "  <thead>\n",
       "    <tr style=\"text-align: right;\">\n",
       "      <th></th>\n",
       "      <th>ID</th>\n",
       "      <th>Levy</th>\n",
       "      <th>Manufacturer</th>\n",
       "      <th>Model</th>\n",
       "      <th>Prod. year</th>\n",
       "      <th>Category</th>\n",
       "      <th>Leather interior</th>\n",
       "      <th>Fuel type</th>\n",
       "      <th>Cylinders</th>\n",
       "      <th>Gear box type</th>\n",
       "      <th>Drive wheels</th>\n",
       "      <th>Doors</th>\n",
       "      <th>Wheel</th>\n",
       "      <th>Color</th>\n",
       "      <th>Airbags</th>\n",
       "      <th>Price</th>\n",
       "      <th>Engine volume</th>\n",
       "      <th>Turbo</th>\n",
       "      <th>Mileage</th>\n",
       "    </tr>\n",
       "  </thead>\n",
       "  <tbody>\n",
       "    <tr>\n",
       "      <th>0</th>\n",
       "      <td>44020629</td>\n",
       "      <td>-</td>\n",
       "      <td>VOLKSWAGEN</td>\n",
       "      <td>Golf</td>\n",
       "      <td>2012</td>\n",
       "      <td>Hatchback</td>\n",
       "      <td>No</td>\n",
       "      <td>Diesel</td>\n",
       "      <td>4</td>\n",
       "      <td>Manual</td>\n",
       "      <td>Front</td>\n",
       "      <td>02-Mar</td>\n",
       "      <td>Left wheel</td>\n",
       "      <td>Grey</td>\n",
       "      <td>10</td>\n",
       "      <td>NaN</td>\n",
       "      <td>2.0</td>\n",
       "      <td>1</td>\n",
       "      <td>0</td>\n",
       "    </tr>\n",
       "    <tr>\n",
       "      <th>1</th>\n",
       "      <td>45784798</td>\n",
       "      <td>-</td>\n",
       "      <td>HYUNDAI</td>\n",
       "      <td>Sonata</td>\n",
       "      <td>2012</td>\n",
       "      <td>Sedan</td>\n",
       "      <td>Yes</td>\n",
       "      <td>Petrol</td>\n",
       "      <td>4</td>\n",
       "      <td>Tiptronic</td>\n",
       "      <td>Front</td>\n",
       "      <td>04-May</td>\n",
       "      <td>Left wheel</td>\n",
       "      <td>Grey</td>\n",
       "      <td>10</td>\n",
       "      <td>NaN</td>\n",
       "      <td>2.4</td>\n",
       "      <td>0</td>\n",
       "      <td>26000</td>\n",
       "    </tr>\n",
       "    <tr>\n",
       "      <th>2</th>\n",
       "      <td>45800257</td>\n",
       "      <td>-</td>\n",
       "      <td>NISSAN</td>\n",
       "      <td>Tiida</td>\n",
       "      <td>2005</td>\n",
       "      <td>Sedan</td>\n",
       "      <td>No</td>\n",
       "      <td>Petrol</td>\n",
       "      <td>4</td>\n",
       "      <td>Automatic</td>\n",
       "      <td>Front</td>\n",
       "      <td>04-May</td>\n",
       "      <td>Right-hand drive</td>\n",
       "      <td>Sky blue</td>\n",
       "      <td>8</td>\n",
       "      <td>NaN</td>\n",
       "      <td>1.5</td>\n",
       "      <td>0</td>\n",
       "      <td>168000</td>\n",
       "    </tr>\n",
       "    <tr>\n",
       "      <th>3</th>\n",
       "      <td>45797981</td>\n",
       "      <td>975</td>\n",
       "      <td>VOLVO</td>\n",
       "      <td>XC90</td>\n",
       "      <td>2012</td>\n",
       "      <td>Jeep</td>\n",
       "      <td>Yes</td>\n",
       "      <td>Petrol</td>\n",
       "      <td>6</td>\n",
       "      <td>Automatic</td>\n",
       "      <td>4x4</td>\n",
       "      <td>04-May</td>\n",
       "      <td>Left wheel</td>\n",
       "      <td>Blue</td>\n",
       "      <td>12</td>\n",
       "      <td>NaN</td>\n",
       "      <td>3.2</td>\n",
       "      <td>0</td>\n",
       "      <td>143000</td>\n",
       "    </tr>\n",
       "    <tr>\n",
       "      <th>4</th>\n",
       "      <td>45814303</td>\n",
       "      <td>-</td>\n",
       "      <td>OPEL</td>\n",
       "      <td>Astra</td>\n",
       "      <td>1993</td>\n",
       "      <td>Hatchback</td>\n",
       "      <td>No</td>\n",
       "      <td>Petrol</td>\n",
       "      <td>4</td>\n",
       "      <td>Manual</td>\n",
       "      <td>Front</td>\n",
       "      <td>04-May</td>\n",
       "      <td>Left wheel</td>\n",
       "      <td>Black</td>\n",
       "      <td>0</td>\n",
       "      <td>NaN</td>\n",
       "      <td>1.6</td>\n",
       "      <td>0</td>\n",
       "      <td>200000</td>\n",
       "    </tr>\n",
       "  </tbody>\n",
       "</table>\n",
       "</div>"
      ],
      "text/plain": [
       "         ID Levy Manufacturer   Model  Prod. year   Category Leather interior  \\\n",
       "0  44020629    -   VOLKSWAGEN    Golf        2012  Hatchback               No   \n",
       "1  45784798    -      HYUNDAI  Sonata        2012      Sedan              Yes   \n",
       "2  45800257    -       NISSAN   Tiida        2005      Sedan               No   \n",
       "3  45797981  975        VOLVO    XC90        2012       Jeep              Yes   \n",
       "4  45814303    -         OPEL   Astra        1993  Hatchback               No   \n",
       "\n",
       "  Fuel type  Cylinders Gear box type Drive wheels   Doors             Wheel  \\\n",
       "0    Diesel          4        Manual        Front  02-Mar        Left wheel   \n",
       "1    Petrol          4     Tiptronic        Front  04-May        Left wheel   \n",
       "2    Petrol          4     Automatic        Front  04-May  Right-hand drive   \n",
       "3    Petrol          6     Automatic          4x4  04-May        Left wheel   \n",
       "4    Petrol          4        Manual        Front  04-May        Left wheel   \n",
       "\n",
       "      Color  Airbags  Price  Engine volume  Turbo  Mileage  \n",
       "0      Grey       10    NaN            2.0      1        0  \n",
       "1      Grey       10    NaN            2.4      0    26000  \n",
       "2  Sky blue        8    NaN            1.5      0   168000  \n",
       "3      Blue       12    NaN            3.2      0   143000  \n",
       "4     Black        0    NaN            1.6      0   200000  "
      ]
     },
     "execution_count": 133,
     "metadata": {},
     "output_type": "execute_result"
    }
   ],
   "source": [
    "test = Eng_Vol2(test)\n",
    "test = mileage(test)\n",
    "test.head()"
   ]
  },
  {
   "cell_type": "code",
   "execution_count": 134,
   "id": "723c7ff1",
   "metadata": {},
   "outputs": [
    {
     "data": {
      "text/html": [
       "<div>\n",
       "<style scoped>\n",
       "    .dataframe tbody tr th:only-of-type {\n",
       "        vertical-align: middle;\n",
       "    }\n",
       "\n",
       "    .dataframe tbody tr th {\n",
       "        vertical-align: top;\n",
       "    }\n",
       "\n",
       "    .dataframe thead th {\n",
       "        text-align: right;\n",
       "    }\n",
       "</style>\n",
       "<table border=\"1\" class=\"dataframe\">\n",
       "  <thead>\n",
       "    <tr style=\"text-align: right;\">\n",
       "      <th></th>\n",
       "      <th>Levy</th>\n",
       "      <th>Prod. year</th>\n",
       "      <th>Cylinders</th>\n",
       "      <th>Airbags</th>\n",
       "      <th>Price</th>\n",
       "      <th>Engine volume</th>\n",
       "      <th>Turbo</th>\n",
       "      <th>Mileage</th>\n",
       "    </tr>\n",
       "  </thead>\n",
       "  <tbody>\n",
       "    <tr>\n",
       "      <th>count</th>\n",
       "      <td>8245.000000</td>\n",
       "      <td>8245.000000</td>\n",
       "      <td>8245.000000</td>\n",
       "      <td>8245.000000</td>\n",
       "      <td>0.0</td>\n",
       "      <td>8245.000000</td>\n",
       "      <td>8245.000000</td>\n",
       "      <td>8.245000e+03</td>\n",
       "    </tr>\n",
       "    <tr>\n",
       "      <th>mean</th>\n",
       "      <td>876.530382</td>\n",
       "      <td>2010.911583</td>\n",
       "      <td>4.618799</td>\n",
       "      <td>6.519102</td>\n",
       "      <td>NaN</td>\n",
       "      <td>2.325045</td>\n",
       "      <td>0.100424</td>\n",
       "      <td>1.318247e+06</td>\n",
       "    </tr>\n",
       "    <tr>\n",
       "      <th>std</th>\n",
       "      <td>375.548134</td>\n",
       "      <td>5.548762</td>\n",
       "      <td>1.817581</td>\n",
       "      <td>4.350323</td>\n",
       "      <td>NaN</td>\n",
       "      <td>0.889286</td>\n",
       "      <td>0.300583</td>\n",
       "      <td>4.776089e+07</td>\n",
       "    </tr>\n",
       "    <tr>\n",
       "      <th>min</th>\n",
       "      <td>87.000000</td>\n",
       "      <td>1943.000000</td>\n",
       "      <td>1.000000</td>\n",
       "      <td>0.000000</td>\n",
       "      <td>NaN</td>\n",
       "      <td>0.000000</td>\n",
       "      <td>0.000000</td>\n",
       "      <td>0.000000e+00</td>\n",
       "    </tr>\n",
       "    <tr>\n",
       "      <th>25%</th>\n",
       "      <td>730.000000</td>\n",
       "      <td>2009.000000</td>\n",
       "      <td>4.000000</td>\n",
       "      <td>4.000000</td>\n",
       "      <td>NaN</td>\n",
       "      <td>1.800000</td>\n",
       "      <td>0.000000</td>\n",
       "      <td>7.155100e+04</td>\n",
       "    </tr>\n",
       "    <tr>\n",
       "      <th>50%</th>\n",
       "      <td>779.000000</td>\n",
       "      <td>2012.000000</td>\n",
       "      <td>4.000000</td>\n",
       "      <td>6.000000</td>\n",
       "      <td>NaN</td>\n",
       "      <td>2.000000</td>\n",
       "      <td>0.000000</td>\n",
       "      <td>1.276750e+05</td>\n",
       "    </tr>\n",
       "    <tr>\n",
       "      <th>75%</th>\n",
       "      <td>919.000000</td>\n",
       "      <td>2014.000000</td>\n",
       "      <td>4.000000</td>\n",
       "      <td>12.000000</td>\n",
       "      <td>NaN</td>\n",
       "      <td>2.500000</td>\n",
       "      <td>0.000000</td>\n",
       "      <td>1.920000e+05</td>\n",
       "    </tr>\n",
       "    <tr>\n",
       "      <th>max</th>\n",
       "      <td>7528.000000</td>\n",
       "      <td>2020.000000</td>\n",
       "      <td>127.000000</td>\n",
       "      <td>16.000000</td>\n",
       "      <td>NaN</td>\n",
       "      <td>10.800000</td>\n",
       "      <td>1.000000</td>\n",
       "      <td>2.147484e+09</td>\n",
       "    </tr>\n",
       "  </tbody>\n",
       "</table>\n",
       "</div>"
      ],
      "text/plain": [
       "              Levy   Prod. year    Cylinders      Airbags  Price  \\\n",
       "count  8245.000000  8245.000000  8245.000000  8245.000000    0.0   \n",
       "mean    876.530382  2010.911583     4.618799     6.519102    NaN   \n",
       "std     375.548134     5.548762     1.817581     4.350323    NaN   \n",
       "min      87.000000  1943.000000     1.000000     0.000000    NaN   \n",
       "25%     730.000000  2009.000000     4.000000     4.000000    NaN   \n",
       "50%     779.000000  2012.000000     4.000000     6.000000    NaN   \n",
       "75%     919.000000  2014.000000     4.000000    12.000000    NaN   \n",
       "max    7528.000000  2020.000000   127.000000    16.000000    NaN   \n",
       "\n",
       "       Engine volume        Turbo       Mileage  \n",
       "count    8245.000000  8245.000000  8.245000e+03  \n",
       "mean        2.325045     0.100424  1.318247e+06  \n",
       "std         0.889286     0.300583  4.776089e+07  \n",
       "min         0.000000     0.000000  0.000000e+00  \n",
       "25%         1.800000     0.000000  7.155100e+04  \n",
       "50%         2.000000     0.000000  1.276750e+05  \n",
       "75%         2.500000     0.000000  1.920000e+05  \n",
       "max        10.800000     1.000000  2.147484e+09  "
      ]
     },
     "execution_count": 134,
     "metadata": {},
     "output_type": "execute_result"
    }
   ],
   "source": [
    "test.drop(columns = \"ID\", inplace = True)\n",
    "test[\"Levy\"].replace(to_replace='-', value = np.nan, inplace = True)\n",
    "test[\"Levy\"] = pd.to_numeric(test[\"Levy\"])\n",
    "test[\"Levy\"].fillna(Levy_median, inplace = True )\n",
    "\n",
    "test.describe()"
   ]
  },
  {
   "cell_type": "code",
   "execution_count": 135,
   "id": "46a252a2",
   "metadata": {},
   "outputs": [
    {
     "data": {
      "text/plain": [
       "(8245, 18)"
      ]
     },
     "execution_count": 135,
     "metadata": {},
     "output_type": "execute_result"
    }
   ],
   "source": [
    "#test = test[test[\"Levy\"]<6000]\n",
    "#df2 = df2[df2[\"Levy\"]>250]\n",
    "\n",
    "levy = []\n",
    "#levy_max = df2.Levy.mean() + (3* df2.Levy.std())\n",
    "#levy_min = df2.Levy.mean()  (3* df2.Levy.std())\n",
    "for l in test[\"Levy\"]:\n",
    "    if l>2000:\n",
    "        levy.append(levy_max)\n",
    "    else:\n",
    "        levy.append(l)\n",
    "        \n",
    "test.drop(columns = \"Levy\", inplace = True)\n",
    "test[\"Levy\"] = levy\n",
    "test.shape"
   ]
  },
  {
   "cell_type": "code",
   "execution_count": 155,
   "id": "570ab07e",
   "metadata": {},
   "outputs": [],
   "source": [
    "cylinders = []\n",
    "for cyl in test[\"Cylinders\"]:\n",
    "    if ((cyl == 7.0) | (cyl==9.0) | (cyl>12.0)):\n",
    "        cylinders.append(cyl_median)\n",
    "    else:\n",
    "        cylinders.append(cyl_median)\n",
    "\n",
    "test.drop(columns = \"Cylinders\", inplace = True)\n",
    "test[\"Cylinders\"] = cylinders"
   ]
  },
  {
   "cell_type": "code",
   "execution_count": 156,
   "id": "9ee69513",
   "metadata": {},
   "outputs": [
    {
     "data": {
      "text/plain": [
       "(8245, 18)"
      ]
     },
     "execution_count": 156,
     "metadata": {},
     "output_type": "execute_result"
    }
   ],
   "source": [
    "E_V = []\n",
    "\n",
    "for EV in test[\"Engine volume\"]:\n",
    "    if EV > 5.0:\n",
    "        E_V.append(5.0)\n",
    "    else:\n",
    "        E_V.append(EV)\n",
    "\n",
    "test.drop(columns = \"Engine volume\", inplace = True)\n",
    "test[\"Engine volume\"] = E_V\n",
    "test.shape"
   ]
  },
  {
   "cell_type": "code",
   "execution_count": 157,
   "id": "4b53ea38",
   "metadata": {},
   "outputs": [],
   "source": [
    "#Dropping Mileage\n",
    "\n",
    "test.drop(columns = \"Mileage\", inplace = True)"
   ]
  },
  {
   "cell_type": "code",
   "execution_count": null,
   "id": "524c976c",
   "metadata": {},
   "outputs": [],
   "source": []
  },
  {
   "cell_type": "code",
   "execution_count": 158,
   "id": "ea464b3f",
   "metadata": {
    "scrolled": true
   },
   "outputs": [
    {
     "data": {
      "text/html": [
       "<div>\n",
       "<style scoped>\n",
       "    .dataframe tbody tr th:only-of-type {\n",
       "        vertical-align: middle;\n",
       "    }\n",
       "\n",
       "    .dataframe tbody tr th {\n",
       "        vertical-align: top;\n",
       "    }\n",
       "\n",
       "    .dataframe thead th {\n",
       "        text-align: right;\n",
       "    }\n",
       "</style>\n",
       "<table border=\"1\" class=\"dataframe\">\n",
       "  <thead>\n",
       "    <tr style=\"text-align: right;\">\n",
       "      <th></th>\n",
       "      <th>Prod. year</th>\n",
       "      <th>Leather interior</th>\n",
       "      <th>Airbags</th>\n",
       "      <th>Turbo</th>\n",
       "      <th>Levy</th>\n",
       "      <th>Cylinders</th>\n",
       "      <th>Engine volume</th>\n",
       "      <th>Model_enc</th>\n",
       "      <th>Color_enc</th>\n",
       "      <th>Manufacturer_enc</th>\n",
       "      <th>...</th>\n",
       "      <th>Gear box type_Tiptronic</th>\n",
       "      <th>Gear box type_Variator</th>\n",
       "      <th>Drive wheels_4x4</th>\n",
       "      <th>Drive wheels_Front</th>\n",
       "      <th>Drive wheels_Rear</th>\n",
       "      <th>Doors_02-Mar</th>\n",
       "      <th>Doors_04-May</th>\n",
       "      <th>Doors_&gt;5</th>\n",
       "      <th>Wheel_Left wheel</th>\n",
       "      <th>Wheel_Right-hand drive</th>\n",
       "    </tr>\n",
       "  </thead>\n",
       "  <tbody>\n",
       "    <tr>\n",
       "      <th>0</th>\n",
       "      <td>2012</td>\n",
       "      <td>0</td>\n",
       "      <td>10</td>\n",
       "      <td>1</td>\n",
       "      <td>779.0</td>\n",
       "      <td>4.0</td>\n",
       "      <td>2.0</td>\n",
       "      <td>4704.0</td>\n",
       "      <td>17249.0</td>\n",
       "      <td>12544.0</td>\n",
       "      <td>...</td>\n",
       "      <td>0</td>\n",
       "      <td>0</td>\n",
       "      <td>0</td>\n",
       "      <td>1</td>\n",
       "      <td>0</td>\n",
       "      <td>1</td>\n",
       "      <td>0</td>\n",
       "      <td>0</td>\n",
       "      <td>1</td>\n",
       "      <td>0</td>\n",
       "    </tr>\n",
       "    <tr>\n",
       "      <th>1</th>\n",
       "      <td>2012</td>\n",
       "      <td>1</td>\n",
       "      <td>10</td>\n",
       "      <td>0</td>\n",
       "      <td>779.0</td>\n",
       "      <td>4.0</td>\n",
       "      <td>2.4</td>\n",
       "      <td>12544.0</td>\n",
       "      <td>17249.0</td>\n",
       "      <td>18240.0</td>\n",
       "      <td>...</td>\n",
       "      <td>1</td>\n",
       "      <td>0</td>\n",
       "      <td>0</td>\n",
       "      <td>1</td>\n",
       "      <td>0</td>\n",
       "      <td>0</td>\n",
       "      <td>1</td>\n",
       "      <td>0</td>\n",
       "      <td>1</td>\n",
       "      <td>0</td>\n",
       "    </tr>\n",
       "    <tr>\n",
       "      <th>2</th>\n",
       "      <td>2005</td>\n",
       "      <td>0</td>\n",
       "      <td>8</td>\n",
       "      <td>0</td>\n",
       "      <td>779.0</td>\n",
       "      <td>4.0</td>\n",
       "      <td>1.5</td>\n",
       "      <td>8467.0</td>\n",
       "      <td>13900.0</td>\n",
       "      <td>8781.0</td>\n",
       "      <td>...</td>\n",
       "      <td>0</td>\n",
       "      <td>0</td>\n",
       "      <td>0</td>\n",
       "      <td>1</td>\n",
       "      <td>0</td>\n",
       "      <td>0</td>\n",
       "      <td>1</td>\n",
       "      <td>0</td>\n",
       "      <td>0</td>\n",
       "      <td>1</td>\n",
       "    </tr>\n",
       "    <tr>\n",
       "      <th>3</th>\n",
       "      <td>2012</td>\n",
       "      <td>1</td>\n",
       "      <td>12</td>\n",
       "      <td>0</td>\n",
       "      <td>975.0</td>\n",
       "      <td>4.0</td>\n",
       "      <td>3.2</td>\n",
       "      <td>15056.0</td>\n",
       "      <td>11290.0</td>\n",
       "      <td>9100.0</td>\n",
       "      <td>...</td>\n",
       "      <td>0</td>\n",
       "      <td>0</td>\n",
       "      <td>1</td>\n",
       "      <td>0</td>\n",
       "      <td>0</td>\n",
       "      <td>0</td>\n",
       "      <td>1</td>\n",
       "      <td>0</td>\n",
       "      <td>1</td>\n",
       "      <td>0</td>\n",
       "    </tr>\n",
       "    <tr>\n",
       "      <th>4</th>\n",
       "      <td>1993</td>\n",
       "      <td>0</td>\n",
       "      <td>0</td>\n",
       "      <td>0</td>\n",
       "      <td>779.0</td>\n",
       "      <td>4.0</td>\n",
       "      <td>1.6</td>\n",
       "      <td>6586.0</td>\n",
       "      <td>15053.0</td>\n",
       "      <td>6586.0</td>\n",
       "      <td>...</td>\n",
       "      <td>0</td>\n",
       "      <td>0</td>\n",
       "      <td>0</td>\n",
       "      <td>1</td>\n",
       "      <td>0</td>\n",
       "      <td>0</td>\n",
       "      <td>1</td>\n",
       "      <td>0</td>\n",
       "      <td>1</td>\n",
       "      <td>0</td>\n",
       "    </tr>\n",
       "  </tbody>\n",
       "</table>\n",
       "<p>5 rows × 40 columns</p>\n",
       "</div>"
      ],
      "text/plain": [
       "   Prod. year  Leather interior  Airbags  Turbo   Levy  Cylinders  \\\n",
       "0        2012                 0       10      1  779.0        4.0   \n",
       "1        2012                 1       10      0  779.0        4.0   \n",
       "2        2005                 0        8      0  779.0        4.0   \n",
       "3        2012                 1       12      0  975.0        4.0   \n",
       "4        1993                 0        0      0  779.0        4.0   \n",
       "\n",
       "   Engine volume  Model_enc  Color_enc  Manufacturer_enc  ...  \\\n",
       "0            2.0     4704.0    17249.0           12544.0  ...   \n",
       "1            2.4    12544.0    17249.0           18240.0  ...   \n",
       "2            1.5     8467.0    13900.0            8781.0  ...   \n",
       "3            3.2    15056.0    11290.0            9100.0  ...   \n",
       "4            1.6     6586.0    15053.0            6586.0  ...   \n",
       "\n",
       "   Gear box type_Tiptronic  Gear box type_Variator  Drive wheels_4x4  \\\n",
       "0                        0                       0                 0   \n",
       "1                        1                       0                 0   \n",
       "2                        0                       0                 0   \n",
       "3                        0                       0                 1   \n",
       "4                        0                       0                 0   \n",
       "\n",
       "   Drive wheels_Front  Drive wheels_Rear  Doors_02-Mar  Doors_04-May  \\\n",
       "0                   1                  0             1             0   \n",
       "1                   1                  0             0             1   \n",
       "2                   1                  0             0             1   \n",
       "3                   0                  0             0             1   \n",
       "4                   1                  0             0             1   \n",
       "\n",
       "   Doors_>5  Wheel_Left wheel  Wheel_Right-hand drive  \n",
       "0         0                 1                       0  \n",
       "1         0                 1                       0  \n",
       "2         0                 0                       1  \n",
       "3         0                 1                       0  \n",
       "4         0                 1                       0  \n",
       "\n",
       "[5 rows x 40 columns]"
      ]
     },
     "execution_count": 158,
     "metadata": {},
     "output_type": "execute_result"
    }
   ],
   "source": [
    "t = test\n",
    "for var in target_categ:\n",
    "    #encodings = df4.groupby(var)['Price'].median().reset_index()\n",
    "    t = t.merge(tar_enc_dict[var], how='left', on=var)\n",
    "    t.drop(var, axis=1, inplace=True)\n",
    "    t.rename(columns = {\"Price_y\": var + \"_enc\", \"Price_x\": \"Price\"}, inplace = True) \n",
    "\n",
    "t = OneHot_encoding(t, one_hot_categ)\n",
    "#For Leather Interiors\n",
    "t[\"Leather interior\"].replace({\"Yes\":1, \"No\":0}, inplace = True)\n",
    "t.drop(columns = \"Price\", inplace = True)\n",
    "t.head()"
   ]
  },
  {
   "cell_type": "code",
   "execution_count": 159,
   "id": "f1e1d485",
   "metadata": {},
   "outputs": [],
   "source": [
    "model_med = tar_enc_dict[\"Model\"][\"Price\"].median()\n",
    "manufac_med = tar_enc_dict[\"Manufacturer\"][\"Price\"].median()\n",
    "t[\"Model_enc\"] = t[\"Model_enc\"].fillna(model_med)\n",
    "t[\"Manufacturer_enc\"] = t[\"Manufacturer_enc\"].fillna(manufac_med)"
   ]
  },
  {
   "cell_type": "code",
   "execution_count": 160,
   "id": "eab2df5c",
   "metadata": {
    "scrolled": true
   },
   "outputs": [
    {
     "data": {
      "text/plain": [
       "Prod. year                  0\n",
       "Leather interior            0\n",
       "Airbags                     0\n",
       "Turbo                       0\n",
       "Levy                        0\n",
       "Cylinders                   0\n",
       "Engine volume               0\n",
       "Model_enc                   0\n",
       "Color_enc                   0\n",
       "Manufacturer_enc            0\n",
       "Category_Cabriolet          0\n",
       "Category_Coupe              0\n",
       "Category_Goods wagon        0\n",
       "Category_Hatchback          0\n",
       "Category_Jeep               0\n",
       "Category_Limousine          0\n",
       "Category_Microbus           0\n",
       "Category_Minivan            0\n",
       "Category_Pickup             0\n",
       "Category_Sedan              0\n",
       "Category_Universal          0\n",
       "Fuel type_CNG               0\n",
       "Fuel type_Diesel            0\n",
       "Fuel type_Hybrid            0\n",
       "Fuel type_Hydrogen          0\n",
       "Fuel type_LPG               0\n",
       "Fuel type_Petrol            0\n",
       "Fuel type_Plug-in Hybrid    0\n",
       "Gear box type_Automatic     0\n",
       "Gear box type_Manual        0\n",
       "Gear box type_Tiptronic     0\n",
       "Gear box type_Variator      0\n",
       "Drive wheels_4x4            0\n",
       "Drive wheels_Front          0\n",
       "Drive wheels_Rear           0\n",
       "Doors_02-Mar                0\n",
       "Doors_04-May                0\n",
       "Doors_>5                    0\n",
       "Wheel_Left wheel            0\n",
       "Wheel_Right-hand drive      0\n",
       "dtype: int64"
      ]
     },
     "execution_count": 160,
     "metadata": {},
     "output_type": "execute_result"
    }
   ],
   "source": [
    "t.isnull().sum()"
   ]
  },
  {
   "cell_type": "code",
   "execution_count": 162,
   "id": "9e9c3e44",
   "metadata": {},
   "outputs": [],
   "source": [
    "x_t = scaler.transform(t)\n",
    "y_t = model3.predict(x_t)\n",
    "y_p = y_t.reshape((-1,1))\n",
    "y_p = scaler2.inverse_transform(y_p)\n",
    "y_p = np.expm1(y_p)\n",
    "y_p = pd.DataFrame(y_p)"
   ]
  },
  {
   "cell_type": "code",
   "execution_count": 163,
   "id": "5c8bd925",
   "metadata": {},
   "outputs": [
    {
     "data": {
      "text/html": [
       "<div>\n",
       "<style scoped>\n",
       "    .dataframe tbody tr th:only-of-type {\n",
       "        vertical-align: middle;\n",
       "    }\n",
       "\n",
       "    .dataframe tbody tr th {\n",
       "        vertical-align: top;\n",
       "    }\n",
       "\n",
       "    .dataframe thead th {\n",
       "        text-align: right;\n",
       "    }\n",
       "</style>\n",
       "<table border=\"1\" class=\"dataframe\">\n",
       "  <thead>\n",
       "    <tr style=\"text-align: right;\">\n",
       "      <th></th>\n",
       "      <th>0</th>\n",
       "    </tr>\n",
       "  </thead>\n",
       "  <tbody>\n",
       "    <tr>\n",
       "      <th>0</th>\n",
       "      <td>2811.385753</td>\n",
       "    </tr>\n",
       "    <tr>\n",
       "      <th>1</th>\n",
       "      <td>7077.262447</td>\n",
       "    </tr>\n",
       "    <tr>\n",
       "      <th>2</th>\n",
       "      <td>5266.613810</td>\n",
       "    </tr>\n",
       "    <tr>\n",
       "      <th>3</th>\n",
       "      <td>6290.002675</td>\n",
       "    </tr>\n",
       "    <tr>\n",
       "      <th>4</th>\n",
       "      <td>3873.892570</td>\n",
       "    </tr>\n",
       "    <tr>\n",
       "      <th>...</th>\n",
       "      <td>...</td>\n",
       "    </tr>\n",
       "    <tr>\n",
       "      <th>8240</th>\n",
       "      <td>4640.418305</td>\n",
       "    </tr>\n",
       "    <tr>\n",
       "      <th>8241</th>\n",
       "      <td>7290.681887</td>\n",
       "    </tr>\n",
       "    <tr>\n",
       "      <th>8242</th>\n",
       "      <td>25217.775544</td>\n",
       "    </tr>\n",
       "    <tr>\n",
       "      <th>8243</th>\n",
       "      <td>4431.430488</td>\n",
       "    </tr>\n",
       "    <tr>\n",
       "      <th>8244</th>\n",
       "      <td>4388.201551</td>\n",
       "    </tr>\n",
       "  </tbody>\n",
       "</table>\n",
       "<p>8245 rows × 1 columns</p>\n",
       "</div>"
      ],
      "text/plain": [
       "                 0\n",
       "0      2811.385753\n",
       "1      7077.262447\n",
       "2      5266.613810\n",
       "3      6290.002675\n",
       "4      3873.892570\n",
       "...            ...\n",
       "8240   4640.418305\n",
       "8241   7290.681887\n",
       "8242  25217.775544\n",
       "8243   4431.430488\n",
       "8244   4388.201551\n",
       "\n",
       "[8245 rows x 1 columns]"
      ]
     },
     "execution_count": 163,
     "metadata": {},
     "output_type": "execute_result"
    }
   ],
   "source": [
    "y_p"
   ]
  },
  {
   "cell_type": "code",
   "execution_count": 164,
   "id": "1c405aca",
   "metadata": {},
   "outputs": [],
   "source": [
    "y_p.to_csv(\"submission7.csv\", header = [\"Price\"], index = False)"
   ]
  },
  {
   "cell_type": "code",
   "execution_count": 228,
   "id": "bdaf7302",
   "metadata": {},
   "outputs": [
    {
     "data": {
      "text/html": [
       "<div>\n",
       "<style scoped>\n",
       "    .dataframe tbody tr th:only-of-type {\n",
       "        vertical-align: middle;\n",
       "    }\n",
       "\n",
       "    .dataframe tbody tr th {\n",
       "        vertical-align: top;\n",
       "    }\n",
       "\n",
       "    .dataframe thead th {\n",
       "        text-align: right;\n",
       "    }\n",
       "</style>\n",
       "<table border=\"1\" class=\"dataframe\">\n",
       "  <thead>\n",
       "    <tr style=\"text-align: right;\">\n",
       "      <th></th>\n",
       "      <th>Levy</th>\n",
       "      <th>Manufacturer</th>\n",
       "      <th>Model</th>\n",
       "      <th>Prod. year</th>\n",
       "      <th>Category</th>\n",
       "      <th>Leather interior</th>\n",
       "      <th>Fuel type</th>\n",
       "      <th>Cylinders</th>\n",
       "      <th>Gear box type</th>\n",
       "      <th>Drive wheels</th>\n",
       "      <th>Doors</th>\n",
       "      <th>Wheel</th>\n",
       "      <th>Color</th>\n",
       "      <th>Airbags</th>\n",
       "      <th>Price</th>\n",
       "      <th>Engine volume</th>\n",
       "      <th>Turbo</th>\n",
       "      <th>Mileage</th>\n",
       "    </tr>\n",
       "  </thead>\n",
       "  <tbody>\n",
       "    <tr>\n",
       "      <th>2689</th>\n",
       "      <td>702.0</td>\n",
       "      <td>CHEVROLET</td>\n",
       "      <td>Captiva</td>\n",
       "      <td>2014</td>\n",
       "      <td>Jeep</td>\n",
       "      <td>Yes</td>\n",
       "      <td>Diesel</td>\n",
       "      <td>127</td>\n",
       "      <td>Automatic</td>\n",
       "      <td>Front</td>\n",
       "      <td>04-May</td>\n",
       "      <td>Left wheel</td>\n",
       "      <td>White</td>\n",
       "      <td>4</td>\n",
       "      <td>NaN</td>\n",
       "      <td>2.2</td>\n",
       "      <td>0</td>\n",
       "      <td>49643</td>\n",
       "    </tr>\n",
       "    <tr>\n",
       "      <th>6021</th>\n",
       "      <td>562.0</td>\n",
       "      <td>VOLKSWAGEN</td>\n",
       "      <td>Jetta</td>\n",
       "      <td>2015</td>\n",
       "      <td>Sedan</td>\n",
       "      <td>No</td>\n",
       "      <td>Petrol</td>\n",
       "      <td>15</td>\n",
       "      <td>Automatic</td>\n",
       "      <td>Front</td>\n",
       "      <td>04-May</td>\n",
       "      <td>Left wheel</td>\n",
       "      <td>White</td>\n",
       "      <td>10</td>\n",
       "      <td>NaN</td>\n",
       "      <td>1.4</td>\n",
       "      <td>1</td>\n",
       "      <td>23000</td>\n",
       "    </tr>\n",
       "  </tbody>\n",
       "</table>\n",
       "</div>"
      ],
      "text/plain": [
       "       Levy Manufacturer    Model  Prod. year Category Leather interior  \\\n",
       "2689  702.0    CHEVROLET  Captiva        2014     Jeep              Yes   \n",
       "6021  562.0   VOLKSWAGEN    Jetta        2015    Sedan               No   \n",
       "\n",
       "     Fuel type  Cylinders Gear box type Drive wheels   Doors       Wheel  \\\n",
       "2689    Diesel        127     Automatic        Front  04-May  Left wheel   \n",
       "6021    Petrol         15     Automatic        Front  04-May  Left wheel   \n",
       "\n",
       "      Color  Airbags  Price  Engine volume  Turbo  Mileage  \n",
       "2689  White        4    NaN            2.2      0    49643  \n",
       "6021  White       10    NaN            1.4      1    23000  "
      ]
     },
     "execution_count": 228,
     "metadata": {},
     "output_type": "execute_result"
    }
   ],
   "source": [
    "test[test[\"Cylinders\"]>12]"
   ]
  },
  {
   "cell_type": "code",
   "execution_count": 72,
   "id": "9cced30d",
   "metadata": {},
   "outputs": [
    {
     "name": "stderr",
     "output_type": "stream",
     "text": [
      "<ipython-input-72-35995b1b106f>:18: DataConversionWarning: A column-vector y was passed when a 1d array was expected. Please change the shape of y to (n_samples,), for example using ravel().\n",
      "  model3.fit(x_train, y_train)\n"
     ]
    },
    {
     "name": "stdout",
     "output_type": "stream",
     "text": [
      "0.7434069484788599\n",
      "\n",
      "\n",
      "Test set error:  0.5384973939093521\n",
      "Train set error:  0.3241850947424971\n"
     ]
    }
   ],
   "source": [
    "#df5 = df4.drop(columns = [\"Cylinders\", \"Drive wheels_enc\"], axis=1)\n",
    "df5 = df4\n",
    "Y = df5[\"Price\"].astype('float64')\n",
    "X = df5.drop(columns = \"Price\", axis = 1)\n",
    "\n",
    "RS = RobustScaler()\n",
    "RS2 = RobustScaler()\n",
    "Y = np.array(Y)\n",
    "Y = Y.reshape((-1,1))\n",
    "y = RS2.fit_transform(Y)\n",
    "\n",
    "\n",
    "RS.fit(X)\n",
    "x = RS.transform(X)\n",
    "\n",
    "x_train, x_test, y_train, y_test = train_test_split(x,y, train_size = 0.75, random_state = 7)\n",
    "\n",
    "model3.fit(x_train, y_train)\n",
    "y_pred = model3.predict(x_test)\n",
    "train_pred = model3.predict(x_train)\n",
    "\n",
    "y_pred = y_pred.reshape((-1,1))\n",
    "y_pred = RS2.inverse_transform(y_pred)\n",
    "train_pred = train_pred.reshape((-1,1))\n",
    "train_pred = RS2.inverse_transform(train_pred)\n",
    "y_test = RS2.inverse_transform(y_test)\n",
    "y_train = RS2.inverse_transform(y_train)\n",
    "\n",
    "\n",
    "test_error = np.sqrt(mean_squared_log_error(y_pred, y_test))\n",
    "train_error = np.sqrt(mean_squared_log_error(train_pred, y_train))\n",
    "print(r2_score(y_pred, y_test))\n",
    "print(\"\\n\")\n",
    "print(\"Test set error: \", test_error)\n",
    "print(\"Train set error: \", train_error)\n"
   ]
  },
  {
   "cell_type": "code",
   "execution_count": 32,
   "id": "480131f6",
   "metadata": {},
   "outputs": [],
   "source": [
    "x_t = RS.transform(t)\n",
    "y_t = model3.predict(x_t)\n",
    "y_p = y_t.reshape((-1,1))\n",
    "y_p = RS2.inverse_transform(y_p)\n",
    "y_p = pd.DataFrame(y_p)"
   ]
  },
  {
   "cell_type": "code",
   "execution_count": 33,
   "id": "9ca07d0e",
   "metadata": {},
   "outputs": [
    {
     "data": {
      "text/html": [
       "<div>\n",
       "<style scoped>\n",
       "    .dataframe tbody tr th:only-of-type {\n",
       "        vertical-align: middle;\n",
       "    }\n",
       "\n",
       "    .dataframe tbody tr th {\n",
       "        vertical-align: top;\n",
       "    }\n",
       "\n",
       "    .dataframe thead th {\n",
       "        text-align: right;\n",
       "    }\n",
       "</style>\n",
       "<table border=\"1\" class=\"dataframe\">\n",
       "  <thead>\n",
       "    <tr style=\"text-align: right;\">\n",
       "      <th></th>\n",
       "      <th>0</th>\n",
       "    </tr>\n",
       "  </thead>\n",
       "  <tbody>\n",
       "    <tr>\n",
       "      <th>0</th>\n",
       "      <td>2.349182e+08</td>\n",
       "    </tr>\n",
       "    <tr>\n",
       "      <th>1</th>\n",
       "      <td>2.121075e+08</td>\n",
       "    </tr>\n",
       "    <tr>\n",
       "      <th>2</th>\n",
       "      <td>1.303049e+08</td>\n",
       "    </tr>\n",
       "    <tr>\n",
       "      <th>3</th>\n",
       "      <td>5.726618e+07</td>\n",
       "    </tr>\n",
       "    <tr>\n",
       "      <th>4</th>\n",
       "      <td>7.888170e+07</td>\n",
       "    </tr>\n",
       "    <tr>\n",
       "      <th>...</th>\n",
       "      <td>...</td>\n",
       "    </tr>\n",
       "    <tr>\n",
       "      <th>8240</th>\n",
       "      <td>1.757886e+08</td>\n",
       "    </tr>\n",
       "    <tr>\n",
       "      <th>8241</th>\n",
       "      <td>3.039907e+08</td>\n",
       "    </tr>\n",
       "    <tr>\n",
       "      <th>8242</th>\n",
       "      <td>8.687230e+06</td>\n",
       "    </tr>\n",
       "    <tr>\n",
       "      <th>8243</th>\n",
       "      <td>6.789486e+08</td>\n",
       "    </tr>\n",
       "    <tr>\n",
       "      <th>8244</th>\n",
       "      <td>2.390371e+07</td>\n",
       "    </tr>\n",
       "  </tbody>\n",
       "</table>\n",
       "<p>8245 rows × 1 columns</p>\n",
       "</div>"
      ],
      "text/plain": [
       "                 0\n",
       "0     2.349182e+08\n",
       "1     2.121075e+08\n",
       "2     1.303049e+08\n",
       "3     5.726618e+07\n",
       "4     7.888170e+07\n",
       "...            ...\n",
       "8240  1.757886e+08\n",
       "8241  3.039907e+08\n",
       "8242  8.687230e+06\n",
       "8243  6.789486e+08\n",
       "8244  2.390371e+07\n",
       "\n",
       "[8245 rows x 1 columns]"
      ]
     },
     "execution_count": 33,
     "metadata": {},
     "output_type": "execute_result"
    }
   ],
   "source": [
    "y_p"
   ]
  },
  {
   "cell_type": "code",
   "execution_count": null,
   "id": "626077a9",
   "metadata": {},
   "outputs": [],
   "source": []
  }
 ],
 "metadata": {
  "kernelspec": {
   "display_name": "Python 3",
   "language": "python",
   "name": "python3"
  },
  "language_info": {
   "codemirror_mode": {
    "name": "ipython",
    "version": 3
   },
   "file_extension": ".py",
   "mimetype": "text/x-python",
   "name": "python",
   "nbconvert_exporter": "python",
   "pygments_lexer": "ipython3",
   "version": "3.8.8"
  }
 },
 "nbformat": 4,
 "nbformat_minor": 5
}
